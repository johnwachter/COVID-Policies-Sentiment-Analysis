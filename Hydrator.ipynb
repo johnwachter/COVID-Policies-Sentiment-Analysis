{
 "cells": [
  {
   "cell_type": "markdown",
   "metadata": {},
   "source": [
    "# Hydrating Twitter IDs!\n",
    "#### More information on the Twitter IDs and the Twarc package can be found in the Sources section"
   ]
  },
  {
   "cell_type": "code",
   "execution_count": 1,
   "metadata": {},
   "outputs": [
    {
     "name": "stderr",
     "output_type": "stream",
     "text": [
      "C:\\Users\\John\\Anaconda3\\lib\\site-packages\\past\\builtins\\misc.py:4: DeprecationWarning: Using or importing the ABCs from 'collections' instead of from 'collections.abc' is deprecated, and in 3.8 it will stop working\n",
      "  from collections import Mapping\n"
     ]
    }
   ],
   "source": [
    "# Read in necessary libraries and Packages\n",
    "import os\n",
    "import pandas as pd\n",
    "import json\n",
    "import numpy as np\n",
    "import matplotlib.pyplot as plt\n",
    "from shapely.geometry import Point, Polygon\n",
    "import geopandas as gpd\n",
    "from pygeocoder import Geocoder\n",
    "import reverse_geocoder as rg \n",
    "import pprint\n",
    "from twarc import Twarc\n",
    "\n",
    "# Text processing and LDA\n",
    "from nltk.corpus import stopwords\n",
    "from nltk.stem import PorterStemmer\n",
    "from nltk.stem.snowball import EnglishStemmer\n",
    "from nltk.stem.lancaster import LancasterStemmer\n",
    "\n",
    "from sklearn.feature_extraction.text import CountVectorizer\n",
    "\n",
    "from sklearn.decomposition import LatentDirichletAllocation as LDA\n",
    "\n",
    "import pyLDAvis\n",
    "import pyLDAvis.sklearn"
   ]
  },
  {
   "cell_type": "code",
   "execution_count": null,
   "metadata": {},
   "outputs": [],
   "source": [
    "# # Pass in credentials so I can connect to API\n",
    "# t = Twarc('HV2haozYztEHhD38iASch50lL', \n",
    "#           'XPaRlEkbZjnK5CLEW6pXmDzdKi5Bs3df4rFW9krmNJTg5YYPri',\n",
    "#           '979782709298868224-Jw93XDCp5uzuKsD2kuQABD0QwdwnIb2', \n",
    "#           'duMEIGT0m1HhNLicPRS3m3eKgJ7FimvVX85egBYE7PW64')"
   ]
  },
  {
   "cell_type": "markdown",
   "metadata": {},
   "source": [
    "# -----------------------------------------------------------------------------------------------------\n",
    "# <u>Read in JSON Files and Parse JSON</u>\n",
    "# -----------------------------------------------------------------------------------------------------"
   ]
  },
  {
   "cell_type": "code",
   "execution_count": 50,
   "metadata": {},
   "outputs": [],
   "source": [
    "# The JSON file has thousands of JSON objects in it, so we need to first open the file, \n",
    "# loop through each line, and use the json.loads() function to extract each object\n",
    "sample = 'randomsample5_round4'\n",
    "tweets = []\n",
    "with open(\"Twitter Data Sets\\\\GitHub Collected Data\\\\\"+sample+\".jsonl\") as f:\n",
    "    for line in f:\n",
    "        tweets.append(json.loads(line))"
   ]
  },
  {
   "cell_type": "code",
   "execution_count": 51,
   "metadata": {},
   "outputs": [
    {
     "data": {
      "text/plain": [
       "409730"
      ]
     },
     "execution_count": 51,
     "metadata": {},
     "output_type": "execute_result"
    }
   ],
   "source": [
    "# How many tweets do we have in this JSON file\n",
    "len(tweets)"
   ]
  },
  {
   "cell_type": "code",
   "execution_count": 52,
   "metadata": {},
   "outputs": [],
   "source": [
    "backupcopy = tweets"
   ]
  },
  {
   "cell_type": "markdown",
   "metadata": {},
   "source": [
    "### Number of keys in the json object"
   ]
  },
  {
   "cell_type": "code",
   "execution_count": 3,
   "metadata": {},
   "outputs": [],
   "source": [
    "things = []\n",
    "with open(\"Twitter Data Sets\\\\GitHub Collected Data\\\\some_april_tweets.json\") as f:\n",
    "    for line in f:\n",
    "        things.append(json.loads(line))"
   ]
  },
  {
   "cell_type": "code",
   "execution_count": 45,
   "metadata": {},
   "outputs": [
    {
     "name": "stdout",
     "output_type": "stream",
     "text": [
      "{'{': 22, \"'\": 380, 'c': 63, 'r': 148, 'e': 260, 'a': 167, 't': 230, 'd': 86, '_': 140, ':': 163, ' ': 306, 'W': 6, 'A': 5, 'p': 103, '0': 74, '1': 86, '5': 54, '4': 60, '+': 2, '2': 68, ',': 127, 'i': 190, '8': 31, '3': 47, '9': 42, '7': 55, '6': 20, 's': 145, 'f': 49, 'u': 90, 'l': 128, 'x': 28, 'H': 4, 'h': 51, '.': 51, '\\\\': 6, 'n': 126, 'J': 2, 'b': 42, 'm': 83, 'g': 78, 'k': 16, 'y': 18, 'o': 168, 'C': 4, '!': 3, 'M': 5, '?': 3, 'S': 9, '/': 102, 'V': 8, 'G': 9, 'E': 12, 'F': 25, '[': 12, ']': 12, 'w': 42, 'v': 20, 'U': 5, 'I': 6, 'N': 20, 'D': 7, 'X': 5, 'Q': 4, 'j': 6, 'z': 12, '}': 22, 'Z': 2, 'K': 1, '=': 4, '-': 4, 'R': 2, 'L': 1, 'P': 3, 'q': 3, '<': 2, '\"': 4, '>': 2, 'T': 4, '🇲': 2, '🇨': 2, 'B': 2, 'O': 2}\n"
     ]
    }
   ],
   "source": [
    "w = str(things[0])\n",
    "words = {}\n",
    "for ws in w:\n",
    "    if ws not in words:\n",
    "        words[ws] = 1\n",
    "    else:\n",
    "        words[ws] += 1\n",
    "print (words)"
   ]
  },
  {
   "cell_type": "code",
   "execution_count": 50,
   "metadata": {},
   "outputs": [
    {
     "name": "stdout",
     "output_type": "stream",
     "text": [
      "There are 163 keys (including nested keys) in the JSON object\n"
     ]
    }
   ],
   "source": [
    "print(\"There are {} keys (including nested keys) in the JSON object\".format(words[':']))"
   ]
  },
  {
   "cell_type": "markdown",
   "metadata": {},
   "source": [
    "# Filter by Locations"
   ]
  },
  {
   "cell_type": "code",
   "execution_count": 5,
   "metadata": {},
   "outputs": [],
   "source": [
    "# don't know if we can do 'washington' because of washington dc\n",
    "locationsofinterest = ['seattle', 'spokane', 'tacoma', 'bellingham', 'tri cities', 'yakima', 'olympia',\n",
    "                       'wa', 'washington state', 'seattle, wa', 'spokane, wa', 'tacoma, wa', 'bellingham, wa',\n",
    "                       'tri cities, wa', 'yakima, wa', 'olympia, wa', 'seattle, washington', 'spokane, washington', \n",
    "                       'tacoma, washington', 'bellingham, washington', 'tri cities, washington', 'yakima, washington',\n",
    "                       'olympia, washington',\n",
    "                       'miami', 'tampa', 'tampa bay', 'jacksonville', 'orlando', 'fl', 'florida', \n",
    "                       'miama, fl', 'tampa, fl', 'tampba bay, fl', 'jacksonville, fl', ' orlando, fl', \n",
    "                       'miama, florida', 'tampa, florida', 'tampba bay, florida', 'jacksonville, florida',\n",
    "                       ' orlando, florida']"
   ]
  },
  {
   "cell_type": "code",
   "execution_count": 53,
   "metadata": {},
   "outputs": [],
   "source": [
    "# Splitting these out so that later I can index the valid_locs_coords by WA or FL tweets\n",
    "valid_locs_location = [tweets[i]['user']['location'].lower().replace('\\n', ' ').replace('\\t', ' ').replace(r\"[^\\w\\s']\",' ').strip() in locationsofinterest for i in range(len(tweets))]\n",
    "valid_locs_coords = [tweets[i]['coordinates'] != None for i in range(len(tweets))]"
   ]
  },
  {
   "cell_type": "code",
   "execution_count": 54,
   "metadata": {},
   "outputs": [],
   "source": [
    "valid_tweets_location = list(pd.Series(tweets)[valid_locs_location])\n",
    "valid_tweets_coords = list(pd.Series(tweets)[valid_locs_coords])"
   ]
  },
  {
   "cell_type": "code",
   "execution_count": 8,
   "metadata": {},
   "outputs": [],
   "source": [
    "def reverseGeocode(coordinates): \n",
    "    result = rg.search(coordinates)\n",
    "    return result"
   ]
  },
  {
   "cell_type": "code",
   "execution_count": 55,
   "metadata": {},
   "outputs": [],
   "source": [
    "tuplecoords = [(valid_tweets_coords[i]['coordinates']['coordinates'][1], valid_tweets_coords[i]['coordinates']['coordinates'][0]) \n",
    "               for i in range(len(valid_tweets_coords))]"
   ]
  },
  {
   "cell_type": "code",
   "execution_count": 56,
   "metadata": {},
   "outputs": [],
   "source": [
    "result = []\n",
    "for i in range(len(valid_tweets_coords)):\n",
    "    result.append(reverseGeocode(tuplecoords[i]))"
   ]
  },
  {
   "cell_type": "code",
   "execution_count": 57,
   "metadata": {},
   "outputs": [],
   "source": [
    "state = []\n",
    "for i in range(len(result)):\n",
    "    state.append(result[i][0]['admin1'])"
   ]
  },
  {
   "cell_type": "code",
   "execution_count": 58,
   "metadata": {},
   "outputs": [],
   "source": [
    "flindices = [i for i, x in enumerate(state) if x == \"Florida\"]\n",
    "waindices = [i for i, x in enumerate(state) if x == 'Washington']"
   ]
  },
  {
   "cell_type": "code",
   "execution_count": 59,
   "metadata": {},
   "outputs": [
    {
     "data": {
      "text/plain": [
       "([65], [])"
      ]
     },
     "execution_count": 59,
     "metadata": {},
     "output_type": "execute_result"
    }
   ],
   "source": [
    "flindices, waindices"
   ]
  },
  {
   "cell_type": "code",
   "execution_count": 60,
   "metadata": {},
   "outputs": [],
   "source": [
    "valid_florida = list(pd.Series(valid_tweets_coords)[flindices])\n",
    "valid_washington = list(pd.Series(valid_tweets_coords)[waindices])\n",
    "valid_fl_or_wa = valid_florida + valid_washington"
   ]
  },
  {
   "cell_type": "code",
   "execution_count": 61,
   "metadata": {},
   "outputs": [],
   "source": [
    "all_valid_tweets = valid_tweets_location+valid_fl_or_wa"
   ]
  },
  {
   "cell_type": "code",
   "execution_count": 62,
   "metadata": {},
   "outputs": [],
   "source": [
    "created_at = [all_valid_tweets[i]['created_at'] for i in range(len(all_valid_tweets))]\n",
    "full_text = [all_valid_tweets[i]['full_text'] for i in range(len(all_valid_tweets))]\n",
    "userid = [all_valid_tweets[i]['user']['id'] for i in range(len(all_valid_tweets))]\n",
    "location = [all_valid_tweets[i]['user']['location'] for i in range(len(all_valid_tweets))]\n",
    "coordinates = [all_valid_tweets[i]['coordinates'] for i in range(len(all_valid_tweets))]\n",
    "retweeted_text = []\n",
    "for i in range(len(all_valid_tweets)):\n",
    "    try:\n",
    "        retweeted_text.append(all_valid_tweets[i]['retweeted_status']['full_text'])\n",
    "    except:\n",
    "        retweeted_text.append('n/a')"
   ]
  },
  {
   "cell_type": "code",
   "execution_count": 63,
   "metadata": {
    "scrolled": false
   },
   "outputs": [],
   "source": [
    "output = pd.DataFrame({'created_at':created_at,'full_text':full_text,'userid':userid,'location':location,\n",
    "             'coordinates':coordinates,'retweeted_text':retweeted_text})"
   ]
  },
  {
   "cell_type": "code",
   "execution_count": 64,
   "metadata": {},
   "outputs": [
    {
     "name": "stderr",
     "output_type": "stream",
     "text": [
      "<>:1: DeprecationWarning: invalid escape sequence \\D\n",
      "<>:1: DeprecationWarning: invalid escape sequence \\D\n",
      "<>:1: DeprecationWarning: invalid escape sequence \\D\n",
      "<ipython-input-64-ad467f48774e>:1: DeprecationWarning: invalid escape sequence \\D\n",
      "  output.to_csv(\"C:\\\\Users\\\\John\\Desktop\\\\MSIM\\\\Spring Quarter 2020\\\\IMT 575\\\\Group Project\\\\twitter data sets\\\\CsvOutputs\\\\\"+sample+\".csv\",\n"
     ]
    }
   ],
   "source": [
    "output.to_csv(\"C:\\\\Users\\\\John\\Desktop\\\\MSIM\\\\Spring Quarter 2020\\\\IMT 575\\\\Group Project\\\\twitter data sets\\\\CsvOutputs\\\\\"+sample+\".csv\",\n",
    "             encoding='utf-8', index=False)"
   ]
  },
  {
   "cell_type": "markdown",
   "metadata": {},
   "source": [
    "# -----------------------------------------------------------------------------------------------------\n",
    "# END \n",
    "# -----------------------------------------------------------------------------------------------------"
   ]
  },
  {
   "cell_type": "code",
   "execution_count": null,
   "metadata": {},
   "outputs": [],
   "source": []
  },
  {
   "cell_type": "code",
   "execution_count": null,
   "metadata": {},
   "outputs": [],
   "source": []
  },
  {
   "cell_type": "code",
   "execution_count": null,
   "metadata": {},
   "outputs": [],
   "source": []
  },
  {
   "cell_type": "code",
   "execution_count": null,
   "metadata": {},
   "outputs": [],
   "source": []
  },
  {
   "cell_type": "code",
   "execution_count": 311,
   "metadata": {},
   "outputs": [],
   "source": [
    "# tweets_coords_df = pd.DataFrame(valid_fl_or_wa)\n",
    "# tweets_locs_df = pd.DataFrame(valid_tweets_location)\n",
    "# valid_tweets_dataframe = tweets_coords_df.append(tweets_locs_df)\n",
    "# valid_tweets_dataframe[['full_text', 'created_at', 'user', 'retweeted_status']]"
   ]
  },
  {
   "cell_type": "code",
   "execution_count": 263,
   "metadata": {},
   "outputs": [],
   "source": [
    "#valid_locs = [tweets[i]['user']['location'].lower().replace('\\n', ' ').replace('\\t', ' ').replace(r\"[^\\w\\s']\",' ').strip() in locationsofinterest or \n",
    "#              tweets[i]['coordinates'] != None for i in range(len(tweets))]"
   ]
  },
  {
   "cell_type": "code",
   "execution_count": 264,
   "metadata": {},
   "outputs": [],
   "source": [
    "tweets = list(pd.Series(tweets)[valid_locs])"
   ]
  },
  {
   "cell_type": "code",
   "execution_count": 268,
   "metadata": {},
   "outputs": [],
   "source": [
    "# Turn list of JSON objects into a DataFrame\n",
    "tweetsdf = pd.DataFrame(tweets)"
   ]
  },
  {
   "cell_type": "markdown",
   "metadata": {},
   "source": [
    "#### Filter for users with coordinates"
   ]
  },
  {
   "cell_type": "code",
   "execution_count": 272,
   "metadata": {},
   "outputs": [],
   "source": [
    "# Filter for only places that have valid user locations\n",
    "tweetswithlocations = tweetsdf[[tweetsdf['coordinates'][i] != None for i in range(len(tweetsdf))]]\n",
    "lons = [tweetswithlocations['coordinates'][i]['coordinates'][0] for i in tweetswithlocations.index]\n",
    "lats = [tweetswithlocations['coordinates'][i]['coordinates'][1] for i in tweetswithlocations.index]\n",
    "geometry = [Point(xy) for xy in zip(lons,lats)]\n",
    "geodf = gpd.GeoDataFrame(geometry, columns = ['geometry'])"
   ]
  },
  {
   "cell_type": "code",
   "execution_count": 273,
   "metadata": {},
   "outputs": [
    {
     "data": {
      "text/plain": [
       "Text(0.5, 319.83753637500007, 'Longitude')"
      ]
     },
     "execution_count": 273,
     "metadata": {},
     "output_type": "execute_result"
    },
    {
     "data": {
      "image/png": "[encoded data removed]",
      "text/plain": [
       "<Figure size 1080x1080 with 1 Axes>"
      ]
     },
     "metadata": {
      "needs_background": "light"
     },
     "output_type": "display_data"
    }
   ],
   "source": [
    "# Plot the points!\n",
    "world = gpd.read_file(gpd.datasets.get_path('naturalearth_lowres'))\n",
    "\n",
    "geodf.plot(ax=world.plot(figsize=(15,15)), marker = 'o', color = 'red', markersize = 15, alpha = .7)  \n",
    "plt.title('Geographic Coordinates of Twitter Accounts with Tweets Related to COVID-19 & Social Distancing')\n",
    "plt.ylabel('Latitude')\n",
    "plt.xlabel('Longitude')"
   ]
  },
  {
   "cell_type": "markdown",
   "metadata": {},
   "source": [
    "#### TODO: Figure out how to put boundaries around WA and FL to include tweets from there"
   ]
  },
  {
   "cell_type": "markdown",
   "metadata": {},
   "source": [
    "#### Filter for users with locations in Washington or Florida"
   ]
  },
  {
   "cell_type": "code",
   "execution_count": 23,
   "metadata": {},
   "outputs": [],
   "source": [
    "# Filter for only places in Washington & Florida by user location\n",
    "tweets_in_location = tweetsdf[[tweetsdf['user'][i]['location'].lower().replace('\\n', ' ').replace('\\t', ' ').replace(r\"[^\\w\\s']\",' ').strip() in locationsofinterest for i in range(len(tweetsdf))]]"
   ]
  },
  {
   "cell_type": "code",
   "execution_count": 26,
   "metadata": {},
   "outputs": [
    {
     "data": {
      "text/plain": [
       "['Florida',\n",
       " 'Florida  ',\n",
       " 'Seattle, WA',\n",
       " 'miami',\n",
       " 'Seattle',\n",
       " 'Jacksonville, FL',\n",
       " 'Tampa, FL',\n",
       " 'Florida',\n",
       " 'Florida',\n",
       " 'WASHINGTON',\n",
       " 'Florida',\n",
       " 'Tampa, FL',\n",
       " 'Seattle',\n",
       " 'Tampa, FL',\n",
       " 'Florida',\n",
       " 'florida',\n",
       " 'florida',\n",
       " 'Florida',\n",
       " 'Florida',\n",
       " 'Seattle, WA',\n",
       " 'Seattle',\n",
       " 'Seattle, WA',\n",
       " 'Seattle, WA',\n",
       " 'Jacksonville, FL',\n",
       " 'Florida',\n",
       " 'Florida',\n",
       " 'FL',\n",
       " 'Florida',\n",
       " 'Florida',\n",
       " 'Florida',\n",
       " 'Florida',\n",
       " 'Florida',\n",
       " 'Florida',\n",
       " 'Florida',\n",
       " 'Miami',\n",
       " 'Bellingham, WA',\n",
       " 'Washington State',\n",
       " 'Florida',\n",
       " 'Tampa, FL',\n",
       " 'Seattle, WA',\n",
       " 'Tampa, Fl',\n",
       " 'Jacksonville, FL',\n",
       " 'Florida',\n",
       " 'FLORIDA',\n",
       " 'Washington',\n",
       " 'Florida',\n",
       " 'Tampa, FL',\n",
       " 'Jacksonville',\n",
       " 'Tampa, Florida',\n",
       " 'Miami',\n",
       " 'Florida',\n",
       " 'Tampa, FL',\n",
       " 'Tampa Bay',\n",
       " 'Florida',\n",
       " 'Florida',\n",
       " 'Florida',\n",
       " 'Tampa, FL',\n",
       " 'Florida',\n",
       " 'Florida',\n",
       " 'Tampa, FL',\n",
       " 'Miami',\n",
       " 'Florida',\n",
       " 'Tampa, FL',\n",
       " 'Tampa, FL',\n",
       " 'miami',\n",
       " 'Florida',\n",
       " 'Tampa, Florida',\n",
       " 'Tampa',\n",
       " 'miami',\n",
       " 'miami',\n",
       " 'Tampa, FL',\n",
       " 'Seattle, WA',\n",
       " 'Seattle, WA',\n",
       " 'Florida',\n",
       " 'Seattle',\n",
       " 'Florida  ',\n",
       " 'Tampa, FL',\n",
       " 'Tampa, FL',\n",
       " 'Seattle, WA',\n",
       " 'Tampa, FL',\n",
       " 'Jacksonville, FL',\n",
       " 'Florida',\n",
       " 'Washington State',\n",
       " 'Tacoma, WA',\n",
       " 'Florida',\n",
       " 'Jacksonville, FL',\n",
       " 'WA',\n",
       " 'Florida',\n",
       " 'Seattle, WA',\n",
       " 'Jacksonville, FL',\n",
       " 'Tampa, FL',\n",
       " 'Florida',\n",
       " 'Florida',\n",
       " 'Florida',\n",
       " 'Seattle, WA',\n",
       " 'Florida',\n",
       " 'Florida',\n",
       " 'Miami',\n",
       " 'Florida',\n",
       " 'Florida',\n",
       " 'Florida',\n",
       " 'Tampa, FL',\n",
       " 'Seattle, WA',\n",
       " 'Washington',\n",
       " 'Florida',\n",
       " 'Tampa, FL',\n",
       " 'Tampa Bay',\n",
       " 'Florida',\n",
       " 'Tampa, FL',\n",
       " 'Seattle',\n",
       " 'Jacksonville, Florida',\n",
       " 'Florida',\n",
       " 'Florida',\n",
       " 'Florida',\n",
       " 'Seattle, WA',\n",
       " 'Seattle, WA',\n",
       " 'Washington state',\n",
       " 'Florida',\n",
       " 'Tampa, FL',\n",
       " 'Bellingham, Washington',\n",
       " 'Florida',\n",
       " 'Seattle',\n",
       " 'Washington State',\n",
       " 'Seattle',\n",
       " 'Washington',\n",
       " ' Florida',\n",
       " 'Seattle, WA',\n",
       " 'Florida',\n",
       " 'Spokane, WA',\n",
       " 'Seattle, WA',\n",
       " 'Spokane, WA',\n",
       " 'Seattle, WA',\n",
       " 'Seattle, WA',\n",
       " 'Seattle, WA',\n",
       " 'Seattle, WA',\n",
       " 'Seattle, WA',\n",
       " 'Florida',\n",
       " 'Florida',\n",
       " 'Florida',\n",
       " 'Miami',\n",
       " 'Jacksonville, Florida',\n",
       " 'miAmi',\n",
       " 'Miami',\n",
       " 'Seattle, Washington',\n",
       " 'Spokane, WA',\n",
       " 'WA',\n",
       " 'florida',\n",
       " 'florida',\n",
       " 'Washington',\n",
       " 'Florida',\n",
       " 'Tampa Bay',\n",
       " 'Seattle, WA',\n",
       " 'Jacksonville, FL',\n",
       " 'Seattle, WA',\n",
       " 'Seattle',\n",
       " 'Florida',\n",
       " 'Seattle',\n",
       " 'Seattle, WA',\n",
       " 'Florida',\n",
       " 'Florida',\n",
       " 'Washington State',\n",
       " 'Tampa, FL',\n",
       " 'Florida',\n",
       " 'Seattle, WA',\n",
       " 'Florida',\n",
       " 'Florida',\n",
       " 'Seattle',\n",
       " 'Seattle ',\n",
       " 'Seattle, WA',\n",
       " 'Florida',\n",
       " 'Seattle, WA',\n",
       " 'Seattle',\n",
       " 'Florida',\n",
       " 'Seattle, WA',\n",
       " 'Tacoma, WA',\n",
       " 'Spokane, WA',\n",
       " 'Seattle',\n",
       " 'Seattle, WA',\n",
       " 'Tampa, Florida',\n",
       " 'Tampa, FL',\n",
       " 'Florida',\n",
       " 'Seattle, WA',\n",
       " 'Seattle, WA',\n",
       " 'FL',\n",
       " 'Seattle, WA',\n",
       " 'Florida',\n",
       " 'Seattle',\n",
       " 'florida',\n",
       " 'Florida',\n",
       " 'Seattle, WA',\n",
       " 'Spokane, WA',\n",
       " 'Seattle, WA',\n",
       " 'Seattle, WA',\n",
       " 'Seattle, WA',\n",
       " 'Florida',\n",
       " 'Florida',\n",
       " 'Seattle, WA',\n",
       " 'FL',\n",
       " 'Seattle, WA',\n",
       " 'Seattle, WA',\n",
       " 'Seattle',\n",
       " 'Seattle, WA',\n",
       " 'Seattle, Washington',\n",
       " 'Florida',\n",
       " 'Seattle, WA',\n",
       " 'Seattle, WA',\n",
       " 'Florida',\n",
       " 'Seattle, WA',\n",
       " 'Tampa, FL',\n",
       " 'Seattle, WA',\n",
       " 'Florida',\n",
       " 'Seattle',\n",
       " 'Miami',\n",
       " 'Seattle, WA',\n",
       " 'Tampa, Florida',\n",
       " 'Tampa, FL',\n",
       " 'Miami',\n",
       " 'Seattle, WA',\n",
       " 'Florida',\n",
       " 'Florida',\n",
       " 'Seattle',\n",
       " 'Florida',\n",
       " 'Seattle, WA',\n",
       " 'Florida',\n",
       " 'Florida',\n",
       " 'Seattle, WA',\n",
       " 'Florida',\n",
       " 'Seattle',\n",
       " 'Washington',\n",
       " 'Seattle, WA',\n",
       " 'Seattle, WA',\n",
       " 'Florida',\n",
       " 'Tampa, FL',\n",
       " 'Seattle, WA',\n",
       " 'FL',\n",
       " 'Tacoma, WA',\n",
       " 'Seattle, WA',\n",
       " 'Tacoma, WA',\n",
       " 'Seattle',\n",
       " 'Florida',\n",
       " 'Seattle',\n",
       " 'Seattle, WA',\n",
       " 'Seattle, WA',\n",
       " 'Jacksonville, Florida',\n",
       " 'Seattle',\n",
       " 'Jacksonville, Florida',\n",
       " 'Yakima, Washington',\n",
       " 'Florida',\n",
       " 'Seattle, WA',\n",
       " 'Florida',\n",
       " 'Tacoma, WA',\n",
       " 'Bellingham, WA',\n",
       " 'Seattle, WA',\n",
       " 'Seattle, WA',\n",
       " 'Tampa, FL',\n",
       " 'Seattle, WA',\n",
       " 'MIAMI',\n",
       " 'Seattle, WA',\n",
       " 'Yakima, Washington',\n",
       " 'florida',\n",
       " 'Florida',\n",
       " 'Fl',\n",
       " 'Florida',\n",
       " 'florida',\n",
       " 'Miami',\n",
       " 'Florida',\n",
       " 'Tampa, FL',\n",
       " 'Seattle, WA',\n",
       " 'Seattle',\n",
       " 'florida',\n",
       " 'florida',\n",
       " 'Florida',\n",
       " 'Tampa, FL',\n",
       " 'Seattle, WA',\n",
       " 'Florida',\n",
       " 'Washington',\n",
       " 'Tampa, FL',\n",
       " 'Washington',\n",
       " 'Seattle, WA',\n",
       " 'Seattle, WA',\n",
       " 'Seattle',\n",
       " 'Seattle',\n",
       " 'fl',\n",
       " 'Florida ',\n",
       " 'Florida ',\n",
       " 'Tampa, FL',\n",
       " 'Seattle, WA',\n",
       " 'Tacoma, WA',\n",
       " 'Spokane',\n",
       " 'Seattle',\n",
       " 'Washington',\n",
       " 'Seattle, WA',\n",
       " 'Tacoma, Wa',\n",
       " 'Seattle, WA',\n",
       " 'Tampa, FL',\n",
       " 'Washington',\n",
       " 'Tampa, FL',\n",
       " 'Florida',\n",
       " 'Tampa, FL',\n",
       " 'Florida',\n",
       " 'Seattle, WA',\n",
       " 'Spokane, WA',\n",
       " ' Florida',\n",
       " 'Spokane, WA',\n",
       " 'FL',\n",
       " 'Seattle, WA',\n",
       " 'Seattle, WA',\n",
       " 'Tampa, FL',\n",
       " 'Seattle, WA',\n",
       " 'Seattle, WA',\n",
       " ' Florida',\n",
       " 'Seattle, WA',\n",
       " 'Florida',\n",
       " 'Florida',\n",
       " 'Tampa, FL',\n",
       " 'Washington State',\n",
       " 'Seattle, WA',\n",
       " 'Florida ',\n",
       " 'Seattle',\n",
       " 'Seattle',\n",
       " 'Tampa, Florida',\n",
       " 'Orlando',\n",
       " 'Seattle, WA',\n",
       " 'Seattle, WA',\n",
       " 'Seattle',\n",
       " 'Spokane, WA',\n",
       " 'Florida ',\n",
       " 'Florida',\n",
       " 'Seattle, WA',\n",
       " 'Seattle, WA',\n",
       " 'Florida',\n",
       " 'Spokane, WA',\n",
       " 'Seattle, Washington',\n",
       " 'Seattle, WA',\n",
       " 'MIAMI',\n",
       " 'Seattle, WA',\n",
       " 'Seattle, WA',\n",
       " 'Tampa, FL',\n",
       " ' Florida',\n",
       " 'Florida',\n",
       " 'Seattle',\n",
       " 'Seattle, WA',\n",
       " 'Jacksonville, FL',\n",
       " 'Florida',\n",
       " 'Tampa, FL',\n",
       " 'Florida',\n",
       " 'Seattle',\n",
       " 'Tacoma, WA',\n",
       " 'Seattle, WA',\n",
       " 'Tampa, FL',\n",
       " 'Seattle',\n",
       " 'Seattle, WA',\n",
       " 'Washington',\n",
       " 'Tampa, Florida',\n",
       " 'Seattle',\n",
       " 'Seattle, WA',\n",
       " 'Seattle, WA',\n",
       " 'Seattle, WA',\n",
       " 'Seattle, WA',\n",
       " 'Seattle, WA',\n",
       " 'Spokane, WA',\n",
       " 'Washington',\n",
       " 'Tampa, FL',\n",
       " 'Seattle, WA',\n",
       " 'Bellingham, WA',\n",
       " 'Seattle',\n",
       " 'Spokane, WA',\n",
       " 'Seattle, WA',\n",
       " 'Tampa, Florida',\n",
       " 'Seattle, WA',\n",
       " 'Washington',\n",
       " 'florida',\n",
       " 'Seattle, WA',\n",
       " 'Orlando',\n",
       " 'Seattle, WA',\n",
       " 'Seattle',\n",
       " 'Miami ',\n",
       " 'Tacoma, WA',\n",
       " 'Seattle, WA',\n",
       " 'Washington',\n",
       " 'Tacoma, WA',\n",
       " 'Tampa Bay',\n",
       " 'Tampa, Florida',\n",
       " 'Florida',\n",
       " 'Seattle',\n",
       " 'Wa',\n",
       " 'Seattle',\n",
       " 'Florida',\n",
       " 'Spokane, WA',\n",
       " 'Seattle',\n",
       " 'Seattle',\n",
       " 'Seattle, WA',\n",
       " 'Washington',\n",
       " 'Washington',\n",
       " 'Seattle, WA',\n",
       " 'Seattle',\n",
       " 'Jacksonville, Florida',\n",
       " 'Florida',\n",
       " 'Florida',\n",
       " 'washington ',\n",
       " 'Tacoma, WA',\n",
       " 'Seattle, WA',\n",
       " 'Florida',\n",
       " 'seattle',\n",
       " 'Tampa, FL',\n",
       " 'Orlando',\n",
       " 'Florida ',\n",
       " 'Tampa, FL',\n",
       " 'Seattle, wa ',\n",
       " 'Tacoma, Washington',\n",
       " 'Washington',\n",
       " 'Seattle, WA',\n",
       " 'Washington',\n",
       " 'Florida',\n",
       " 'Spokane, Washington',\n",
       " 'Seattle',\n",
       " 'Seattle, WA',\n",
       " 'Seattle, WA',\n",
       " 'Florida',\n",
       " 'Spokane, WA',\n",
       " 'Jacksonville, FL',\n",
       " 'Florida',\n",
       " 'Seattle, WA',\n",
       " 'Seattle, WA',\n",
       " 'Yakima, WA',\n",
       " 'Florida',\n",
       " 'Tampa',\n",
       " 'Tacoma, WA',\n",
       " 'Spokane, WA',\n",
       " 'Florida',\n",
       " 'Florida',\n",
       " 'Seattle, WA',\n",
       " 'Tacoma, WA',\n",
       " 'Seattle',\n",
       " 'Seattle, WA',\n",
       " 'Jacksonville',\n",
       " 'Seattle, WA',\n",
       " 'Tampa, FL',\n",
       " 'Tacoma, WA',\n",
       " 'Seattle, WA',\n",
       " 'Washington',\n",
       " 'Tampa',\n",
       " 'Seattle',\n",
       " 'Jacksonville, Fl',\n",
       " 'Tacoma, WA',\n",
       " 'Seattle',\n",
       " 'Seattle, WA',\n",
       " 'Seattle, WA',\n",
       " 'FL',\n",
       " 'Florida',\n",
       " 'florida',\n",
       " 'Seattle, WA',\n",
       " 'Seattle, WA',\n",
       " 'Seattle, WA',\n",
       " 'Florida',\n",
       " 'Washington State',\n",
       " 'Tampa, FL',\n",
       " 'Seattle, WA',\n",
       " 'Seattle',\n",
       " 'Florida',\n",
       " 'Tampa, FL',\n",
       " 'florida',\n",
       " ' Washington State',\n",
       " 'Seattle, WA',\n",
       " 'Seattle',\n",
       " 'Washington',\n",
       " 'Seattle, WA',\n",
       " 'Tampa, FL',\n",
       " 'Seattle',\n",
       " 'Seattle',\n",
       " 'Jacksonville, FL',\n",
       " 'Seattle',\n",
       " 'Seattle',\n",
       " 'Tacoma, WA',\n",
       " 'Tampa, FL',\n",
       " 'tampa bay ',\n",
       " 'FL',\n",
       " 'Seattle, WA',\n",
       " 'Florida',\n",
       " 'Orlando',\n",
       " 'Washington State',\n",
       " 'Washington State',\n",
       " 'Spokane, WA',\n",
       " 'Seattle',\n",
       " 'Florida',\n",
       " 'Seattle, WA',\n",
       " 'Seattle, WA',\n",
       " 'Florida',\n",
       " 'Seattle',\n",
       " 'Seattle, WA',\n",
       " 'Seattle, WA',\n",
       " 'Tacoma, WA',\n",
       " 'Seattle, WA',\n",
       " 'Seattle, WA',\n",
       " 'Washington',\n",
       " 'Florida',\n",
       " 'Florida',\n",
       " 'Seattle, WA',\n",
       " 'Florida',\n",
       " 'WA ',\n",
       " 'Seattle, WA',\n",
       " 'Tacoma, WA',\n",
       " 'Tampa, FL',\n",
       " 'Florida',\n",
       " 'Seattle, WA',\n",
       " 'Florida',\n",
       " 'Seattle, WA',\n",
       " 'Washington',\n",
       " 'Seattle, WA',\n",
       " 'Florida ',\n",
       " 'Seattle, WA',\n",
       " 'Seattle, WA',\n",
       " 'Tampa, FL',\n",
       " 'Washington',\n",
       " 'Washington',\n",
       " 'Florida',\n",
       " 'Seattle, WA',\n",
       " 'Florida ',\n",
       " 'Florida',\n",
       " 'Tampa, FL',\n",
       " 'Florida ',\n",
       " 'Tampa, FL',\n",
       " 'Miami',\n",
       " 'Florida',\n",
       " 'Tampa, FL',\n",
       " 'Tampa Bay',\n",
       " 'Jacksonville, FL',\n",
       " 'Seattle, WA',\n",
       " 'Jacksonville, FL',\n",
       " 'Tampa, FL',\n",
       " 'Jacksonville, FL',\n",
       " 'Seattle, WA',\n",
       " 'Florida',\n",
       " 'Jacksonville, FL',\n",
       " 'Florida',\n",
       " 'Florida',\n",
       " 'Florida',\n",
       " 'florida',\n",
       " 'Seattle, WA',\n",
       " 'Tampa, FL',\n",
       " 'Tampa, FL',\n",
       " 'Tampa, FL',\n",
       " 'Jacksonville, FL',\n",
       " 'Tampa, FL',\n",
       " 'Seattle',\n",
       " 'Florida',\n",
       " 'Florida',\n",
       " 'orlando',\n",
       " 'Seattle, WA',\n",
       " 'Seattle',\n",
       " 'Seattle, WA',\n",
       " 'Florida',\n",
       " 'Tampa, FL',\n",
       " 'Jacksonville, FL',\n",
       " 'Seattle, WA',\n",
       " 'Florida',\n",
       " 'Florida',\n",
       " 'Seattle, WA',\n",
       " 'Florida',\n",
       " 'Seattle, WA',\n",
       " 'Florida',\n",
       " 'Florida',\n",
       " 'Florida',\n",
       " 'Tampa',\n",
       " 'Seattle, WA',\n",
       " 'Florida',\n",
       " 'WA',\n",
       " 'Orlando',\n",
       " 'Seattle, WA',\n",
       " 'Seattle',\n",
       " 'Florida',\n",
       " 'Florida ',\n",
       " 'Miami',\n",
       " 'orlando',\n",
       " 'florida',\n",
       " 'Seattle, WA',\n",
       " 'Yakima, Washington',\n",
       " 'Jacksonville, FL',\n",
       " 'Seattle, WA',\n",
       " 'Seattle, WA',\n",
       " 'florida',\n",
       " 'Miami',\n",
       " 'Florida',\n",
       " 'WA',\n",
       " 'Miami',\n",
       " 'Tampa, Fl',\n",
       " 'florida',\n",
       " 'Tampa, FL',\n",
       " 'Tampa, FL',\n",
       " 'WA',\n",
       " 'Florida',\n",
       " 'Wa',\n",
       " 'Florida',\n",
       " 'Washington State',\n",
       " 'Florida',\n",
       " 'Florida',\n",
       " 'Spokane, WA',\n",
       " 'Florida',\n",
       " 'miami',\n",
       " 'Tampa, FL',\n",
       " 'Washington State',\n",
       " 'Washington State',\n",
       " 'Florida',\n",
       " 'Seattle, WA',\n",
       " 'FL',\n",
       " 'Orlando',\n",
       " 'Tampa, FL',\n",
       " 'FL',\n",
       " 'miami',\n",
       " 'Tampa, FL',\n",
       " 'Tampa, Florida ',\n",
       " 'florida',\n",
       " 'Seattle, WA',\n",
       " 'Washington',\n",
       " 'florida',\n",
       " 'Tampa, FL',\n",
       " 'Tampa, FL',\n",
       " 'Florida',\n",
       " 'Tampa, FL',\n",
       " 'Seattle, WA',\n",
       " 'Seattle',\n",
       " 'Seattle, WA',\n",
       " 'Florida',\n",
       " 'Tampa, FL',\n",
       " 'Seattle, WA',\n",
       " 'Florida',\n",
       " 'Florida',\n",
       " 'Florida',\n",
       " 'Seattle',\n",
       " 'florida',\n",
       " 'Tampa, FL',\n",
       " 'WA',\n",
       " 'Washington',\n",
       " 'Seattle, WA',\n",
       " 'Jacksonville, FL ',\n",
       " 'seattle',\n",
       " 'Miami',\n",
       " 'Tampa, FL',\n",
       " 'Florida',\n",
       " 'Orlando',\n",
       " 'Jacksonville, FL',\n",
       " 'Tampa, FL',\n",
       " 'Seattle ',\n",
       " 'Florida',\n",
       " 'WA',\n",
       " 'Florida ',\n",
       " 'Florida',\n",
       " 'Jacksonville, FL',\n",
       " 'Miami',\n",
       " 'Florida',\n",
       " 'Florida',\n",
       " 'Jacksonville, FL',\n",
       " 'Jacksonville, FL',\n",
       " 'Washington',\n",
       " 'Florida',\n",
       " 'Tacoma, WA',\n",
       " 'Florida',\n",
       " 'Seattle, WA',\n",
       " 'Jacksonville, FL',\n",
       " 'WA',\n",
       " 'Florida',\n",
       " 'Jacksonville, FL',\n",
       " 'Florida',\n",
       " 'Tampa, FL',\n",
       " 'Florida',\n",
       " 'Seattle, Washington ',\n",
       " 'Florida',\n",
       " 'Florida',\n",
       " 'Florida',\n",
       " 'fl',\n",
       " 'Seattle',\n",
       " 'Florida',\n",
       " 'Seattle, WA',\n",
       " 'Florida',\n",
       " 'Florida',\n",
       " 'Tampa, FL',\n",
       " 'Washington',\n",
       " 'Tampa, FL',\n",
       " 'Seattle, WA',\n",
       " 'FLORIDA',\n",
       " 'Seattle, Washington',\n",
       " 'Florida',\n",
       " 'WA',\n",
       " 'Seattle, WA',\n",
       " 'Seattle',\n",
       " 'Florida',\n",
       " 'Seattle',\n",
       " 'Seattle, WA',\n",
       " 'Tampa, FL',\n",
       " 'Tampa Bay ',\n",
       " 'Florida',\n",
       " 'Seattle, WA',\n",
       " 'Washington State',\n",
       " 'Seattle',\n",
       " 'Seattle',\n",
       " 'Seattle, WA',\n",
       " 'Orlando',\n",
       " 'Tampa, FL',\n",
       " 'Washington ',\n",
       " 'Tampa, FL',\n",
       " 'Tacoma, WA',\n",
       " 'Seattle, WA',\n",
       " 'Washington State',\n",
       " 'washington ',\n",
       " 'Tampa, FL',\n",
       " 'Washington State',\n",
       " 'Tampa, FL',\n",
       " 'florida',\n",
       " 'Seattle ',\n",
       " 'Tampa, FL',\n",
       " 'Miami',\n",
       " 'Jacksonville, Florida',\n",
       " 'Jacksonville, Florida',\n",
       " 'Seattle',\n",
       " 'Seattle',\n",
       " 'Tampa, FL',\n",
       " 'Tampa, FL',\n",
       " 'Washington State',\n",
       " 'Tampa, Florida',\n",
       " 'Washington',\n",
       " 'Seattle',\n",
       " 'Florida',\n",
       " 'Seattle, WA',\n",
       " 'Spokane, WA',\n",
       " 'Seattle, WA',\n",
       " 'Tampa, FL',\n",
       " 'Seattle, WA',\n",
       " 'Seattle, WA',\n",
       " 'Seattle, WA',\n",
       " 'Seattle, WA',\n",
       " 'Florida',\n",
       " 'Tampa, FL',\n",
       " 'Seattle',\n",
       " 'Tampa, FL',\n",
       " 'Seattle, WA',\n",
       " 'Tampa, FL',\n",
       " 'FL',\n",
       " 'Spokane, WA',\n",
       " 'Seattle',\n",
       " 'Tacoma, WA',\n",
       " 'Washington',\n",
       " 'Florida',\n",
       " 'Miami',\n",
       " 'Tampa, Fl',\n",
       " 'Spokane, WA',\n",
       " 'Tampa, FL',\n",
       " 'Florida',\n",
       " 'Seattle, WA',\n",
       " 'Wa',\n",
       " 'Seattle, WA',\n",
       " 'Seattle, WA',\n",
       " 'Tampa, FL',\n",
       " 'FL',\n",
       " 'Florida',\n",
       " 'Tampa, FL',\n",
       " 'Tampa',\n",
       " 'Florida',\n",
       " 'Spokane, WA',\n",
       " 'Jacksonville, Florida',\n",
       " 'Seattle, WA',\n",
       " 'Spokane, Washington',\n",
       " 'Seattle',\n",
       " 'Jacksonville, FL',\n",
       " 'Seattle, Washington',\n",
       " 'Seattle',\n",
       " 'Seattle, Washington',\n",
       " 'Florida',\n",
       " 'Florida',\n",
       " 'Tampa, FL',\n",
       " 'Florida',\n",
       " 'Florida',\n",
       " 'Florida ',\n",
       " 'Seattle, WA',\n",
       " 'Tampa, FL',\n",
       " 'Florida',\n",
       " 'Florida ',\n",
       " 'Florida',\n",
       " 'Washington State',\n",
       " 'Florida',\n",
       " 'Florida',\n",
       " 'Florida',\n",
       " 'Jacksonville, Florida',\n",
       " 'Florida',\n",
       " 'tampa bay ',\n",
       " 'Seattle, Wa',\n",
       " 'Tampa, FL',\n",
       " 'Washington State',\n",
       " 'Florida',\n",
       " 'Seattle, WA',\n",
       " 'Seattle, WA',\n",
       " 'tampa bay ',\n",
       " 'Florida',\n",
       " 'Florida',\n",
       " 'Bellingham, WA',\n",
       " 'Florida',\n",
       " 'Florida',\n",
       " 'Seattle',\n",
       " 'Florida',\n",
       " 'tampa bay ',\n",
       " 'Seattle',\n",
       " 'Tampa, FL',\n",
       " 'Tampa, FL',\n",
       " 'Seattle, WA',\n",
       " 'Florida',\n",
       " 'FL',\n",
       " 'Washington State',\n",
       " 'Seattle, WA',\n",
       " 'Bellingham, WA',\n",
       " 'Seattle, Washington',\n",
       " 'Jacksonville, Florida',\n",
       " 'jacksonville, fl',\n",
       " 'florida',\n",
       " 'Seattle, WA',\n",
       " 'Seattle, WA',\n",
       " 'Seattle',\n",
       " 'Florida',\n",
       " 'Seattle',\n",
       " 'Florida ',\n",
       " 'Tampa',\n",
       " 'Florida',\n",
       " 'Spokane, WA',\n",
       " 'Seattle',\n",
       " 'Florida',\n",
       " 'Jacksonville, FL',\n",
       " 'Seattle',\n",
       " 'Washington State',\n",
       " 'Florida',\n",
       " 'Bellingham, WA',\n",
       " 'Tampa Bay',\n",
       " 'Florida',\n",
       " 'Seattle',\n",
       " 'Florida',\n",
       " 'Seattle, WA',\n",
       " 'Seattle, WA',\n",
       " 'Washington',\n",
       " 'Florida',\n",
       " 'Florida',\n",
       " 'Florida',\n",
       " 'Florida',\n",
       " 'Florida',\n",
       " 'Tampa Bay',\n",
       " 'Florida',\n",
       " 'Seattle, WA',\n",
       " 'wa',\n",
       " 'Seattle, WA',\n",
       " 'Yakima, Washington',\n",
       " 'Washington',\n",
       " 'Seattle, WA',\n",
       " 'Florida',\n",
       " 'Jacksonville, FL',\n",
       " 'Seattle, WA',\n",
       " 'Florida',\n",
       " 'Florida',\n",
       " 'Jacksonville, Fl',\n",
       " 'Florida',\n",
       " 'Seattle, WA',\n",
       " 'Spokane, WA',\n",
       " 'Spokane, WA',\n",
       " 'Washington state',\n",
       " 'Seattle',\n",
       " 'Spokane, WA',\n",
       " 'Washington',\n",
       " 'Florida',\n",
       " 'Florida',\n",
       " 'Florida',\n",
       " 'Florida',\n",
       " 'Seattle, WA',\n",
       " 'Washington state ',\n",
       " 'Seattle, WA',\n",
       " 'Spokane, WA',\n",
       " 'Seattle',\n",
       " 'Spokane, WA',\n",
       " 'Florida ',\n",
       " 'Florida',\n",
       " 'Seattle',\n",
       " 'Spokane, WA',\n",
       " 'Seattle',\n",
       " 'Seattle, WA',\n",
       " 'Tampa, FL',\n",
       " 'Spokane, WA',\n",
       " 'Spokane, WA',\n",
       " 'Seattle, WA',\n",
       " 'Seattle, Wa',\n",
       " 'Seattle, WA',\n",
       " 'Tampa, FL',\n",
       " 'Florida',\n",
       " 'Tampa, FL',\n",
       " 'FL',\n",
       " 'Florida',\n",
       " 'Washington state ',\n",
       " 'Jacksonville, Fl',\n",
       " 'Tampa, FL',\n",
       " 'Washington State',\n",
       " 'Jacksonville, Fl',\n",
       " 'Seattle, WA',\n",
       " 'Florida',\n",
       " 'Florida ',\n",
       " 'Seattle, WA',\n",
       " 'florida',\n",
       " 'Florida',\n",
       " 'Seattle, WA',\n",
       " 'Washington State',\n",
       " 'Florida',\n",
       " 'Florida',\n",
       " 'Florida',\n",
       " 'Tacoma, WA',\n",
       " 'Seattle, WA',\n",
       " 'Florida',\n",
       " 'Seattle',\n",
       " 'Seattle, WA ',\n",
       " 'Florida',\n",
       " 'Jacksonville, FL',\n",
       " 'Florida',\n",
       " 'Florida',\n",
       " 'Seattle, WA',\n",
       " 'Seattle, WA',\n",
       " 'florida',\n",
       " 'Miami',\n",
       " 'Seattle, Washington',\n",
       " 'FL',\n",
       " 'Florida',\n",
       " 'Seattle, WA',\n",
       " 'Miami',\n",
       " 'Washington State',\n",
       " 'Florida',\n",
       " 'Jacksonville, FL',\n",
       " 'Florida',\n",
       " 'Washington State',\n",
       " 'Tampa, FL',\n",
       " 'Washington State',\n",
       " 'Seattle, WA',\n",
       " 'Washington State',\n",
       " 'Tampa Bay',\n",
       " 'Tampa, FL',\n",
       " 'Jacksonville, FL',\n",
       " 'Tampa, FL',\n",
       " 'orlando',\n",
       " 'Florida',\n",
       " 'Florida',\n",
       " 'Florida',\n",
       " 'Tacoma, Washington ',\n",
       " 'Florida',\n",
       " 'miami',\n",
       " 'Florida',\n",
       " 'Tampa, FL',\n",
       " 'Washington',\n",
       " 'Florida ',\n",
       " 'Jacksonville, FL',\n",
       " 'miami',\n",
       " 'Seattle, WA',\n",
       " 'Florida',\n",
       " 'Florida',\n",
       " 'Miami',\n",
       " 'Jacksonville, FL',\n",
       " 'Florida',\n",
       " 'Jacksonville, FL',\n",
       " 'Jacksonville, FL',\n",
       " 'Tampa, Florida',\n",
       " 'Seattle',\n",
       " 'Seattle, WA',\n",
       " 'Seattle, WA',\n",
       " 'Seattle, WA',\n",
       " 'Miami',\n",
       " 'Seattle, WA',\n",
       " 'Florida',\n",
       " 'Florida',\n",
       " 'Tampa, FL',\n",
       " 'FL',\n",
       " 'Tampa',\n",
       " 'Seattle, WA',\n",
       " 'Tampa Bay',\n",
       " 'Florida',\n",
       " 'Orlando ',\n",
       " 'Tampa, Fl',\n",
       " 'Seattle, WA',\n",
       " 'Florida',\n",
       " 'Tampa, FL',\n",
       " 'Florida',\n",
       " 'Seattle, WA',\n",
       " 'Tampa, FL',\n",
       " 'Florida',\n",
       " 'Florida',\n",
       " 'Seattle, WA',\n",
       " 'miami',\n",
       " 'Tampa, FL',\n",
       " 'Seattle, WA',\n",
       " 'Tampa, FL',\n",
       " 'Florida',\n",
       " 'Tampa, FL',\n",
       " 'miami',\n",
       " 'Florida',\n",
       " 'Florida',\n",
       " 'Spokane, WA',\n",
       " 'Seattle, Washington',\n",
       " 'Tampa',\n",
       " 'Tampa, FL',\n",
       " 'miami',\n",
       " 'Seattle, WA',\n",
       " 'miami',\n",
       " 'miami',\n",
       " ...]"
      ]
     },
     "execution_count": 26,
     "metadata": {},
     "output_type": "execute_result"
    }
   ],
   "source": [
    "[tweets_in_location['user'][i]['location'] for i in tweets_in_location.index]"
   ]
  },
  {
   "cell_type": "markdown",
   "metadata": {},
   "source": [
    "#### Combine the dataframes with users with actual locations and those with locations listed in Washington or Florida\n",
    "#### Still need to filter out the coordinates for those in WA or FL"
   ]
  },
  {
   "cell_type": "code",
   "execution_count": null,
   "metadata": {},
   "outputs": [],
   "source": [
    "all_tweets_valid_locations = tweetswithlocations.append(tweets_in_location)\n",
    "all_tweets_valid_locations.head()"
   ]
  },
  {
   "cell_type": "markdown",
   "metadata": {},
   "source": [
    "#### Text pre-processing"
   ]
  },
  {
   "cell_type": "code",
   "execution_count": null,
   "metadata": {},
   "outputs": [],
   "source": [
    "from nltk.corpus import stopwords\n",
    "import nltk\n",
    "nltk.download('stopwords')"
   ]
  },
  {
   "cell_type": "code",
   "execution_count": null,
   "metadata": {},
   "outputs": [],
   "source": [
    "stopwords = stopwords.words('english')\n",
    "extrastopwords = ['https', 'rt', 'april', 'jan', 'amp', 'co', '19', 'coronavirus', 'corona', 'covid', 'covid19',\n",
    "                 'has']"
   ]
  },
  {
   "cell_type": "code",
   "execution_count": null,
   "metadata": {},
   "outputs": [],
   "source": [
    "# Pre-process stopwords and tweets in the same way\n",
    "stopwords = stopwords+extrastopwords\n",
    "stopwords = [stopwords[i].lower() for i in range(len(stopwords))]\n",
    "stopwords = [stopwords[i].replace('\\n', ' ') for i in range(len(stopwords))]\n",
    "stopwords = [stopwords[i].replace('\\t', ' ') for i in range(len(stopwords))]\n",
    "stopwords = [stopwords[i].replace(r\"[^\\w\\s']\", ' ') for i in range(len(stopwords))]\n",
    "stopwords = [stopwords[i].strip() for i in range(len(stopwords))]"
   ]
  },
  {
   "cell_type": "code",
   "execution_count": null,
   "metadata": {},
   "outputs": [],
   "source": [
    "#tweets = pd.Series([tweets[i]['full_text'] for i in range(len(tweets)) if tweets[i]['lang'] == 'en'])\n",
    "tweet_text = pd.Series([all_tweets_valid_locations['full_text'][i] for i in all_tweets_valid_locations.index])"
   ]
  },
  {
   "cell_type": "code",
   "execution_count": null,
   "metadata": {},
   "outputs": [],
   "source": [
    "# Pre-process stopwords and tweets in the same way\n",
    "tweet_text = tweet_text.str.lower()\n",
    "tweet_text = tweet_text.str.replace('\\n', ' ')\n",
    "tweet_text = tweet_text.str.replace('\\t', ' ')\n",
    "tweet_text = tweet_text.str.replace(r\"[^\\w\\s']\", ' ')\n",
    "tweet_text = tweet_text.str.strip()\n",
    "tweet_text = tweet_text[~tweet_text.isnull()]"
   ]
  },
  {
   "cell_type": "code",
   "execution_count": null,
   "metadata": {},
   "outputs": [],
   "source": [
    "vec = CountVectorizer(stop_words = stopwords)\n",
    "vec.fit(tweet_text)\n",
    "counts = vec.transform(tweet_text)"
   ]
  },
  {
   "cell_type": "code",
   "execution_count": null,
   "metadata": {},
   "outputs": [],
   "source": [
    "lda = LDA(n_components = 10, random_state = 11)\n",
    "lda.fit(counts)\n",
    "ldaOut = lda.transform(counts)"
   ]
  },
  {
   "cell_type": "code",
   "execution_count": null,
   "metadata": {
    "scrolled": true
   },
   "outputs": [],
   "source": [
    "p = pyLDAvis.sklearn.prepare(lda, counts, vec)"
   ]
  },
  {
   "cell_type": "code",
   "execution_count": null,
   "metadata": {},
   "outputs": [],
   "source": [
    "pyLDAvis.save_html(p, 'Tweets_LDA.html')"
   ]
  },
  {
   "cell_type": "code",
   "execution_count": null,
   "metadata": {},
   "outputs": [],
   "source": [
    "p"
   ]
  },
  {
   "cell_type": "markdown",
   "metadata": {},
   "source": [
    "# -----------------------------------------------------------------------"
   ]
  },
  {
   "cell_type": "markdown",
   "metadata": {},
   "source": [
    "## <u>Option 2 | Read in .txt Files & Hydrate them in a Jupyter Notebook</u>"
   ]
  },
  {
   "cell_type": "markdown",
   "metadata": {},
   "source": [
    "#### First, Bring in .txt Files of Twitter IDs and Merging them\n",
    "#### We have 4 folders (corresponding to Jan, Feb, Mar, Apr), each of which contains approx. 400-500 .txt files, and each file holds about 50k Twitter IDs that need to be hydrated. See example below for merging each text file in the April folder, resulting in a list with 405 sublists, each with thousands of Twitter IDs."
   ]
  },
  {
   "cell_type": "code",
   "execution_count": null,
   "metadata": {},
   "outputs": [],
   "source": [
    "filenames = []\n",
    "\n",
    "for file in os.listdir('apriltweets'):\n",
    "    filename = os.fsdecode(file)\n",
    "    if filename.endswith( ('.txt') ):\n",
    "        filenames.append(filename)"
   ]
  },
  {
   "cell_type": "code",
   "execution_count": null,
   "metadata": {},
   "outputs": [],
   "source": [
    "ids = []\n",
    "for file in filenames:\n",
    "    with open('apriltweets\\\\'+file,'r') as tweetids:\n",
    "        ids.append(tweetids.read())"
   ]
  },
  {
   "cell_type": "code",
   "execution_count": null,
   "metadata": {},
   "outputs": [],
   "source": [
    "ids[0:2]"
   ]
  },
  {
   "cell_type": "code",
   "execution_count": null,
   "metadata": {},
   "outputs": [],
   "source": [
    "testids = [ids[0][0:19], ids[0][20:39], ids[0][40:59]]\n",
    "testids"
   ]
  },
  {
   "cell_type": "markdown",
   "metadata": {},
   "source": [
    "#### Second, Hydrate the texts from within Jupyter Notebook - Warning: This goes much slower than using the app_auth in the command line, and rate limits are exceeded much quicker than when using using app_auth: https://github.com/DocNow/twarc"
   ]
  },
  {
   "cell_type": "code",
   "execution_count": null,
   "metadata": {},
   "outputs": [],
   "source": [
    "jsontweets = []\n",
    "for tweet in t.hydrate(ids[0]):\n",
    "    jsontweets.append(tweet)\n",
    "    \n",
    "#for tweet in t.hydrate(open('ids.txt')):\n",
    "#    print(tweet[\"text\"])"
   ]
  },
  {
   "cell_type": "code",
   "execution_count": null,
   "metadata": {},
   "outputs": [],
   "source": [
    "jsontweets"
   ]
  },
  {
   "cell_type": "code",
   "execution_count": null,
   "metadata": {},
   "outputs": [],
   "source": [
    "testids = ['1245140084313206786', '1245140084350910464', '1245140084417941505']"
   ]
  },
  {
   "cell_type": "code",
   "execution_count": null,
   "metadata": {},
   "outputs": [],
   "source": [
    "jsontweets = []\n",
    "for i in t.hydrate(testids):\n",
    "    jsontweets.append(i)"
   ]
  },
  {
   "cell_type": "code",
   "execution_count": null,
   "metadata": {},
   "outputs": [],
   "source": [
    "jsontweets = json_normalize(jsontweets)"
   ]
  },
  {
   "cell_type": "code",
   "execution_count": null,
   "metadata": {},
   "outputs": [],
   "source": [
    "jsontweets[['created_at', 'full_text', 'coordinates', 'user.location', 'retweeted_status.full_text']]"
   ]
  },
  {
   "cell_type": "markdown",
   "metadata": {},
   "source": [
    "## <u>Option 3 | Read in .txt Files, merge them, write them to a new text file for hydrating in command line</u>"
   ]
  },
  {
   "cell_type": "code",
   "execution_count": null,
   "metadata": {},
   "outputs": [],
   "source": [
    "# # Read in files\n",
    "# filenames = []\n",
    "\n",
    "# for file in os.listdir('twitter data sets\\\\tweetstohydratemay17'):\n",
    "#     filename = os.fsdecode(file)\n",
    "#     if filename.endswith( ('.txt') ):\n",
    "#         filenames.append(filename)"
   ]
  },
  {
   "cell_type": "code",
   "execution_count": null,
   "metadata": {},
   "outputs": [],
   "source": [
    "# # Read IDs from files\n",
    "# ids = []\n",
    "# for file in filenames:\n",
    "#     with open('C:\\\\Users\\\\John\\\\Desktop\\\\MSIM\\\\Spring Quarter 2020\\\\IMT 575\\\\Group Project\\\\twitter data sets\\\\tweetstohydratemay17\\\\'+ file,'r') as tweetids:\n",
    "#         ids.append(tweetids.read())"
   ]
  },
  {
   "cell_type": "code",
   "execution_count": null,
   "metadata": {},
   "outputs": [],
   "source": [
    "# # Write the merged IDs to a new file\n",
    "# with open('first_100_twitter_ids.txt', 'w') as outfile:\n",
    "#     for i in ids[0:100]:\n",
    "#         outfile.write(str(i))"
   ]
  },
  {
   "cell_type": "markdown",
   "metadata": {},
   "source": [
    "#### Read in all TweetID Files and randomly select twitter IDs out of them"
   ]
  },
  {
   "cell_type": "code",
   "execution_count": 519,
   "metadata": {},
   "outputs": [],
   "source": [
    "# Read in every single file with twitterids\n",
    "filenames = []\n",
    "\n",
    "for file in os.listdir('C:\\\\Users\\\\John\\\\Desktop\\\\TwitterIDs'):\n",
    "    filename = os.fsdecode(file)\n",
    "    if filename.endswith( ('.txt') ):\n",
    "        filenames.append(filename)"
   ]
  },
  {
   "cell_type": "code",
   "execution_count": 516,
   "metadata": {},
   "outputs": [],
   "source": [
    "### ROUND 1 ###\n",
    "# Open each file, sample 4.5% of tweets, and append them to the ids list\n",
    "# ids = []\n",
    "# for file in filenames:\n",
    "#     with open('C:\\\\Users\\\\John\\\\Desktop\\\\TwitterIDs\\\\'+ file, 'r') as tweetids:\n",
    "#         tweetids = tweetids.read()\n",
    "#         tweetids = tweetids.split('\\n')\n",
    "#         ids.append(random.sample(tweetids,int(np.ceil(len(tweetids)*.045))))"
   ]
  },
  {
   "cell_type": "code",
   "execution_count": 499,
   "metadata": {},
   "outputs": [],
   "source": [
    "#ids_round1 = ids"
   ]
  },
  {
   "cell_type": "code",
   "execution_count": 526,
   "metadata": {},
   "outputs": [],
   "source": [
    "#ids_round2 = ids"
   ]
  },
  {
   "cell_type": "code",
   "execution_count": 651,
   "metadata": {},
   "outputs": [],
   "source": [
    "#ids_round3 = ids"
   ]
  },
  {
   "cell_type": "code",
   "execution_count": 652,
   "metadata": {},
   "outputs": [],
   "source": [
    "used_ids = ids_round1 + ids_round2 + ids_round3"
   ]
  },
  {
   "cell_type": "code",
   "execution_count": 654,
   "metadata": {},
   "outputs": [],
   "source": [
    "### ROUND 4 ###\n",
    "# Open each file, sample 4.5% of tweets, and append them to the ids list\n",
    "ids = []\n",
    "for file in filenames:\n",
    "    with open('C:\\\\Users\\\\John\\\\Desktop\\\\TwitterIDs\\\\'+ file, 'r') as tweetids:\n",
    "        tweetids = tweetids.read()\n",
    "        tweetids = tweetids.split('\\n')\n",
    "        tempids = []\n",
    "        tempids.append(random.sample(tweetids,int(np.ceil(len(tweetids)*.045))))\n",
    "        for i in tempids:\n",
    "            if i not in used_ids:\n",
    "                ids.append(i)"
   ]
  },
  {
   "cell_type": "code",
   "execution_count": 655,
   "metadata": {},
   "outputs": [],
   "source": [
    "# Write the first 10% of sampled IDs to a new file\n",
    "with open('randomsample1_round4.txt', 'w') as outfile:\n",
    "    ids = [item for sublist in ids for item in sublist]\n",
    "    for i in ids[0:int(len(ids)*.10)]:\n",
    "        outfile.write(i + '\\n')"
   ]
  },
  {
   "cell_type": "code",
   "execution_count": 656,
   "metadata": {},
   "outputs": [],
   "source": [
    "#ids_round4 = ids"
   ]
  },
  {
   "cell_type": "code",
   "execution_count": 657,
   "metadata": {},
   "outputs": [],
   "source": [
    "# Write the 10-20% of sampled IDs to a new file\n",
    "with open('randomsample2_round4.txt', 'w') as outfile:\n",
    "    for i in ids[int(len(ids)*.10):int(len(ids)*.20)]:\n",
    "        outfile.write(i + '\\n')"
   ]
  },
  {
   "cell_type": "code",
   "execution_count": 658,
   "metadata": {},
   "outputs": [],
   "source": [
    "with open('randomsample3_round4.txt', 'w') as outfile:\n",
    "    for i in ids[int(len(ids)*.20):int(len(ids)*.30)]:\n",
    "        outfile.write(i + '\\n')"
   ]
  },
  {
   "cell_type": "code",
   "execution_count": 659,
   "metadata": {},
   "outputs": [],
   "source": [
    "with open('randomsample4_round4.txt', 'w') as outfile:\n",
    "    for i in ids[int(len(ids)*.30):int(len(ids)*.40)]:\n",
    "        outfile.write(i + '\\n')"
   ]
  },
  {
   "cell_type": "code",
   "execution_count": 660,
   "metadata": {},
   "outputs": [],
   "source": [
    "with open('randomsample5_round4.txt', 'w') as outfile:\n",
    "    for i in ids[int(len(ids)*.40):int(len(ids)*.50)]:\n",
    "        outfile.write(i + '\\n')"
   ]
  },
  {
   "cell_type": "code",
   "execution_count": 661,
   "metadata": {},
   "outputs": [],
   "source": [
    "with open('randomsample6_round4.txt', 'w') as outfile:\n",
    "    for i in ids[int(len(ids)*.50):int(len(ids)*.60)]:\n",
    "        outfile.write(i + '\\n')"
   ]
  },
  {
   "cell_type": "code",
   "execution_count": 662,
   "metadata": {},
   "outputs": [],
   "source": [
    "with open('randomsample7_round4.txt', 'w') as outfile:\n",
    "    for i in ids[int(len(ids)*.60):int(len(ids)*.70)]:\n",
    "        outfile.write(i + '\\n')"
   ]
  },
  {
   "cell_type": "code",
   "execution_count": 663,
   "metadata": {},
   "outputs": [],
   "source": [
    "with open('randomsample8_round4.txt', 'w') as outfile:\n",
    "    for i in ids[int(len(ids)*.70):int(len(ids)*.80)]:\n",
    "        outfile.write(i + '\\n')"
   ]
  },
  {
   "cell_type": "code",
   "execution_count": 616,
   "metadata": {},
   "outputs": [],
   "source": [
    "with open('randomsample9_round4.txt', 'w') as outfile:\n",
    "    for i in ids[int(len(ids)*.80):int(len(ids)*.90)]:\n",
    "        outfile.write(i + '\\n')"
   ]
  },
  {
   "cell_type": "code",
   "execution_count": 664,
   "metadata": {},
   "outputs": [],
   "source": [
    "with open('randomsample10_round4.txt', 'w') as outfile:\n",
    "    for i in ids[int(len(ids)*.90)::]:\n",
    "        outfile.write(i + '\\n')"
   ]
  },
  {
   "cell_type": "code",
   "execution_count": null,
   "metadata": {},
   "outputs": [],
   "source": []
  },
  {
   "cell_type": "code",
   "execution_count": null,
   "metadata": {},
   "outputs": [],
   "source": []
  },
  {
   "cell_type": "code",
   "execution_count": null,
   "metadata": {},
   "outputs": [],
   "source": []
  },
  {
   "cell_type": "code",
   "execution_count": null,
   "metadata": {},
   "outputs": [],
   "source": []
  },
  {
   "cell_type": "code",
   "execution_count": null,
   "metadata": {},
   "outputs": [],
   "source": []
  },
  {
   "cell_type": "code",
   "execution_count": null,
   "metadata": {},
   "outputs": [],
   "source": []
  },
  {
   "cell_type": "code",
   "execution_count": null,
   "metadata": {},
   "outputs": [],
   "source": []
  },
  {
   "cell_type": "code",
   "execution_count": 18,
   "metadata": {},
   "outputs": [
    {
     "name": "stdout",
     "output_type": "stream",
     "text": [
      "11.6 s ± 787 ms per loop (mean ± std. dev. of 7 runs, 1 loop each)\n"
     ]
    }
   ],
   "source": [
    "# %%timeit \n",
    "# tweets = []\n",
    "# with open(\"Twitter Data Sets\\\\GitHub Collected Data\\\\some_april_tweets.json\") as f:\n",
    "#     for line in f:\n",
    "#         tweet = json.loads(line)\n",
    "#         fulltext = tweet['full_text']\n",
    "#         tweets.append(fulltext)"
   ]
  },
  {
   "cell_type": "code",
   "execution_count": 200,
   "metadata": {
    "scrolled": true
   },
   "outputs": [
    {
     "data": {
      "text/plain": [
       "{'created_at': 'Wed Jan 22 02:44:06 +0000 2020',\n",
       " 'id': 1219812956113756161,\n",
       " 'id_str': '1219812956113756161',\n",
       " 'full_text': 'CDC confirms first US case of coronavirus that has killed 6 in China https://t.co/rgbSxA2YBz 通过 @CNBCi',\n",
       " 'truncated': False,\n",
       " 'display_text_range': [0, 102],\n",
       " 'entities': {'hashtags': [],\n",
       "  'symbols': [],\n",
       "  'user_mentions': [{'screen_name': 'CNBCi',\n",
       "    'name': 'CNBC International',\n",
       "    'id': 19898168,\n",
       "    'id_str': '19898168',\n",
       "    'indices': [96, 102]}],\n",
       "  'urls': [{'url': 'https://t.co/rgbSxA2YBz',\n",
       "    'expanded_url': 'https://www.cnbc.com/2020/01/21/cdc-to-announce-first-us-case-of-china-coronavirus-that-has-killed-6-cnn-reports.html',\n",
       "    'display_url': 'cnbc.com/2020/01/21/cdc…',\n",
       "    'indices': [69, 92]}]},\n",
       " 'source': '<a href=\"http://twitter.com/download/android\" rel=\"nofollow\">Twitter for Android</a>',\n",
       " 'in_reply_to_status_id': None,\n",
       " 'in_reply_to_status_id_str': None,\n",
       " 'in_reply_to_user_id': None,\n",
       " 'in_reply_to_user_id_str': None,\n",
       " 'in_reply_to_screen_name': None,\n",
       " 'user': {'id': 1028086456969908225,\n",
       "  'id_str': '1028086456969908225',\n",
       "  'name': 'taisam',\n",
       "  'screen_name': 'taisam10',\n",
       "  'location': 'Malacca, Malaysia',\n",
       "  'description': 'sam',\n",
       "  'url': 'https://t.co/eZQYCPKNqc',\n",
       "  'entities': {'url': {'urls': [{'url': 'https://t.co/eZQYCPKNqc',\n",
       "      'expanded_url': 'http://facebook.com/sam_kong88@hotmail.com',\n",
       "      'display_url': 'facebook.com/sam_kong88@hot…',\n",
       "      'indices': [0, 23]}]},\n",
       "   'description': {'urls': []}},\n",
       "  'protected': False,\n",
       "  'followers_count': 451,\n",
       "  'friends_count': 4995,\n",
       "  'listed_count': 5,\n",
       "  'created_at': 'Sat Aug 11 01:11:27 +0000 2018',\n",
       "  'favourites_count': 26,\n",
       "  'utc_offset': None,\n",
       "  'time_zone': None,\n",
       "  'geo_enabled': True,\n",
       "  'verified': False,\n",
       "  'statuses_count': 52348,\n",
       "  'lang': None,\n",
       "  'contributors_enabled': False,\n",
       "  'is_translator': False,\n",
       "  'is_translation_enabled': False,\n",
       "  'profile_background_color': 'F5F8FA',\n",
       "  'profile_background_image_url': None,\n",
       "  'profile_background_image_url_https': None,\n",
       "  'profile_background_tile': False,\n",
       "  'profile_image_url': 'http://pbs.twimg.com/profile_images/1124060912451825682/fh5eqiUU_normal.jpg',\n",
       "  'profile_image_url_https': 'https://pbs.twimg.com/profile_images/1124060912451825682/fh5eqiUU_normal.jpg',\n",
       "  'profile_banner_url': 'https://pbs.twimg.com/profile_banners/1028086456969908225/1556831925',\n",
       "  'profile_image_extensions_alt_text': None,\n",
       "  'profile_banner_extensions_alt_text': None,\n",
       "  'profile_link_color': '1DA1F2',\n",
       "  'profile_sidebar_border_color': 'C0DEED',\n",
       "  'profile_sidebar_fill_color': 'DDEEF6',\n",
       "  'profile_text_color': '333333',\n",
       "  'profile_use_background_image': True,\n",
       "  'has_extended_profile': True,\n",
       "  'default_profile': True,\n",
       "  'default_profile_image': False,\n",
       "  'following': False,\n",
       "  'follow_request_sent': False,\n",
       "  'notifications': False,\n",
       "  'translator_type': 'none'},\n",
       " 'geo': None,\n",
       " 'coordinates': None,\n",
       " 'place': None,\n",
       " 'contributors': None,\n",
       " 'is_quote_status': False,\n",
       " 'retweet_count': 0,\n",
       " 'favorite_count': 0,\n",
       " 'favorited': False,\n",
       " 'retweeted': False,\n",
       " 'possibly_sensitive': False,\n",
       " 'lang': 'en'}"
      ]
     },
     "execution_count": 200,
     "metadata": {},
     "output_type": "execute_result"
    }
   ],
   "source": [
    "# What the available data look like for one tweet\n",
    "#tweets[27]"
   ]
  },
  {
   "cell_type": "code",
   "execution_count": 2,
   "metadata": {},
   "outputs": [],
   "source": [
    "# tweets2 = []\n",
    "# with open(\"Twitter Data Sets\\\\random_sample_tweets.jsonl\") as f:\n",
    "#     for line in f:\n",
    "#         tweets2.append(json.loads(line))"
   ]
  },
  {
   "cell_type": "markdown",
   "metadata": {},
   "source": [
    "### Text from Tweets"
   ]
  },
  {
   "cell_type": "code",
   "execution_count": 201,
   "metadata": {
    "scrolled": true
   },
   "outputs": [
    {
     "name": "stdout",
     "output_type": "stream",
     "text": [
      "RT @CDCgov: New York City, Puerto Rico and 32 states are still experiencing high levels of #flu-like-illness, the latest #FluView report fr…\n",
      "\n",
      "RT @OfficialJoelF: #BREAKING: @CNN reports the CDC will announce the first US case of this virus\n",
      "\n",
      "RT @CDCgov: The first human infection with new #coronavirus (#2019-nCoV) has been reported in the US in a person who recently traveled to W…\n",
      "\n",
      "RT @darhar981: First coronavirus case confirmed in US: CDC\n",
      "\n",
      "https://t.co/CinuPqVwab\n",
      "\n",
      "RT @StephenPunwasi: 😬 😬 😬\n",
      "\n",
      "Remember when Ford cut a billion dollars from Toronto's public health? 🤔\n",
      "\n",
      "A good portion of that was infectious…\n",
      "\n"
     ]
    },
    {
     "data": {
      "text/plain": [
       "[None, None, None, None, None]"
      ]
     },
     "execution_count": 201,
     "metadata": {},
     "output_type": "execute_result"
    }
   ],
   "source": [
    "#[print(tweets[i]['full_text'] +'\\n') for i in range(5)]"
   ]
  },
  {
   "cell_type": "code",
   "execution_count": 202,
   "metadata": {},
   "outputs": [
    {
     "name": "stdout",
     "output_type": "stream",
     "text": [
      "Malacca, Malaysia CDC confirms first US case of coronavirus that has killed 6 in China https://t.co/rgbSxA2YBz 通过 @CNBCi\n"
     ]
    },
    {
     "ename": "KeyError",
     "evalue": "'retweeted_status'",
     "output_type": "error",
     "traceback": [
      "\u001b[1;31m---------------------------------------------------------------------------\u001b[0m",
      "\u001b[1;31mKeyError\u001b[0m                                  Traceback (most recent call last)",
      "\u001b[1;32m<ipython-input-202-fbee3346a68e>\u001b[0m in \u001b[0;36m<module>\u001b[1;34m\u001b[0m\n\u001b[0;32m      1\u001b[0m \u001b[1;31m# If a Tweet was retweeted, the text may be shortened. For example, in this tweet below the 'full text'\u001b[0m\u001b[1;33m\u001b[0m\u001b[1;33m\u001b[0m\u001b[1;33m\u001b[0m\u001b[0m\n\u001b[0;32m      2\u001b[0m \u001b[1;31m# is actually cut short, but in the retweeted status we can see the full text.\u001b[0m\u001b[1;33m\u001b[0m\u001b[1;33m\u001b[0m\u001b[1;33m\u001b[0m\u001b[0m\n\u001b[1;32m----> 3\u001b[1;33m \u001b[0mprint\u001b[0m\u001b[1;33m(\u001b[0m\u001b[0mtweets\u001b[0m\u001b[1;33m[\u001b[0m\u001b[1;36m27\u001b[0m\u001b[1;33m]\u001b[0m\u001b[1;33m[\u001b[0m\u001b[1;34m'user'\u001b[0m\u001b[1;33m]\u001b[0m\u001b[1;33m[\u001b[0m\u001b[1;34m'location'\u001b[0m\u001b[1;33m]\u001b[0m\u001b[1;33m,\u001b[0m \u001b[0mtweets\u001b[0m\u001b[1;33m[\u001b[0m\u001b[1;36m27\u001b[0m\u001b[1;33m]\u001b[0m\u001b[1;33m[\u001b[0m\u001b[1;34m'full_text'\u001b[0m\u001b[1;33m]\u001b[0m\u001b[1;33m)\u001b[0m\u001b[1;33m,\u001b[0m \u001b[0mtweets\u001b[0m\u001b[1;33m[\u001b[0m\u001b[1;36m27\u001b[0m\u001b[1;33m]\u001b[0m\u001b[1;33m[\u001b[0m\u001b[1;34m'retweeted_status'\u001b[0m\u001b[1;33m]\u001b[0m\u001b[1;33m[\u001b[0m\u001b[1;34m'full_text'\u001b[0m\u001b[1;33m]\u001b[0m\u001b[1;33m\u001b[0m\u001b[1;33m\u001b[0m\u001b[0m\n\u001b[0m",
      "\u001b[1;31mKeyError\u001b[0m: 'retweeted_status'"
     ]
    }
   ],
   "source": [
    "# If a Tweet was retweeted, the text may be shortened. For example, in this tweet below the 'full text'\n",
    "# is actually cut short, but in the retweeted status we can see the full text.\n",
    "#print(tweets[27]['user']['location'], tweets[27]['full_text']), tweets[27]['retweeted_status']['full_text']"
   ]
  },
  {
   "cell_type": "markdown",
   "metadata": {},
   "source": [
    "### Locations from Tweets"
   ]
  },
  {
   "cell_type": "code",
   "execution_count": null,
   "metadata": {},
   "outputs": [],
   "source": [
    "# Printing out the first five user locations in the file\n",
    "#[tweets[i]['user']['location'] for i in range(15)]"
   ]
  },
  {
   "cell_type": "markdown",
   "metadata": {},
   "source": [
    "#### Let's see how many users have 'Seattle' as their exact location and what they tweeted."
   ]
  },
  {
   "cell_type": "code",
   "execution_count": 7,
   "metadata": {},
   "outputs": [],
   "source": [
    "text_tweets = pd.Series([tweets[i]['full_text'] for i in range(len(tweets))])\n",
    "locations = pd.Series([tweets[i]['user']['location'] for i in range(len(tweets))])\n",
    "seattle = pd.Series([tweets[i]['user']['location'] == 'Seattle' for i in range(len(tweets))])\n",
    "full_text_tweets = []\n",
    "for i in range(len(tweets)):\n",
    "    try:\n",
    "        full_text_tweets.append(tweets[i]['retweeted_status']['full_text'])\n",
    "    except:\n",
    "        full_text_tweets.append('n/a')\n",
    "full_text_tweets = pd.Series(full_text_tweets)"
   ]
  },
  {
   "cell_type": "code",
   "execution_count": 9,
   "metadata": {},
   "outputs": [
    {
     "name": "stdout",
     "output_type": "stream",
     "text": [
      "There are 172 users who have 'Seattle' as their location\n"
     ]
    }
   ],
   "source": [
    "print(\"There are {} users who have 'Seattle' as their location\".format(len(locations[seattle])))"
   ]
  },
  {
   "cell_type": "code",
   "execution_count": null,
   "metadata": {},
   "outputs": [],
   "source": [
    "# Let's be more flexible with the location\n",
    "flexible = pd.Series([tweets[i]['user']['location'] in ['Seattle','seattle', 'PNW', 'Seattle, Wa'] \n",
    "                      for i in range(len(tweets))])"
   ]
  },
  {
   "cell_type": "code",
   "execution_count": null,
   "metadata": {},
   "outputs": [],
   "source": [
    "print(\"There are {} users who have 'Seattle', 'seattle', 'PNW', 'Seattle, Wa' as their location\".format(len(locations[flexible])))"
   ]
  },
  {
   "cell_type": "code",
   "execution_count": null,
   "metadata": {},
   "outputs": [],
   "source": [
    "for i in full_text_tweets[seattle]:\n",
    "    print(i,'\\n')"
   ]
  },
  {
   "cell_type": "markdown",
   "metadata": {},
   "source": [
    "#### Clean up the locations"
   ]
  },
  {
   "cell_type": "code",
   "execution_count": null,
   "metadata": {},
   "outputs": [],
   "source": [
    "locations = pd.Series([tweets[i]['user']['location'] for i in range(len(tweets))])\n",
    "locations = locations.str.lower().str.replace('\\n', ' ').str.replace('\\t', ' ').str.replace(r\"[^\\w\\s']\",' ').str.strip()"
   ]
  },
  {
   "cell_type": "code",
   "execution_count": null,
   "metadata": {},
   "outputs": [],
   "source": [
    "(len(tweets_in_location['full_text'])/len(tweets))*100"
   ]
  },
  {
   "cell_type": "markdown",
   "metadata": {},
   "source": [
    "#### Locations are not great, but some users are geo_enabled and have coordinates."
   ]
  },
  {
   "cell_type": "code",
   "execution_count": 274,
   "metadata": {},
   "outputs": [],
   "source": [
    "tweets_coords = []\n",
    "for i in tweets:\n",
    "    if i['coordinates'] != None:\n",
    "        tweets_coords.append(i)"
   ]
  },
  {
   "cell_type": "code",
   "execution_count": 275,
   "metadata": {},
   "outputs": [
    {
     "data": {
      "text/plain": [
       "67"
      ]
     },
     "execution_count": 275,
     "metadata": {},
     "output_type": "execute_result"
    }
   ],
   "source": [
    "len(tweets_coords)"
   ]
  },
  {
   "cell_type": "markdown",
   "metadata": {},
   "source": [
    "#### 130 Users in this file have a geolocation"
   ]
  },
  {
   "cell_type": "code",
   "execution_count": 276,
   "metadata": {},
   "outputs": [
    {
     "data": {
      "text/plain": [
       "('The City Of TRees', {'type': 'Point', 'coordinates': [-121.4947, 38.577]})"
      ]
     },
     "execution_count": 276,
     "metadata": {},
     "output_type": "execute_result"
    }
   ],
   "source": [
    "# Show the coordinates + location for one tweet \n",
    "tweets_coords[1]['user']['location'], tweets_coords[1]['coordinates']"
   ]
  },
  {
   "cell_type": "code",
   "execution_count": 277,
   "metadata": {},
   "outputs": [
    {
     "data": {
      "text/html": [
       "<div>\n",
       "<style scoped>\n",
       "    .dataframe tbody tr th:only-of-type {\n",
       "        vertical-align: middle;\n",
       "    }\n",
       "\n",
       "    .dataframe tbody tr th {\n",
       "        vertical-align: top;\n",
       "    }\n",
       "\n",
       "    .dataframe thead th {\n",
       "        text-align: right;\n",
       "    }\n",
       "</style>\n",
       "<table border=\"1\" class=\"dataframe\">\n",
       "  <thead>\n",
       "    <tr style=\"text-align: right;\">\n",
       "      <th></th>\n",
       "      <th>geometry</th>\n",
       "    </tr>\n",
       "  </thead>\n",
       "  <tbody>\n",
       "    <tr>\n",
       "      <td>0</td>\n",
       "      <td>POINT (121.77137 16.93270)</td>\n",
       "    </tr>\n",
       "    <tr>\n",
       "      <td>1</td>\n",
       "      <td>POINT (-121.49470 38.57700)</td>\n",
       "    </tr>\n",
       "    <tr>\n",
       "      <td>2</td>\n",
       "      <td>POINT (-6.28035 53.36853)</td>\n",
       "    </tr>\n",
       "    <tr>\n",
       "      <td>3</td>\n",
       "      <td>POINT (139.65920 35.56180)</td>\n",
       "    </tr>\n",
       "    <tr>\n",
       "      <td>4</td>\n",
       "      <td>POINT (103.84317 1.28218)</td>\n",
       "    </tr>\n",
       "  </tbody>\n",
       "</table>\n",
       "</div>"
      ],
      "text/plain": [
       "                      geometry\n",
       "0   POINT (121.77137 16.93270)\n",
       "1  POINT (-121.49470 38.57700)\n",
       "2    POINT (-6.28035 53.36853)\n",
       "3   POINT (139.65920 35.56180)\n",
       "4    POINT (103.84317 1.28218)"
      ]
     },
     "execution_count": 277,
     "metadata": {},
     "output_type": "execute_result"
    }
   ],
   "source": [
    "# Get all lats and lons and store them in a geopandas df for plotting\n",
    "lats = [tweets_coords[i]['coordinates']['coordinates'][0] for i in range(len(tweets_coords))]\n",
    "lons = [tweets_coords[i]['coordinates']['coordinates'][1] for i in range(len(tweets_coords))]\n",
    "geometry = [Point(xy) for xy in zip(lats, lons)]\n",
    "geodf = gpd.GeoDataFrame(geometry, columns = ['geometry'])\n",
    "# Check it works\n",
    "geodf.head()"
   ]
  },
  {
   "cell_type": "code",
   "execution_count": null,
   "metadata": {},
   "outputs": [],
   "source": []
  },
  {
   "cell_type": "code",
   "execution_count": 278,
   "metadata": {},
   "outputs": [],
   "source": [
    "def reverseGeocode(coordinates): \n",
    "    result = rg.search(coordinates)\n",
    "    return result"
   ]
  },
  {
   "cell_type": "code",
   "execution_count": 279,
   "metadata": {},
   "outputs": [],
   "source": [
    "tuplecoords = [(tweets_coords[i]['coordinates']['coordinates'][1], tweets_coords[i]['coordinates']['coordinates'][0]) \n",
    "      for i in range(len(tweets_coords))]"
   ]
  },
  {
   "cell_type": "code",
   "execution_count": 280,
   "metadata": {},
   "outputs": [
    {
     "name": "stdout",
     "output_type": "stream",
     "text": [
      "Loading formatted geocoded file...\n"
     ]
    }
   ],
   "source": [
    "result = []\n",
    "for i in range(len(tweets_coords)):\n",
    "    result.append(reverseGeocode(tuplecoords[i]))"
   ]
  },
  {
   "cell_type": "code",
   "execution_count": 281,
   "metadata": {},
   "outputs": [],
   "source": [
    "placename = []\n",
    "admin1 = []\n",
    "admin2 = []\n",
    "for i in range(len(result)):\n",
    "    placename.append(result[i][0]['name'])\n",
    "    admin1.append(result[i][0]['admin1'])\n",
    "    admin2.append(result[i][0]['admin2'])"
   ]
  },
  {
   "cell_type": "code",
   "execution_count": 282,
   "metadata": {
    "scrolled": true
   },
   "outputs": [
    {
     "name": "stdout",
     "output_type": "stream",
     "text": [
      "Cauayan ,  Cagayan Valley ,  Province of Isabela\n",
      "Sacramento ,  California ,  Sacramento County\n",
      "Cabra ,  Leinster ,  \n",
      "Kawasaki ,  Kanagawa ,  Kawasaki-shi\n",
      "Singapore ,   ,  \n",
      "London ,  England ,  Greater London\n",
      "Wuhan ,  Hubei ,  \n",
      "Warsaw ,  Masovian Voivodeship ,  Warszawa\n",
      "Milano ,  Lombardy ,  Citta metropolitana di Milano\n",
      "Guangzhou ,  Guangdong ,  \n",
      "Abuja ,  Abuja Federal Capital Territory ,  \n",
      "Tallahassee ,  Florida ,  Leon County\n",
      "Bang Khen ,  Bangkok ,  \n",
      "Wuhan ,  Hubei ,  \n",
      "Sherman Oaks ,  California ,  Los Angeles County\n",
      "Abuja ,  Abuja Federal Capital Territory ,  \n",
      "Wuhan ,  Hubei ,  \n",
      "Ikoyi ,  Lagos ,  \n",
      "Sydney ,  New South Wales ,  City of Sydney\n",
      "Grapevine ,  Texas ,  Tarrant County\n",
      "San Francisco ,  California ,  San Francisco County\n",
      "San Francisco ,  California ,  San Francisco County\n",
      "Jingshan ,  Beijing ,  \n",
      "Tegal ,  Central Java ,  \n",
      "Yuen Long Kau Hui ,  Yuen Long ,  \n",
      "Kangbao ,  Hebei ,  \n",
      "Wuhan ,  Hubei ,  \n",
      "Moganshan ,  Zhejiang Sheng ,  \n",
      "Jakarta ,  Jakarta Raya ,  \n",
      "New York City ,  New York ,  \n",
      "Wuhan ,  Hubei ,  \n",
      "Center ,  Texas ,  Shelby County\n",
      "Toronto ,  Ontario ,  \n",
      "Bang Khen ,  Bangkok ,  \n",
      "Quezon City ,  Metro Manila ,  Quezon City\n",
      "Shulinzhao ,  Inner Mongolia ,  \n",
      "Jingshan ,  Beijing ,  \n",
      "Caomiaozi ,  Shandong Sheng ,  \n",
      "Milano ,  Lombardy ,  Citta metropolitana di Milano\n",
      "Warsaw ,  Masovian Voivodeship ,  Warszawa\n",
      "Macau ,  Macau ,  \n",
      "Buffalo ,  New York ,  Erie County\n",
      "Hammersmith ,  England ,  Greater London\n",
      "Jiulong ,  Guangdong ,  \n",
      "Sharjah ,  Ash Shariqah ,  \n",
      "Auckley ,  England ,  Doncaster\n",
      "Leh ,  Kashmir ,  Ladakh\n",
      "New York City ,  New York ,  \n",
      "Rathkeale ,  Munster ,  County Limerick\n",
      "Lahore ,  Punjab ,  \n",
      "Vail ,  Colorado ,  Eagle County\n",
      "San Diego ,  California ,  San Diego County\n",
      "Chicago ,  Illinois ,  Cook County\n",
      "Tianhe ,  Hubei ,  \n",
      "Puerto Vallarta ,  Jalisco ,  Puerto Vallarta\n",
      "London ,  England ,  Greater London\n",
      "Conway ,  Arkansas ,  Faulkner County\n",
      "Hudson ,  Texas ,  Harris County\n",
      "Highland Park ,  Texas ,  Dallas County\n",
      "South Tangerang ,  Banten ,  \n",
      "Pepper Pike ,  Ohio ,  Cuyahoga County\n",
      "Seven Mile Beach ,  Tasmania ,  Clarence\n",
      "Rengang ,  Jiangsu Sheng ,  \n",
      "Abuja ,  Abuja Federal Capital Territory ,  \n",
      "Xihu ,  Zhejiang Sheng ,  \n",
      "Portland ,  Oregon ,  Multnomah County\n",
      "Sharjah ,  Ash Shariqah ,  \n"
     ]
    }
   ],
   "source": [
    "for i in range(len(result)):\n",
    "    print(placename[i], \", \", admin1[i], \", \" ,admin2[i])"
   ]
  },
  {
   "cell_type": "code",
   "execution_count": 285,
   "metadata": {},
   "outputs": [],
   "source": [
    "flindices = [i for i, x in enumerate(admin1) if x == \"Florida\"]\n",
    "waindices = [i for i, x in enumerate(admin1) if x == 'Washington']"
   ]
  },
  {
   "cell_type": "code",
   "execution_count": 286,
   "metadata": {},
   "outputs": [
    {
     "data": {
      "text/plain": [
       "([11], [])"
      ]
     },
     "execution_count": 286,
     "metadata": {},
     "output_type": "execute_result"
    }
   ],
   "source": [
    "flindices, waindices"
   ]
  },
  {
   "cell_type": "markdown",
   "metadata": {},
   "source": [
    "### Sources\n",
    "#### Twarc: https://github.com/DocNow/twarc\n",
    "#### Twitter IDs: https://github.com/echen102/COVID-19-TweetIDs"
   ]
  }
 ],
 "metadata": {
  "kernelspec": {
   "display_name": "Python 3",
   "language": "python",
   "name": "python3"
  },
  "language_info": {
   "codemirror_mode": {
    "name": "ipython",
    "version": 3
   },
   "file_extension": ".py",
   "mimetype": "text/x-python",
   "name": "python",
   "nbconvert_exporter": "python",
   "pygments_lexer": "ipython3",
   "version": "3.7.4"
  }
 },
 "nbformat": 4,
 "nbformat_minor": 2
}
