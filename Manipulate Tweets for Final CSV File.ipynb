{
 "cells": [
  {
   "cell_type": "markdown",
   "metadata": {},
   "source": [
    "# Manipulating Twitter Data for Analysis\n",
    "## After Filtering Out the Relevant Tweets, We Will Prepare the Data for a Final Analysis. We Need 3 Variables: \n",
    "1. When the Tweet was Created\n",
    "2. The Full Text of the Tweet\n",
    "3. Whether the Tweet is Associated with Washington or Florida"
   ]
  },
  {
   "cell_type": "code",
   "execution_count": 36,
   "metadata": {},
   "outputs": [
    {
     "name": "stderr",
     "output_type": "stream",
     "text": [
      "[nltk_data] Downloading package stopwords to\n",
      "[nltk_data]     C:\\Users\\John\\AppData\\Roaming\\nltk_data...\n",
      "[nltk_data]   Package stopwords is already up-to-date!\n"
     ]
    }
   ],
   "source": [
    "import pandas as pd\n",
    "import numpy as np\n",
    "import matplotlib.pyplot as plt\n",
    "from shapely.geometry import Point, Polygon\n",
    "import geopandas as gpd\n",
    "from pygeocoder import Geocoder\n",
    "import reverse_geocoder as rg \n",
    "import glob\n",
    "import os"
   ]
  },
  {
   "cell_type": "markdown",
   "metadata": {},
   "source": [
    "## Combine all csv Files that were Output in the Previous Steps"
   ]
  },
  {
   "cell_type": "code",
   "execution_count": 4,
   "metadata": {},
   "outputs": [],
   "source": [
    "# Use Glob package to combine all csv files in a directory into one and read them in as a dtaframe\n",
    "tweets = pd.DataFrame()\n",
    "for f in glob.glob(\"C:\\\\Users\\\\John\\\\Desktop\\\\MSIM\\\\Spring Quarter 2020\\\\IMT 575\\\\Group Project\\\\twitter data sets\\\\CsvOutputs\\\\random*.csv\"):\n",
    "    df = pd.read_csv(f)\n",
    "    tweets = all_data.append(df, ignore_index=True)"
   ]
  },
  {
   "cell_type": "code",
   "execution_count": 5,
   "metadata": {},
   "outputs": [
    {
     "data": {
      "text/html": [
       "<div>\n",
       "<style scoped>\n",
       "    .dataframe tbody tr th:only-of-type {\n",
       "        vertical-align: middle;\n",
       "    }\n",
       "\n",
       "    .dataframe tbody tr th {\n",
       "        vertical-align: top;\n",
       "    }\n",
       "\n",
       "    .dataframe thead th {\n",
       "        text-align: right;\n",
       "    }\n",
       "</style>\n",
       "<table border=\"1\" class=\"dataframe\">\n",
       "  <thead>\n",
       "    <tr style=\"text-align: right;\">\n",
       "      <th></th>\n",
       "      <th>created_at</th>\n",
       "      <th>full_text</th>\n",
       "      <th>userid</th>\n",
       "      <th>location</th>\n",
       "      <th>coordinates</th>\n",
       "      <th>retweeted_text</th>\n",
       "    </tr>\n",
       "  </thead>\n",
       "  <tbody>\n",
       "    <tr>\n",
       "      <td>0</td>\n",
       "      <td>Wed Jan 22 05:06:17 +0000 2020</td>\n",
       "      <td>First US case of Wuhan coronavirus confirmed b...</td>\n",
       "      <td>297176227</td>\n",
       "      <td>Seattle, WA</td>\n",
       "      <td>NaN</td>\n",
       "      <td>NaN</td>\n",
       "    </tr>\n",
       "    <tr>\n",
       "      <td>1</td>\n",
       "      <td>Wed Jan 22 14:25:06 +0000 2020</td>\n",
       "      <td>RT @HelenBranswell: .@WHO has issued the first...</td>\n",
       "      <td>59955964</td>\n",
       "      <td>Spokane, WA</td>\n",
       "      <td>NaN</td>\n",
       "      <td>.@WHO has issued the first of what I hope will...</td>\n",
       "    </tr>\n",
       "    <tr>\n",
       "      <td>2</td>\n",
       "      <td>Wed Jan 22 18:39:12 +0000 2020</td>\n",
       "      <td>Though the heads of the CDC and WHO would stro...</td>\n",
       "      <td>299511490</td>\n",
       "      <td>Seattle, WA</td>\n",
       "      <td>NaN</td>\n",
       "      <td>NaN</td>\n",
       "    </tr>\n",
       "    <tr>\n",
       "      <td>3</td>\n",
       "      <td>Wed Jan 22 20:28:16 +0000 2020</td>\n",
       "      <td>⚠️CONTAINING #CORONAVIRUS⚠️ China is taking ac...</td>\n",
       "      <td>16743886</td>\n",
       "      <td>Tampa, Florida</td>\n",
       "      <td>NaN</td>\n",
       "      <td>NaN</td>\n",
       "    </tr>\n",
       "    <tr>\n",
       "      <td>4</td>\n",
       "      <td>Wed Jan 22 22:06:14 +0000 2020</td>\n",
       "      <td>Once I set an iPhone alarm, I just never chang...</td>\n",
       "      <td>14922679</td>\n",
       "      <td>Seattle</td>\n",
       "      <td>NaN</td>\n",
       "      <td>NaN</td>\n",
       "    </tr>\n",
       "  </tbody>\n",
       "</table>\n",
       "</div>"
      ],
      "text/plain": [
       "                       created_at  \\\n",
       "0  Wed Jan 22 05:06:17 +0000 2020   \n",
       "1  Wed Jan 22 14:25:06 +0000 2020   \n",
       "2  Wed Jan 22 18:39:12 +0000 2020   \n",
       "3  Wed Jan 22 20:28:16 +0000 2020   \n",
       "4  Wed Jan 22 22:06:14 +0000 2020   \n",
       "\n",
       "                                           full_text     userid  \\\n",
       "0  First US case of Wuhan coronavirus confirmed b...  297176227   \n",
       "1  RT @HelenBranswell: .@WHO has issued the first...   59955964   \n",
       "2  Though the heads of the CDC and WHO would stro...  299511490   \n",
       "3  ⚠️CONTAINING #CORONAVIRUS⚠️ China is taking ac...   16743886   \n",
       "4  Once I set an iPhone alarm, I just never chang...   14922679   \n",
       "\n",
       "         location coordinates  \\\n",
       "0     Seattle, WA         NaN   \n",
       "1     Spokane, WA         NaN   \n",
       "2     Seattle, WA         NaN   \n",
       "3  Tampa, Florida         NaN   \n",
       "4         Seattle         NaN   \n",
       "\n",
       "                                      retweeted_text  \n",
       "0                                                NaN  \n",
       "1  .@WHO has issued the first of what I hope will...  \n",
       "2                                                NaN  \n",
       "3                                                NaN  \n",
       "4                                                NaN  "
      ]
     },
     "execution_count": 5,
     "metadata": {},
     "output_type": "execute_result"
    }
   ],
   "source": [
    "tweets.head()"
   ]
  },
  {
   "cell_type": "code",
   "execution_count": 6,
   "metadata": {
    "scrolled": true
   },
   "outputs": [
    {
     "data": {
      "text/plain": [
       "created_at        object\n",
       "full_text         object\n",
       "userid             int64\n",
       "location          object\n",
       "coordinates       object\n",
       "retweeted_text    object\n",
       "dtype: object"
      ]
     },
     "execution_count": 6,
     "metadata": {},
     "output_type": "execute_result"
    }
   ],
   "source": [
    "tweets.dtypes"
   ]
  },
  {
   "cell_type": "code",
   "execution_count": 7,
   "metadata": {},
   "outputs": [],
   "source": [
    "# Convert Created At to Date Time\n",
    "tweets['created_at'] = pd.to_datetime(tweets['created_at'])"
   ]
  },
  {
   "cell_type": "code",
   "execution_count": 8,
   "metadata": {},
   "outputs": [
    {
     "name": "stdout",
     "output_type": "stream",
     "text": [
      "Number of Days Between First and Last Tweets: 86 days 21:09:32\n"
     ]
    }
   ],
   "source": [
    "print(\"Number of Days Between First and Last Tweets: {}\".format(max(tweets['created_at']) - min(tweets['created_at'])))"
   ]
  },
  {
   "cell_type": "code",
   "execution_count": 46,
   "metadata": {},
   "outputs": [
    {
     "data": {
      "text/plain": [
       "Text(0.5, 1.0, 'Number of Tweets per Day')"
      ]
     },
     "execution_count": 46,
     "metadata": {},
     "output_type": "execute_result"
    },
    {
     "data": {
      "image/png": "[encoded data removed]",
      "text/plain": [
       "<Figure size 576x576 with 1 Axes>"
      ]
     },
     "metadata": {
      "needs_background": "light"
     },
     "output_type": "display_data"
    }
   ],
   "source": [
    "plt.figure(figsize = (8,8))\n",
    "plt.hist(tweets['created_at'], bins = 86)\n",
    "plt.title('Number of Tweets per Day')"
   ]
  },
  {
   "cell_type": "markdown",
   "metadata": {},
   "source": [
    "# Store Locations (Coords & Self-Reported) as Washington or Florida\n",
    "## We Have Two Columns of Location Data (Coordinates and Location) and We Need Combine the Two into One Final Column"
   ]
  },
  {
   "cell_type": "markdown",
   "metadata": {},
   "source": [
    "### Determine Tweet Location by User-Defined Location"
   ]
  },
  {
   "cell_type": "code",
   "execution_count": 13,
   "metadata": {},
   "outputs": [],
   "source": [
    "# Create a new column that will have boolean values if the tweet's user-defiend location is in Washington\n",
    "tweets['Washington'] = [tweets['location'].str.lower()[i] in ['seattle', 'spokane', 'tacoma', 'bellingham', 'tri cities', 'yakima', 'olympia',\n",
    "                       'wa', 'washington state', 'seattle, wa', 'spokane, wa', 'tacoma, wa', 'bellingham, wa',\n",
    "                       'tri cities, wa', 'yakima, wa', 'olympia, wa', 'seattle, washington', 'spokane, washington', \n",
    "                       'tacoma, washington', 'bellingham, washington', 'tri cities, washington', 'yakima, washington',\n",
    "                       'olympia, washington'] for i in range(len(tweets))]"
   ]
  },
  {
   "cell_type": "code",
   "execution_count": 14,
   "metadata": {},
   "outputs": [
    {
     "data": {
      "text/html": [
       "<div>\n",
       "<style scoped>\n",
       "    .dataframe tbody tr th:only-of-type {\n",
       "        vertical-align: middle;\n",
       "    }\n",
       "\n",
       "    .dataframe tbody tr th {\n",
       "        vertical-align: top;\n",
       "    }\n",
       "\n",
       "    .dataframe thead th {\n",
       "        text-align: right;\n",
       "    }\n",
       "</style>\n",
       "<table border=\"1\" class=\"dataframe\">\n",
       "  <thead>\n",
       "    <tr style=\"text-align: right;\">\n",
       "      <th></th>\n",
       "      <th>created_at</th>\n",
       "      <th>full_text</th>\n",
       "      <th>userid</th>\n",
       "      <th>location</th>\n",
       "      <th>coordinates</th>\n",
       "      <th>retweeted_text</th>\n",
       "      <th>Washington</th>\n",
       "    </tr>\n",
       "  </thead>\n",
       "  <tbody>\n",
       "    <tr>\n",
       "      <td>0</td>\n",
       "      <td>2020-01-22 05:06:17+00:00</td>\n",
       "      <td>First US case of Wuhan coronavirus confirmed b...</td>\n",
       "      <td>297176227</td>\n",
       "      <td>Seattle, WA</td>\n",
       "      <td>NaN</td>\n",
       "      <td>NaN</td>\n",
       "      <td>True</td>\n",
       "    </tr>\n",
       "    <tr>\n",
       "      <td>1</td>\n",
       "      <td>2020-01-22 14:25:06+00:00</td>\n",
       "      <td>RT @HelenBranswell: .@WHO has issued the first...</td>\n",
       "      <td>59955964</td>\n",
       "      <td>Spokane, WA</td>\n",
       "      <td>NaN</td>\n",
       "      <td>.@WHO has issued the first of what I hope will...</td>\n",
       "      <td>True</td>\n",
       "    </tr>\n",
       "    <tr>\n",
       "      <td>2</td>\n",
       "      <td>2020-01-22 18:39:12+00:00</td>\n",
       "      <td>Though the heads of the CDC and WHO would stro...</td>\n",
       "      <td>299511490</td>\n",
       "      <td>Seattle, WA</td>\n",
       "      <td>NaN</td>\n",
       "      <td>NaN</td>\n",
       "      <td>True</td>\n",
       "    </tr>\n",
       "    <tr>\n",
       "      <td>3</td>\n",
       "      <td>2020-01-22 20:28:16+00:00</td>\n",
       "      <td>⚠️CONTAINING #CORONAVIRUS⚠️ China is taking ac...</td>\n",
       "      <td>16743886</td>\n",
       "      <td>Tampa, Florida</td>\n",
       "      <td>NaN</td>\n",
       "      <td>NaN</td>\n",
       "      <td>False</td>\n",
       "    </tr>\n",
       "    <tr>\n",
       "      <td>4</td>\n",
       "      <td>2020-01-22 22:06:14+00:00</td>\n",
       "      <td>Once I set an iPhone alarm, I just never chang...</td>\n",
       "      <td>14922679</td>\n",
       "      <td>Seattle</td>\n",
       "      <td>NaN</td>\n",
       "      <td>NaN</td>\n",
       "      <td>True</td>\n",
       "    </tr>\n",
       "  </tbody>\n",
       "</table>\n",
       "</div>"
      ],
      "text/plain": [
       "                 created_at  \\\n",
       "0 2020-01-22 05:06:17+00:00   \n",
       "1 2020-01-22 14:25:06+00:00   \n",
       "2 2020-01-22 18:39:12+00:00   \n",
       "3 2020-01-22 20:28:16+00:00   \n",
       "4 2020-01-22 22:06:14+00:00   \n",
       "\n",
       "                                           full_text     userid  \\\n",
       "0  First US case of Wuhan coronavirus confirmed b...  297176227   \n",
       "1  RT @HelenBranswell: .@WHO has issued the first...   59955964   \n",
       "2  Though the heads of the CDC and WHO would stro...  299511490   \n",
       "3  ⚠️CONTAINING #CORONAVIRUS⚠️ China is taking ac...   16743886   \n",
       "4  Once I set an iPhone alarm, I just never chang...   14922679   \n",
       "\n",
       "         location coordinates  \\\n",
       "0     Seattle, WA         NaN   \n",
       "1     Spokane, WA         NaN   \n",
       "2     Seattle, WA         NaN   \n",
       "3  Tampa, Florida         NaN   \n",
       "4         Seattle         NaN   \n",
       "\n",
       "                                      retweeted_text  Washington  \n",
       "0                                                NaN        True  \n",
       "1  .@WHO has issued the first of what I hope will...        True  \n",
       "2                                                NaN        True  \n",
       "3                                                NaN       False  \n",
       "4                                                NaN        True  "
      ]
     },
     "execution_count": 14,
     "metadata": {},
     "output_type": "execute_result"
    }
   ],
   "source": [
    "tweets.head()"
   ]
  },
  {
   "cell_type": "code",
   "execution_count": 15,
   "metadata": {},
   "outputs": [
    {
     "data": {
      "text/plain": [
       "True     28439\n",
       "False    25508\n",
       "Name: Washington, dtype: int64"
      ]
     },
     "execution_count": 15,
     "metadata": {},
     "output_type": "execute_result"
    }
   ],
   "source": [
    "# Show the number of tweeets from Wa and Fl\n",
    "tweets['Washington'].value_counts()"
   ]
  },
  {
   "cell_type": "markdown",
   "metadata": {},
   "source": [
    "### Determine Tweet Location by Geo-Coordinates"
   ]
  },
  {
   "cell_type": "code",
   "execution_count": 16,
   "metadata": {},
   "outputs": [],
   "source": [
    "# Put the non-null coordinates in a dataframe\n",
    "coordsdf = pd.DataFrame(tweets['coordinates'][pd.notnull(tweets['coordinates'])])"
   ]
  },
  {
   "cell_type": "code",
   "execution_count": 25,
   "metadata": {},
   "outputs": [
    {
     "data": {
      "text/html": [
       "<div>\n",
       "<style scoped>\n",
       "    .dataframe tbody tr th:only-of-type {\n",
       "        vertical-align: middle;\n",
       "    }\n",
       "\n",
       "    .dataframe tbody tr th {\n",
       "        vertical-align: top;\n",
       "    }\n",
       "\n",
       "    .dataframe thead th {\n",
       "        text-align: right;\n",
       "    }\n",
       "</style>\n",
       "<table border=\"1\" class=\"dataframe\">\n",
       "  <thead>\n",
       "    <tr style=\"text-align: right;\">\n",
       "      <th></th>\n",
       "      <th>coordinates</th>\n",
       "    </tr>\n",
       "  </thead>\n",
       "  <tbody>\n",
       "    <tr>\n",
       "      <td>1181</td>\n",
       "      <td>{'type': 'Point', 'coordinates': [-84.2836, 30...</td>\n",
       "    </tr>\n",
       "    <tr>\n",
       "      <td>2232</td>\n",
       "      <td>{'type': 'Point', 'coordinates': [-122.3308, 4...</td>\n",
       "    </tr>\n",
       "    <tr>\n",
       "      <td>2636</td>\n",
       "      <td>{'type': 'Point', 'coordinates': [-80.1341, 25...</td>\n",
       "    </tr>\n",
       "    <tr>\n",
       "      <td>2637</td>\n",
       "      <td>{'type': 'Point', 'coordinates': [-82.684, 28....</td>\n",
       "    </tr>\n",
       "    <tr>\n",
       "      <td>2638</td>\n",
       "      <td>{'type': 'Point', 'coordinates': [-80.26295, 2...</td>\n",
       "    </tr>\n",
       "    <tr>\n",
       "      <td>...</td>\n",
       "      <td>...</td>\n",
       "    </tr>\n",
       "    <tr>\n",
       "      <td>53942</td>\n",
       "      <td>{'type': 'Point', 'coordinates': [-80.25343648...</td>\n",
       "    </tr>\n",
       "    <tr>\n",
       "      <td>53943</td>\n",
       "      <td>{'type': 'Point', 'coordinates': [-81.3775, 28...</td>\n",
       "    </tr>\n",
       "    <tr>\n",
       "      <td>53944</td>\n",
       "      <td>{'type': 'Point', 'coordinates': [-122.603, 45...</td>\n",
       "    </tr>\n",
       "    <tr>\n",
       "      <td>53945</td>\n",
       "      <td>{'type': 'Point', 'coordinates': [-122.459, 47...</td>\n",
       "    </tr>\n",
       "    <tr>\n",
       "      <td>53946</td>\n",
       "      <td>{'type': 'Point', 'coordinates': [-122.3337725...</td>\n",
       "    </tr>\n",
       "  </tbody>\n",
       "</table>\n",
       "<p>147 rows × 1 columns</p>\n",
       "</div>"
      ],
      "text/plain": [
       "                                             coordinates\n",
       "1181   {'type': 'Point', 'coordinates': [-84.2836, 30...\n",
       "2232   {'type': 'Point', 'coordinates': [-122.3308, 4...\n",
       "2636   {'type': 'Point', 'coordinates': [-80.1341, 25...\n",
       "2637   {'type': 'Point', 'coordinates': [-82.684, 28....\n",
       "2638   {'type': 'Point', 'coordinates': [-80.26295, 2...\n",
       "...                                                  ...\n",
       "53942  {'type': 'Point', 'coordinates': [-80.25343648...\n",
       "53943  {'type': 'Point', 'coordinates': [-81.3775, 28...\n",
       "53944  {'type': 'Point', 'coordinates': [-122.603, 45...\n",
       "53945  {'type': 'Point', 'coordinates': [-122.459, 47...\n",
       "53946  {'type': 'Point', 'coordinates': [-122.3337725...\n",
       "\n",
       "[147 rows x 1 columns]"
      ]
     },
     "execution_count": 25,
     "metadata": {},
     "output_type": "execute_result"
    }
   ],
   "source": [
    "# The Coordinates are brought in as a JSON object\n",
    "coordsdf"
   ]
  },
  {
   "cell_type": "code",
   "execution_count": 17,
   "metadata": {},
   "outputs": [
    {
     "data": {
      "text/plain": [
       "Int64Index([ 1181,  2232,  2636,  2637,  2638,  2639,  2640,  2641,  2642,\n",
       "             2643,\n",
       "            ...\n",
       "            53937, 53938, 53939, 53940, 53941, 53942, 53943, 53944, 53945,\n",
       "            53946],\n",
       "           dtype='int64', length=147)"
      ]
     },
     "execution_count": 17,
     "metadata": {},
     "output_type": "execute_result"
    }
   ],
   "source": [
    "# Get the index position where coordinates are not null\n",
    "c_ind = coordsdf.index\n",
    "c_ind"
   ]
  },
  {
   "cell_type": "code",
   "execution_count": 26,
   "metadata": {},
   "outputs": [],
   "source": [
    "# Turn the JSON objects into a dictionary\n",
    "coordsdict = pd.DataFrame.to_dict(coordsdf)\n",
    "# Remove characters to have only the coordinates\n",
    "coordsdict = [coordsdict['coordinates'][i].split(\":\")[2].replace(\"}\",\"\").replace(\"[\",\"\").replace(\"]\",\"\").replace(\"'\",\"\") for i in c_ind]"
   ]
  },
  {
   "cell_type": "code",
   "execution_count": 29,
   "metadata": {},
   "outputs": [],
   "source": [
    "# Split coordinates by the comma to get a latitude and longitude\n",
    "coords = [coordsdict[i].split(',') for i in range(len(coordsdict))]\n",
    "lat = [float(coords[i][0]) for i in range(len(coords))]\n",
    "lon = [float(coords[i][1]) for i in range(len(coords))]\n",
    "# Store the coordinates in a tuple to pass into the function to reverse GeoCode coorindates\n",
    "tuplecoords = [(float(coords[i][1]), float(coords[i][0])) for i in range(len(coords))]"
   ]
  },
  {
   "cell_type": "code",
   "execution_count": 32,
   "metadata": {},
   "outputs": [],
   "source": [
    "# Function to Reverse GeoCode the coordinates to see if they are in Washington or Florida\n",
    "def reverseGeocode(coordinates): \n",
    "    result = rg.search(coordinates)\n",
    "    return result"
   ]
  },
  {
   "cell_type": "code",
   "execution_count": 33,
   "metadata": {},
   "outputs": [
    {
     "name": "stdout",
     "output_type": "stream",
     "text": [
      "Loading formatted geocoded file...\n"
     ]
    }
   ],
   "source": [
    "# Reverse geocode the coordinates to see which state, Washington or Florida, they belong to\n",
    "result = []\n",
    "for i in range(len(tuplecoords)):\n",
    "    result.append(reverseGeocode(tuplecoords[i]))"
   ]
  },
  {
   "cell_type": "code",
   "execution_count": 34,
   "metadata": {},
   "outputs": [],
   "source": [
    "# Determine which State the Tweet is associated with\n",
    "state = []\n",
    "for i in range(len(result)):\n",
    "    state.append(result[i][0]['admin1'])"
   ]
  },
  {
   "cell_type": "code",
   "execution_count": 35,
   "metadata": {},
   "outputs": [],
   "source": [
    "# Create a new column in the dataframe that will eventually store the state\n",
    "tweets['States_Coordinates'] = 'Empty'"
   ]
  },
  {
   "cell_type": "code",
   "execution_count": 62,
   "metadata": {},
   "outputs": [],
   "source": [
    "# Add the state of the reverse geo-coded coordinates to the new column\n",
    "tweets.loc[list(c_ind), 'States_Coordinates'] = state"
   ]
  },
  {
   "cell_type": "code",
   "execution_count": 63,
   "metadata": {},
   "outputs": [
    {
     "data": {
      "text/html": [
       "<div>\n",
       "<style scoped>\n",
       "    .dataframe tbody tr th:only-of-type {\n",
       "        vertical-align: middle;\n",
       "    }\n",
       "\n",
       "    .dataframe tbody tr th {\n",
       "        vertical-align: top;\n",
       "    }\n",
       "\n",
       "    .dataframe thead th {\n",
       "        text-align: right;\n",
       "    }\n",
       "</style>\n",
       "<table border=\"1\" class=\"dataframe\">\n",
       "  <thead>\n",
       "    <tr style=\"text-align: right;\">\n",
       "      <th></th>\n",
       "      <th>States_Coordinates</th>\n",
       "      <th>Washington</th>\n",
       "    </tr>\n",
       "  </thead>\n",
       "  <tbody>\n",
       "    <tr>\n",
       "      <td>1181</td>\n",
       "      <td>Florida</td>\n",
       "      <td>False</td>\n",
       "    </tr>\n",
       "    <tr>\n",
       "      <td>2232</td>\n",
       "      <td>Washington</td>\n",
       "      <td>True</td>\n",
       "    </tr>\n",
       "    <tr>\n",
       "      <td>2636</td>\n",
       "      <td>Florida</td>\n",
       "      <td>False</td>\n",
       "    </tr>\n",
       "    <tr>\n",
       "      <td>2637</td>\n",
       "      <td>Florida</td>\n",
       "      <td>False</td>\n",
       "    </tr>\n",
       "    <tr>\n",
       "      <td>2638</td>\n",
       "      <td>Florida</td>\n",
       "      <td>False</td>\n",
       "    </tr>\n",
       "    <tr>\n",
       "      <td>...</td>\n",
       "      <td>...</td>\n",
       "      <td>...</td>\n",
       "    </tr>\n",
       "    <tr>\n",
       "      <td>53942</td>\n",
       "      <td>Florida</td>\n",
       "      <td>False</td>\n",
       "    </tr>\n",
       "    <tr>\n",
       "      <td>53943</td>\n",
       "      <td>Florida</td>\n",
       "      <td>False</td>\n",
       "    </tr>\n",
       "    <tr>\n",
       "      <td>53944</td>\n",
       "      <td>Washington</td>\n",
       "      <td>False</td>\n",
       "    </tr>\n",
       "    <tr>\n",
       "      <td>53945</td>\n",
       "      <td>Washington</td>\n",
       "      <td>True</td>\n",
       "    </tr>\n",
       "    <tr>\n",
       "      <td>53946</td>\n",
       "      <td>Washington</td>\n",
       "      <td>False</td>\n",
       "    </tr>\n",
       "  </tbody>\n",
       "</table>\n",
       "<p>147 rows × 2 columns</p>\n",
       "</div>"
      ],
      "text/plain": [
       "      States_Coordinates  Washington\n",
       "1181             Florida       False\n",
       "2232          Washington        True\n",
       "2636             Florida       False\n",
       "2637             Florida       False\n",
       "2638             Florida       False\n",
       "...                  ...         ...\n",
       "53942            Florida       False\n",
       "53943            Florida       False\n",
       "53944         Washington       False\n",
       "53945         Washington        True\n",
       "53946         Washington       False\n",
       "\n",
       "[147 rows x 2 columns]"
      ]
     },
     "execution_count": 63,
     "metadata": {},
     "output_type": "execute_result"
    }
   ],
   "source": [
    "# Replace any 'empty' value in the States_Coordinates column with the value from the Washington column.\n",
    "tweets.loc[pd.notnull(tweets['coordinates'])][['States_Coordinates', 'Washington']]"
   ]
  },
  {
   "cell_type": "code",
   "execution_count": 64,
   "metadata": {},
   "outputs": [],
   "source": [
    "# If the States_Coordinates is still empty and the Washington value is true, set the States_Coordinates to Washington,\n",
    "# otherwise set it to Florida\n",
    "tweets['States_Coordinates'].loc[(tweets.States_Coordinates == 'Empty') & (tweets.Washington == True)] = 'Washington'\n",
    "tweets['States_Coordinates'].loc[(tweets.States_Coordinates == 'Empty') & (tweets.Washington == False)] = 'Florida'"
   ]
  },
  {
   "cell_type": "code",
   "execution_count": 37,
   "metadata": {},
   "outputs": [],
   "source": [
    "# As a check, see where all valid tweet geo-coordinates are located\n",
    "geometry = [Point(xy) for xy in zip(lat,lon)]\n",
    "geodf = gpd.GeoDataFrame(geometry, columns = ['geometry'])"
   ]
  },
  {
   "cell_type": "code",
   "execution_count": 38,
   "metadata": {},
   "outputs": [
    {
     "name": "stdout",
     "output_type": "stream",
     "text": [
      "It looks like only 1 tweet is in Florida, and 0 are in Washington,\n",
      "so we should only capture one tweet\n"
     ]
    },
    {
     "data": {
      "image/png": "[encoded data removed]",
      "text/plain": [
       "<Figure size 864x864 with 1 Axes>"
      ]
     },
     "metadata": {
      "needs_background": "light"
     },
     "output_type": "display_data"
    }
   ],
   "source": [
    "# Plot the points!\n",
    "world = gpd.read_file(gpd.datasets.get_path('naturalearth_lowres'))\n",
    "\n",
    "geodf.plot(ax=world.plot(figsize=(12,12)), marker = 'o', color = 'red', markersize = 15, alpha = .7)  \n",
    "plt.title('Geographic Coordinates of Twitter Accounts with Tweets Related to COVID-19 & Social Distancing')\n",
    "plt.ylabel('Latitude')\n",
    "plt.xlabel('Longitude')\n"
   ]
  },
  {
   "cell_type": "markdown",
   "metadata": {},
   "source": [
    "#### Notice two points are not located in Washington or Florida. That is because they had both the geo-coordinates and a user-defined location."
   ]
  },
  {
   "cell_type": "code",
   "execution_count": 29,
   "metadata": {},
   "outputs": [
    {
     "data": {
      "text/html": [
       "<div>\n",
       "<style scoped>\n",
       "    .dataframe tbody tr th:only-of-type {\n",
       "        vertical-align: middle;\n",
       "    }\n",
       "\n",
       "    .dataframe tbody tr th {\n",
       "        vertical-align: top;\n",
       "    }\n",
       "\n",
       "    .dataframe thead th {\n",
       "        text-align: right;\n",
       "    }\n",
       "</style>\n",
       "<table border=\"1\" class=\"dataframe\">\n",
       "  <thead>\n",
       "    <tr style=\"text-align: right;\">\n",
       "      <th></th>\n",
       "      <th>Unnamed: 0</th>\n",
       "      <th>created_at</th>\n",
       "      <th>full_text</th>\n",
       "      <th>userid</th>\n",
       "      <th>location</th>\n",
       "      <th>coordinates</th>\n",
       "      <th>retweeted_text</th>\n",
       "      <th>Washington</th>\n",
       "      <th>States_Coordinates</th>\n",
       "    </tr>\n",
       "  </thead>\n",
       "  <tbody>\n",
       "    <tr>\n",
       "      <td>40200</td>\n",
       "      <td>40200</td>\n",
       "      <td>2020-03-16 01:51:26+00:00</td>\n",
       "      <td>Per usual, I didn't take many pictures at crss...</td>\n",
       "      <td>16347890</td>\n",
       "      <td>Seattle, WA</td>\n",
       "      <td>{'type': 'Point', 'coordinates': [-117.172056,...</td>\n",
       "      <td>NaN</td>\n",
       "      <td>True</td>\n",
       "      <td>California</td>\n",
       "    </tr>\n",
       "    <tr>\n",
       "      <td>42455</td>\n",
       "      <td>42455</td>\n",
       "      <td>2020-03-10 19:20:28+00:00</td>\n",
       "      <td>coronavirus®️getaway @ Playa Del Postiguet, Al...</td>\n",
       "      <td>40484412</td>\n",
       "      <td>miami</td>\n",
       "      <td>{'type': 'Point', 'coordinates': [-0.47822772,...</td>\n",
       "      <td>NaN</td>\n",
       "      <td>False</td>\n",
       "      <td>Valencia</td>\n",
       "    </tr>\n",
       "  </tbody>\n",
       "</table>\n",
       "</div>"
      ],
      "text/plain": [
       "       Unnamed: 0                created_at  \\\n",
       "40200       40200 2020-03-16 01:51:26+00:00   \n",
       "42455       42455 2020-03-10 19:20:28+00:00   \n",
       "\n",
       "                                               full_text    userid  \\\n",
       "40200  Per usual, I didn't take many pictures at crss...  16347890   \n",
       "42455  coronavirus®️getaway @ Playa Del Postiguet, Al...  40484412   \n",
       "\n",
       "          location                                        coordinates  \\\n",
       "40200  Seattle, WA  {'type': 'Point', 'coordinates': [-117.172056,...   \n",
       "42455        miami  {'type': 'Point', 'coordinates': [-0.47822772,...   \n",
       "\n",
       "      retweeted_text  Washington States_Coordinates  \n",
       "40200            NaN        True         California  \n",
       "42455            NaN       False           Valencia  "
      ]
     },
     "execution_count": 29,
     "metadata": {},
     "output_type": "execute_result"
    }
   ],
   "source": [
    "tweets.loc[(tweets.States_Coordinates != 'Florida') & (tweets.States_Coordinates != 'Washington')] "
   ]
  },
  {
   "cell_type": "code",
   "execution_count": 32,
   "metadata": {},
   "outputs": [],
   "source": [
    "# We will use their user-defined location to determine which state they belong to\n",
    "tweets['States_Coordinates'].loc[tweets.States_Coordinates == 'California'] = 'Washington'\n",
    "tweets['States_Coordinates'].loc[tweets.States_Coordinates == 'Valencia'] = 'Florida'"
   ]
  },
  {
   "cell_type": "code",
   "execution_count": 33,
   "metadata": {},
   "outputs": [
    {
     "data": {
      "text/plain": [
       "Washington    27727\n",
       "Florida       24710\n",
       "Name: States_Coordinates, dtype: int64"
      ]
     },
     "execution_count": 33,
     "metadata": {},
     "output_type": "execute_result"
    }
   ],
   "source": [
    "tweets.States_Coordinates.value_counts()"
   ]
  },
  {
   "cell_type": "markdown",
   "metadata": {},
   "source": [
    "# Store Longer Tweet (Tweet vs Retweet)"
   ]
  },
  {
   "cell_type": "code",
   "execution_count": 57,
   "metadata": {},
   "outputs": [],
   "source": [
    "# Create a new column that will store the longer of the two tweets (tweet vs retweet)\n",
    "tweets['Full Tweet'] = 'Empty'"
   ]
  },
  {
   "cell_type": "code",
   "execution_count": 58,
   "metadata": {},
   "outputs": [
    {
     "name": "stdout",
     "output_type": "stream",
     "text": [
      "Retweeted Tweet Length: 259\n",
      "Tweet Length: 140\n"
     ]
    }
   ],
   "source": [
    "print(\"Retweeted Tweet Length: {}\\nTweet Length: {}\".format(len(tweets['retweeted_text'][1]), len(tweets['full_text'][1])))"
   ]
  },
  {
   "cell_type": "code",
   "execution_count": 59,
   "metadata": {},
   "outputs": [],
   "source": [
    "# Find all retweeted tweets and store them in the new column (retweeted are always longer)\n",
    "tweets['Full Tweet'].loc[pd.notnull(tweets.retweeted_text)] = tweets.retweeted_text"
   ]
  },
  {
   "cell_type": "code",
   "execution_count": 60,
   "metadata": {},
   "outputs": [],
   "source": [
    "tweets['Full Tweet'].loc[tweets['Full Tweet'] == 'Empty'] = tweets.full_text"
   ]
  },
  {
   "cell_type": "code",
   "execution_count": 61,
   "metadata": {},
   "outputs": [
    {
     "data": {
      "text/html": [
       "<div>\n",
       "<style scoped>\n",
       "    .dataframe tbody tr th:only-of-type {\n",
       "        vertical-align: middle;\n",
       "    }\n",
       "\n",
       "    .dataframe tbody tr th {\n",
       "        vertical-align: top;\n",
       "    }\n",
       "\n",
       "    .dataframe thead th {\n",
       "        text-align: right;\n",
       "    }\n",
       "</style>\n",
       "<table border=\"1\" class=\"dataframe\">\n",
       "  <thead>\n",
       "    <tr style=\"text-align: right;\">\n",
       "      <th></th>\n",
       "      <th>created_at</th>\n",
       "      <th>full_text</th>\n",
       "      <th>userid</th>\n",
       "      <th>location</th>\n",
       "      <th>coordinates</th>\n",
       "      <th>retweeted_text</th>\n",
       "      <th>Washington</th>\n",
       "      <th>States_Coordinates</th>\n",
       "      <th>Full Tweet</th>\n",
       "    </tr>\n",
       "  </thead>\n",
       "  <tbody>\n",
       "    <tr>\n",
       "      <td>0</td>\n",
       "      <td>2020-01-22 05:06:17+00:00</td>\n",
       "      <td>First US case of Wuhan coronavirus confirmed b...</td>\n",
       "      <td>297176227</td>\n",
       "      <td>Seattle, WA</td>\n",
       "      <td>NaN</td>\n",
       "      <td>NaN</td>\n",
       "      <td>True</td>\n",
       "      <td>Empty</td>\n",
       "      <td>First US case of Wuhan coronavirus confirmed b...</td>\n",
       "    </tr>\n",
       "    <tr>\n",
       "      <td>1</td>\n",
       "      <td>2020-01-22 14:25:06+00:00</td>\n",
       "      <td>RT @HelenBranswell: .@WHO has issued the first...</td>\n",
       "      <td>59955964</td>\n",
       "      <td>Spokane, WA</td>\n",
       "      <td>NaN</td>\n",
       "      <td>.@WHO has issued the first of what I hope will...</td>\n",
       "      <td>True</td>\n",
       "      <td>Empty</td>\n",
       "      <td>.@WHO has issued the first of what I hope will...</td>\n",
       "    </tr>\n",
       "    <tr>\n",
       "      <td>2</td>\n",
       "      <td>2020-01-22 18:39:12+00:00</td>\n",
       "      <td>Though the heads of the CDC and WHO would stro...</td>\n",
       "      <td>299511490</td>\n",
       "      <td>Seattle, WA</td>\n",
       "      <td>NaN</td>\n",
       "      <td>NaN</td>\n",
       "      <td>True</td>\n",
       "      <td>Empty</td>\n",
       "      <td>Though the heads of the CDC and WHO would stro...</td>\n",
       "    </tr>\n",
       "    <tr>\n",
       "      <td>3</td>\n",
       "      <td>2020-01-22 20:28:16+00:00</td>\n",
       "      <td>⚠️CONTAINING #CORONAVIRUS⚠️ China is taking ac...</td>\n",
       "      <td>16743886</td>\n",
       "      <td>Tampa, Florida</td>\n",
       "      <td>NaN</td>\n",
       "      <td>NaN</td>\n",
       "      <td>False</td>\n",
       "      <td>Empty</td>\n",
       "      <td>⚠️CONTAINING #CORONAVIRUS⚠️ China is taking ac...</td>\n",
       "    </tr>\n",
       "    <tr>\n",
       "      <td>4</td>\n",
       "      <td>2020-01-22 22:06:14+00:00</td>\n",
       "      <td>Once I set an iPhone alarm, I just never chang...</td>\n",
       "      <td>14922679</td>\n",
       "      <td>Seattle</td>\n",
       "      <td>NaN</td>\n",
       "      <td>NaN</td>\n",
       "      <td>True</td>\n",
       "      <td>Empty</td>\n",
       "      <td>Once I set an iPhone alarm, I just never chang...</td>\n",
       "    </tr>\n",
       "  </tbody>\n",
       "</table>\n",
       "</div>"
      ],
      "text/plain": [
       "                 created_at  \\\n",
       "0 2020-01-22 05:06:17+00:00   \n",
       "1 2020-01-22 14:25:06+00:00   \n",
       "2 2020-01-22 18:39:12+00:00   \n",
       "3 2020-01-22 20:28:16+00:00   \n",
       "4 2020-01-22 22:06:14+00:00   \n",
       "\n",
       "                                           full_text     userid  \\\n",
       "0  First US case of Wuhan coronavirus confirmed b...  297176227   \n",
       "1  RT @HelenBranswell: .@WHO has issued the first...   59955964   \n",
       "2  Though the heads of the CDC and WHO would stro...  299511490   \n",
       "3  ⚠️CONTAINING #CORONAVIRUS⚠️ China is taking ac...   16743886   \n",
       "4  Once I set an iPhone alarm, I just never chang...   14922679   \n",
       "\n",
       "         location coordinates  \\\n",
       "0     Seattle, WA         NaN   \n",
       "1     Spokane, WA         NaN   \n",
       "2     Seattle, WA         NaN   \n",
       "3  Tampa, Florida         NaN   \n",
       "4         Seattle         NaN   \n",
       "\n",
       "                                      retweeted_text  Washington  \\\n",
       "0                                                NaN        True   \n",
       "1  .@WHO has issued the first of what I hope will...        True   \n",
       "2                                                NaN        True   \n",
       "3                                                NaN       False   \n",
       "4                                                NaN        True   \n",
       "\n",
       "  States_Coordinates                                         Full Tweet  \n",
       "0              Empty  First US case of Wuhan coronavirus confirmed b...  \n",
       "1              Empty  .@WHO has issued the first of what I hope will...  \n",
       "2              Empty  Though the heads of the CDC and WHO would stro...  \n",
       "3              Empty  ⚠️CONTAINING #CORONAVIRUS⚠️ China is taking ac...  \n",
       "4              Empty  Once I set an iPhone alarm, I just never chang...  "
      ]
     },
     "execution_count": 61,
     "metadata": {},
     "output_type": "execute_result"
    }
   ],
   "source": [
    "tweets.head()"
   ]
  },
  {
   "cell_type": "markdown",
   "metadata": {},
   "source": [
    "# Select the Variables Needed for Analysis: Tweet Timestamp, Text of Tweet, Location of Tweet and Save to csv for Final Analysis"
   ]
  },
  {
   "cell_type": "code",
   "execution_count": 40,
   "metadata": {},
   "outputs": [
    {
     "name": "stderr",
     "output_type": "stream",
     "text": [
      "<>:1: DeprecationWarning: invalid escape sequence \\D\n",
      "<>:1: DeprecationWarning: invalid escape sequence \\D\n",
      "<>:1: DeprecationWarning: invalid escape sequence \\D\n",
      "<ipython-input-40-a379e7b1ec84>:1: DeprecationWarning: invalid escape sequence \\D\n",
      "  tweets[['created_at', 'Full Tweet', 'States_Coordinates']].to_csv(\"C:\\\\Users\\\\John\\Desktop\\\\covid_tweets_fl_wa.csv\", encoding = \"utf-8\", index = False)\n"
     ]
    }
   ],
   "source": [
    "# Save the dataframe as the final csv file we will use for analysis\n",
    "tweets[['created_at', 'Full Tweet', 'States_Coordinates']].to_csv(\"C:\\\\Users\\\\John\\Desktop\\\\covid_tweets_fl_wa.csv\", encoding = \"utf-8\", index = False)"
   ]
  },
  {
   "cell_type": "code",
   "execution_count": null,
   "metadata": {},
   "outputs": [],
   "source": []
  }
 ],
 "metadata": {
  "kernelspec": {
   "display_name": "Python 3",
   "language": "python",
   "name": "python3"
  },
  "language_info": {
   "codemirror_mode": {
    "name": "ipython",
    "version": 3
   },
   "file_extension": ".py",
   "mimetype": "text/x-python",
   "name": "python",
   "nbconvert_exporter": "python",
   "pygments_lexer": "ipython3",
   "version": "3.7.4"
  }
 },
 "nbformat": 4,
 "nbformat_minor": 2
}
