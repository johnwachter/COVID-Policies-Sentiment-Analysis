{
 "cells": [
  {
   "cell_type": "markdown",
   "metadata": {},
   "source": [
    "# Working With Twitter IDs!\n",
    "#### More information on the Twitter IDs and the Twarc package can be found in the Sources section"
   ]
  },
  {
   "cell_type": "code",
   "execution_count": 11,
   "metadata": {},
   "outputs": [],
   "source": [
    "import os\n",
    "import pandas as pd\n",
    "import json\n",
    "import numpy as np\n",
    "import random\n",
    "import matplotlib.pyplot as plt"
   ]
  },
  {
   "cell_type": "markdown",
   "metadata": {},
   "source": [
    "### Twitter IDs are stored in thousands of files.\n",
    "### Read in all TweetID Files and randomly sample twitter IDs out of them."
   ]
  },
  {
   "cell_type": "code",
   "execution_count": 2,
   "metadata": {},
   "outputs": [],
   "source": [
    "# Read in every single file with twitterids\n",
    "filenames = []\n",
    "\n",
    "for file in os.listdir('C:\\\\Users\\\\John\\\\Desktop\\\\TwitterIDs'):\n",
    "    filename = os.fsdecode(file)\n",
    "    if filename.endswith( ('.txt') ):\n",
    "        filenames.append(filename)"
   ]
  },
  {
   "cell_type": "code",
   "execution_count": 3,
   "metadata": {},
   "outputs": [
    {
     "name": "stdout",
     "output_type": "stream",
     "text": [
      "There are 2047 files, each containing thousands to hundreds of thousands of Twitter IDs\n"
     ]
    }
   ],
   "source": [
    "print(\"There are {} files, each containing thousands to hundreds of thousands of Twitter IDs\".format(len(filenames)))"
   ]
  },
  {
   "cell_type": "code",
   "execution_count": 6,
   "metadata": {},
   "outputs": [],
   "source": [
    "## ROUND 1 ###\n",
    "# Open each file, sample 4.5% of tweets, and append them to the ids list\n",
    "ids = []\n",
    "for file in filenames:\n",
    "    with open('C:\\\\Users\\\\John\\\\Desktop\\\\TwitterIDs\\\\'+ file, 'r') as tweetids:\n",
    "        tweetids = tweetids.read()\n",
    "        tweetids = tweetids.split('\\n')\n",
    "        ids.append(random.sample(tweetids,int(np.ceil(len(tweetids)*.045))))"
   ]
  },
  {
   "cell_type": "code",
   "execution_count": 15,
   "metadata": {},
   "outputs": [
    {
     "name": "stdout",
     "output_type": "stream",
     "text": [
      "Randomly Sampling 4.5% of all Tweets amounts to 4580815 Twitter IDs.\n"
     ]
    }
   ],
   "source": [
    "# Count number of tweets that were sampled. 4.5% of all tweets were sampled, which\n",
    "num_tweet_ids = []\n",
    "for i in ids:\n",
    "    num_tweet_ids.append(len(i))\n",
    "print(\"Randomly Sampling 4.5% of all Tweets amounts to {} Twitter IDs.\".format(np.sum(num_tweet_ids)))"
   ]
  },
  {
   "cell_type": "code",
   "execution_count": 18,
   "metadata": {},
   "outputs": [
    {
     "name": "stdout",
     "output_type": "stream",
     "text": [
      "Some Files are Much Larger than Others, which shows 'bursty' activity\n",
      "because each file is associated with a date and time.\n"
     ]
    },
    {
     "data": {
      "image/png": "[encoded data removed]",
      "text/plain": [
       "<Figure size 432x288 with 1 Axes>"
      ]
     },
     "metadata": {
      "needs_background": "light"
     },
     "output_type": "display_data"
    }
   ],
   "source": [
    "plt.title('Histogram of the number of Twitter IDs in each file')\n",
    "plt.hist(num_tweet_ids)\n",
    "print(\"Some Files are Much Larger than Others, which shows 'bursty' activity\\nbecause each file is associated with a date and time.\")"
   ]
  },
  {
   "cell_type": "code",
   "execution_count": null,
   "metadata": {},
   "outputs": [],
   "source": [
    "ids_round1 = ids\n",
    "used_ids = ids_round1"
   ]
  },
  {
   "cell_type": "code",
   "execution_count": null,
   "metadata": {},
   "outputs": [],
   "source": [
    "### ROUND 2 ###\n",
    "# Open each file, sample 4.5% of tweets, and append them to the ids list\n",
    "ids = []\n",
    "for file in filenames:\n",
    "    with open('C:\\\\Users\\\\John\\\\Desktop\\\\TwitterIDs\\\\'+ file, 'r') as tweetids:\n",
    "        tweetids = tweetids.read()\n",
    "        tweetids = tweetids.split('\\n')\n",
    "        tempids = []\n",
    "        tempids.append(random.sample(tweetids,int(np.ceil(len(tweetids)*.045))))\n",
    "        for i in tempids:\n",
    "            if i not in used_ids:\n",
    "                ids.append(i)"
   ]
  },
  {
   "cell_type": "code",
   "execution_count": null,
   "metadata": {},
   "outputs": [],
   "source": [
    "ids_round2 = ids"
   ]
  },
  {
   "cell_type": "code",
   "execution_count": null,
   "metadata": {},
   "outputs": [],
   "source": [
    "used_ids = ids_round1 + ids_round2"
   ]
  },
  {
   "cell_type": "code",
   "execution_count": null,
   "metadata": {},
   "outputs": [],
   "source": [
    "### ROUND 3 ###\n",
    "# Open each file, sample 4.5% of tweets, and append them to the ids list\n",
    "ids = []\n",
    "for file in filenames:\n",
    "    with open('C:\\\\Users\\\\John\\\\Desktop\\\\TwitterIDs\\\\'+ file, 'r') as tweetids:\n",
    "        tweetids = tweetids.read()\n",
    "        tweetids = tweetids.split('\\n')\n",
    "        tempids = []\n",
    "        tempids.append(random.sample(tweetids,int(np.ceil(len(tweetids)*.045))))\n",
    "        for i in tempids:\n",
    "            if i not in used_ids:\n",
    "                ids.append(i)"
   ]
  },
  {
   "cell_type": "code",
   "execution_count": null,
   "metadata": {},
   "outputs": [],
   "source": [
    "ids_round3 = ids"
   ]
  },
  {
   "cell_type": "code",
   "execution_count": null,
   "metadata": {},
   "outputs": [],
   "source": [
    "used_ids = ids_round1 + ids_round2 + ids_round3"
   ]
  },
  {
   "cell_type": "code",
   "execution_count": null,
   "metadata": {},
   "outputs": [],
   "source": [
    "### ROUND 4 ###\n",
    "# Open each file, sample 4.5% of tweets, and append them to the ids list\n",
    "ids = []\n",
    "for file in filenames:\n",
    "    with open('C:\\\\Users\\\\John\\\\Desktop\\\\TwitterIDs\\\\'+ file, 'r') as tweetids:\n",
    "        tweetids = tweetids.read()\n",
    "        tweetids = tweetids.split('\\n')\n",
    "        tempids = []\n",
    "        tempids.append(random.sample(tweetids,int(np.ceil(len(tweetids)*.045))))\n",
    "        for i in tempids:\n",
    "            if i not in used_ids:\n",
    "                ids.append(i)"
   ]
  },
  {
   "cell_type": "code",
   "execution_count": null,
   "metadata": {},
   "outputs": [],
   "source": [
    "ids_round4 = ids"
   ]
  },
  {
   "cell_type": "code",
   "execution_count": null,
   "metadata": {},
   "outputs": [],
   "source": [
    "used_ids = ids_round1 + ids_round2 + ids_round3 + ids_round4"
   ]
  },
  {
   "cell_type": "markdown",
   "metadata": {},
   "source": [
    "### After Each Round, Write the Sampled TweetIDs into 10 Separate Text Files"
   ]
  },
  {
   "cell_type": "code",
   "execution_count": null,
   "metadata": {},
   "outputs": [],
   "source": [
    "# Write the first 10% of sampled IDs to a new file\n",
    "with open('randomsample1_round4.txt', 'w') as outfile:\n",
    "    ids = [item for sublist in ids for item in sublist]\n",
    "    for i in ids[0:int(len(ids)*.10)]:\n",
    "        outfile.write(i + '\\n')\n",
    "# Write the 10-20% of sampled IDs to a new file\n",
    "with open('randomsample2_round4.txt', 'w') as outfile:\n",
    "    for i in ids[int(len(ids)*.10):int(len(ids)*.20)]:\n",
    "        outfile.write(i + '\\n')\n",
    "\n",
    "with open('randomsample3_round4.txt', 'w') as outfile:\n",
    "    for i in ids[int(len(ids)*.20):int(len(ids)*.30)]:\n",
    "        outfile.write(i + '\\n')\n",
    "        \n",
    "with open('randomsample4_round4.txt', 'w') as outfile:\n",
    "    for i in ids[int(len(ids)*.30):int(len(ids)*.40)]:\n",
    "        outfile.write(i + '\\n')\n",
    "        \n",
    "with open('randomsample5_round4.txt', 'w') as outfile:\n",
    "    for i in ids[int(len(ids)*.40):int(len(ids)*.50)]:\n",
    "        outfile.write(i + '\\n')\n",
    "        \n",
    "with open('randomsample6_round4.txt', 'w') as outfile:\n",
    "    for i in ids[int(len(ids)*.50):int(len(ids)*.60)]:\n",
    "        outfile.write(i + '\\n')\n",
    "        \n",
    "with open('randomsample7_round4.txt', 'w') as outfile:\n",
    "    for i in ids[int(len(ids)*.60):int(len(ids)*.70)]:\n",
    "        outfile.write(i + '\\n')\n",
    "        \n",
    "with open('randomsample8_round4.txt', 'w') as outfile:\n",
    "    for i in ids[int(len(ids)*.70):int(len(ids)*.80)]:\n",
    "        outfile.write(i + '\\n')\n",
    "        \n",
    "with open('randomsample9_round4.txt', 'w') as outfile:\n",
    "    for i in ids[int(len(ids)*.80):int(len(ids)*.90)]:\n",
    "        outfile.write(i + '\\n')\n",
    "        \n",
    "with open('randomsample10_round4.txt', 'w') as outfile:\n",
    "    for i in ids[int(len(ids)*.90)::]:\n",
    "        outfile.write(i + '\\n')"
   ]
  },
  {
   "cell_type": "markdown",
   "metadata": {},
   "source": [
    "### The Twarc Package Will be Used to Turn Each File of TweetIDs Into a JSON File Containing All Information Associated With Each Tweet. This Process is Called Hydrating"
   ]
  },
  {
   "cell_type": "markdown",
   "metadata": {},
   "source": [
    "### Sources\n",
    "#### Twitter IDs: https://github.com/echen102/COVID-19-TweetIDs\n",
    "#### Computer Science PhD Student Emily Chen (http://echen102.github.io/) at the University of California and Dr. Emilio Ferrara (https://viterbi.usc.edu/directory/faculty/Ferrara/Emilio), also at the University of Southern California collected the tweets using Twarc.\n",
    "#### Twarc: https://github.com/DocNow/twarc\n",
    "#### Twarc was used in the command line. The process was simple, but tedious. Each file need to be read into Twarc and 'hydrated' which would return a JSON object. One Twarc was configured in the command line which included authorizing a Twitter Application and using the Twitter Access Tokens, the syntax is as follows: twarc hydrate \"input_file.txt\" > output_file.json. This turns a file of TweetIDs back into the full Tweet."
   ]
  }
 ],
 "metadata": {
  "kernelspec": {
   "display_name": "Python 3",
   "language": "python",
   "name": "python3"
  },
  "language_info": {
   "codemirror_mode": {
    "name": "ipython",
    "version": 3
   },
   "file_extension": ".py",
   "mimetype": "text/x-python",
   "name": "python",
   "nbconvert_exporter": "python",
   "pygments_lexer": "ipython3",
   "version": "3.7.4"
  }
 },
 "nbformat": 4,
 "nbformat_minor": 2
}
