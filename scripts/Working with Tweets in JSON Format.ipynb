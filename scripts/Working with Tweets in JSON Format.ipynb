{
 "cells": [
  {
   "cell_type": "markdown",
   "metadata": {},
   "source": [
    "# Working With Tweets!\n",
    "## After Hydrating Tweets (TwitterIDs --> Tweets) we Read in the JSON Objects to Work Directly With Tweets"
   ]
  },
  {
   "cell_type": "code",
   "execution_count": 1,
   "metadata": {},
   "outputs": [],
   "source": [
    "import os\n",
    "import pandas as pd\n",
    "import json\n",
    "import numpy as np\n",
    "import matplotlib.pyplot as plt\n",
    "from shapely.geometry import Point, Polygon\n",
    "import geopandas as gpd\n",
    "from pygeocoder import Geocoder\n",
    "import reverse_geocoder as rg \n",
    "import pprint"
   ]
  },
  {
   "cell_type": "markdown",
   "metadata": {},
   "source": [
    "# -----------------------------------------------------------------------------------------------------\n",
    "# <u>Read in JSON Files and Parse JSON</u>\n",
    "# -----------------------------------------------------------------------------------------------------"
   ]
  },
  {
   "cell_type": "code",
   "execution_count": 5,
   "metadata": {},
   "outputs": [],
   "source": [
    "# The JSON file has thousands of JSON objects in it, so we need to first open the file, \n",
    "# loop through each line, and use the json.loads() function to extract each object, which is one Tweet.\n",
    "sample = 'some_april_tweets'\n",
    "tweets = []\n",
    "with open(\"twitter Data Sets\\\\GitHub Collected Data\\\\\"+sample+\".json\") as f:\n",
    "    for line in f:\n",
    "        tweets.append(json.loads(line))"
   ]
  },
  {
   "cell_type": "code",
   "execution_count": 6,
   "metadata": {},
   "outputs": [
    {
     "data": {
      "text/plain": [
       "86179"
      ]
     },
     "execution_count": 6,
     "metadata": {},
     "output_type": "execute_result"
    }
   ],
   "source": [
    "# How many tweets do we have in this JSON file\n",
    "len(tweets)"
   ]
  },
  {
   "cell_type": "code",
   "execution_count": 18,
   "metadata": {},
   "outputs": [
    {
     "data": {
      "text/plain": [
       "{'created_at': 'Sat Feb 29 01:02:21 +0000 2020',\n",
       " 'id': 1233558087572828161,\n",
       " 'id_str': '1233558087572828161',\n",
       " 'full_text': 'RT @Jordan_Sather_: Gates also said billions of dollars in funding is needed to work on a vaccine for the coronavirus.\\n\\nBillions of dollars…',\n",
       " 'truncated': False,\n",
       " 'display_text_range': [0, 140],\n",
       " 'entities': {'hashtags': [],\n",
       "  'symbols': [],\n",
       "  'user_mentions': [{'screen_name': 'Jordan_Sather_',\n",
       "    'name': 'Jordan Sather',\n",
       "    'id': 835627637049450497,\n",
       "    'id_str': '835627637049450497',\n",
       "    'indices': [3, 18]}],\n",
       "  'urls': []},\n",
       " 'source': '<a href=\"http://twitter.com/download/iphone\" rel=\"nofollow\">Twitter for iPhone</a>',\n",
       " 'in_reply_to_status_id': None,\n",
       " 'in_reply_to_status_id_str': None,\n",
       " 'in_reply_to_user_id': None,\n",
       " 'in_reply_to_user_id_str': None,\n",
       " 'in_reply_to_screen_name': None,\n",
       " 'user': {'id': 732249473057980417,\n",
       "  'id_str': '732249473057980417',\n",
       "  'name': 'Covfefe Chy ⏰⚖️💣',\n",
       "  'screen_name': 'chardunbar2',\n",
       "  'location': 'United States',\n",
       "  'description': 'Donald J. Trump is my President ❤️🇺🇸❤️ Proud NRA member, MAGA and KAG! RTs are not endorsements, well most are 🇺🇸',\n",
       "  'url': 'https://t.co/mVHOxzYUNT',\n",
       "  'entities': {'url': {'urls': [{'url': 'https://t.co/mVHOxzYUNT',\n",
       "      'expanded_url': 'https://www.donaldjtrump.com/',\n",
       "      'display_url': 'donaldjtrump.com',\n",
       "      'indices': [0, 23]}]},\n",
       "   'description': {'urls': []}},\n",
       "  'protected': False,\n",
       "  'followers_count': 5231,\n",
       "  'friends_count': 2629,\n",
       "  'listed_count': 9,\n",
       "  'created_at': 'Mon May 16 16:40:53 +0000 2016',\n",
       "  'favourites_count': 515143,\n",
       "  'utc_offset': None,\n",
       "  'time_zone': None,\n",
       "  'geo_enabled': True,\n",
       "  'verified': False,\n",
       "  'statuses_count': 260034,\n",
       "  'lang': None,\n",
       "  'contributors_enabled': False,\n",
       "  'is_translator': False,\n",
       "  'is_translation_enabled': False,\n",
       "  'profile_background_color': 'F5F8FA',\n",
       "  'profile_background_image_url': None,\n",
       "  'profile_background_image_url_https': None,\n",
       "  'profile_background_tile': False,\n",
       "  'profile_image_url': 'http://pbs.twimg.com/profile_images/1154138098835632129/c5TNjcKG_normal.jpg',\n",
       "  'profile_image_url_https': 'https://pbs.twimg.com/profile_images/1154138098835632129/c5TNjcKG_normal.jpg',\n",
       "  'profile_banner_url': 'https://pbs.twimg.com/profile_banners/732249473057980417/1583587120',\n",
       "  'profile_image_extensions_alt_text': None,\n",
       "  'profile_banner_extensions_alt_text': None,\n",
       "  'profile_link_color': '1DA1F2',\n",
       "  'profile_sidebar_border_color': 'C0DEED',\n",
       "  'profile_sidebar_fill_color': 'DDEEF6',\n",
       "  'profile_text_color': '333333',\n",
       "  'profile_use_background_image': True,\n",
       "  'has_extended_profile': True,\n",
       "  'default_profile': True,\n",
       "  'default_profile_image': False,\n",
       "  'following': False,\n",
       "  'follow_request_sent': False,\n",
       "  'notifications': False,\n",
       "  'translator_type': 'none'},\n",
       " 'geo': None,\n",
       " 'coordinates': None,\n",
       " 'place': None,\n",
       " 'contributors': None,\n",
       " 'retweeted_status': {'created_at': 'Sat Feb 29 00:55:55 +0000 2020',\n",
       "  'id': 1233556468030476288,\n",
       "  'id_str': '1233556468030476288',\n",
       "  'full_text': 'Gates also said billions of dollars in funding is needed to work on a vaccine for the coronavirus.\\n\\nBillions of dollars.\\n\\nBillions.\\n\\nNo wonder the media has gone on a rampage against anyone talking about the mysterious origin of this coronavirus or how to heal it naturally. https://t.co/hxJ31jJK0P',\n",
       "  'truncated': False,\n",
       "  'display_text_range': [0, 274],\n",
       "  'entities': {'hashtags': [],\n",
       "   'symbols': [],\n",
       "   'user_mentions': [],\n",
       "   'urls': [{'url': 'https://t.co/hxJ31jJK0P',\n",
       "     'expanded_url': 'https://twitter.com/NYDailyNews/status/1233553244959449089',\n",
       "     'display_url': 'twitter.com/NYDailyNews/st…',\n",
       "     'indices': [275, 298]}]},\n",
       "  'source': '<a href=\"https://mobile.twitter.com\" rel=\"nofollow\">Twitter Web App</a>',\n",
       "  'in_reply_to_status_id': None,\n",
       "  'in_reply_to_status_id_str': None,\n",
       "  'in_reply_to_user_id': None,\n",
       "  'in_reply_to_user_id_str': None,\n",
       "  'in_reply_to_screen_name': None,\n",
       "  'user': {'id': 835627637049450497,\n",
       "   'id_str': '835627637049450497',\n",
       "   'name': 'Jordan Sather',\n",
       "   'screen_name': 'Jordan_Sather_',\n",
       "   'location': 'All points in space and time',\n",
       "   'description': \"I'm just here for the Awakening. Destroying the Illusion on YouTube: https://t.co/T2MLrqcl3m Conscious Strength: https://t.co/YUdQo48LLo Producer: Above Majestic\",\n",
       "   'url': 'https://t.co/DX82HKEh3G',\n",
       "   'entities': {'url': {'urls': [{'url': 'https://t.co/DX82HKEh3G',\n",
       "       'expanded_url': 'https://www.jordansather.com',\n",
       "       'display_url': 'jordansather.com',\n",
       "       'indices': [0, 23]}]},\n",
       "    'description': {'urls': [{'url': 'https://t.co/T2MLrqcl3m',\n",
       "       'expanded_url': 'http://bit.ly/2SK460d',\n",
       "       'display_url': 'bit.ly/2SK460d',\n",
       "       'indices': [69, 92]},\n",
       "      {'url': 'https://t.co/YUdQo48LLo',\n",
       "       'expanded_url': 'http://bit.ly/33og5Ge',\n",
       "       'display_url': 'bit.ly/33og5Ge',\n",
       "       'indices': [113, 136]}]}},\n",
       "   'protected': False,\n",
       "   'followers_count': 161955,\n",
       "   'friends_count': 1366,\n",
       "   'listed_count': 952,\n",
       "   'created_at': 'Sat Feb 25 23:08:48 +0000 2017',\n",
       "   'favourites_count': 16723,\n",
       "   'utc_offset': None,\n",
       "   'time_zone': None,\n",
       "   'geo_enabled': False,\n",
       "   'verified': False,\n",
       "   'statuses_count': 19356,\n",
       "   'lang': None,\n",
       "   'contributors_enabled': False,\n",
       "   'is_translator': False,\n",
       "   'is_translation_enabled': False,\n",
       "   'profile_background_color': 'F5F8FA',\n",
       "   'profile_background_image_url': None,\n",
       "   'profile_background_image_url_https': None,\n",
       "   'profile_background_tile': False,\n",
       "   'profile_image_url': 'http://pbs.twimg.com/profile_images/1239166872156688385/B6BLQdva_normal.jpg',\n",
       "   'profile_image_url_https': 'https://pbs.twimg.com/profile_images/1239166872156688385/B6BLQdva_normal.jpg',\n",
       "   'profile_banner_url': 'https://pbs.twimg.com/profile_banners/835627637049450497/1539571418',\n",
       "   'profile_image_extensions_alt_text': None,\n",
       "   'profile_banner_extensions_alt_text': None,\n",
       "   'profile_link_color': '1DA1F2',\n",
       "   'profile_sidebar_border_color': 'C0DEED',\n",
       "   'profile_sidebar_fill_color': 'DDEEF6',\n",
       "   'profile_text_color': '333333',\n",
       "   'profile_use_background_image': True,\n",
       "   'has_extended_profile': False,\n",
       "   'default_profile': True,\n",
       "   'default_profile_image': False,\n",
       "   'following': False,\n",
       "   'follow_request_sent': False,\n",
       "   'notifications': False,\n",
       "   'translator_type': 'none'},\n",
       "  'geo': None,\n",
       "  'coordinates': None,\n",
       "  'place': None,\n",
       "  'contributors': None,\n",
       "  'is_quote_status': True,\n",
       "  'quoted_status_id': 1233553244959449089,\n",
       "  'quoted_status_id_str': '1233553244959449089',\n",
       "  'quoted_status_permalink': {'url': 'https://t.co/hxJ31jJK0P',\n",
       "   'expanded': 'https://twitter.com/NYDailyNews/status/1233553244959449089',\n",
       "   'display': 'twitter.com/NYDailyNews/st…'},\n",
       "  'quoted_status': {'created_at': 'Sat Feb 29 00:43:06 +0000 2020',\n",
       "   'id': 1233553244959449089,\n",
       "   'id_str': '1233553244959449089',\n",
       "   'full_text': 'Bill Gates thinks the coronavirus is starting to look like a \"once-in-a-century pathogen.\"\\n\\nGates also said billions of dollars in funding is needed to work on a vaccine and to improve disease tracking in the future.\\nhttps://t.co/1JXlXjV0lU',\n",
       "   'truncated': False,\n",
       "   'display_text_range': [0, 240],\n",
       "   'entities': {'hashtags': [],\n",
       "    'symbols': [],\n",
       "    'user_mentions': [],\n",
       "    'urls': [{'url': 'https://t.co/1JXlXjV0lU',\n",
       "      'expanded_url': 'https://trib.al/SXFQeLb',\n",
       "      'display_url': 'trib.al/SXFQeLb',\n",
       "      'indices': [217, 240]}]},\n",
       "   'source': '<a href=\"http://www.socialflow.com\" rel=\"nofollow\">SocialFlow</a>',\n",
       "   'in_reply_to_status_id': None,\n",
       "   'in_reply_to_status_id_str': None,\n",
       "   'in_reply_to_user_id': None,\n",
       "   'in_reply_to_user_id_str': None,\n",
       "   'in_reply_to_screen_name': None,\n",
       "   'user': {'id': 9763482,\n",
       "    'id_str': '9763482',\n",
       "    'name': 'New York Daily News',\n",
       "    'screen_name': 'NYDailyNews',\n",
       "    'location': 'New York City  /  fb.com/nydailynews',\n",
       "    'description': \"New York's Hometown Paper. 🍎 Breaking news, national (with a NY lens), politics, sports and entertainment in NYC & beyond |  About Us https://t.co/EQxXONusIE\",\n",
       "    'url': 'https://t.co/92TfKB8o8e',\n",
       "    'entities': {'url': {'urls': [{'url': 'https://t.co/92TfKB8o8e',\n",
       "        'expanded_url': 'https://linktr.ee/nydailynews',\n",
       "        'display_url': 'linktr.ee/nydailynews',\n",
       "        'indices': [0, 23]}]},\n",
       "     'description': {'urls': [{'url': 'https://t.co/EQxXONusIE',\n",
       "        'expanded_url': 'http://bit.ly/nydnmedia',\n",
       "        'display_url': 'bit.ly/nydnmedia',\n",
       "        'indices': [134, 157]}]}},\n",
       "    'protected': False,\n",
       "    'followers_count': 768285,\n",
       "    'friends_count': 1192,\n",
       "    'listed_count': 10558,\n",
       "    'created_at': 'Mon Oct 29 00:07:35 +0000 2007',\n",
       "    'favourites_count': 1834,\n",
       "    'utc_offset': None,\n",
       "    'time_zone': None,\n",
       "    'geo_enabled': True,\n",
       "    'verified': True,\n",
       "    'statuses_count': 289717,\n",
       "    'lang': None,\n",
       "    'contributors_enabled': False,\n",
       "    'is_translator': False,\n",
       "    'is_translation_enabled': False,\n",
       "    'profile_background_color': 'EDD607',\n",
       "    'profile_background_image_url': 'http://abs.twimg.com/images/themes/theme1/bg.png',\n",
       "    'profile_background_image_url_https': 'https://abs.twimg.com/images/themes/theme1/bg.png',\n",
       "    'profile_background_tile': False,\n",
       "    'profile_image_url': 'http://pbs.twimg.com/profile_images/1197327700945506304/kWMTzTP1_normal.jpg',\n",
       "    'profile_image_url_https': 'https://pbs.twimg.com/profile_images/1197327700945506304/kWMTzTP1_normal.jpg',\n",
       "    'profile_banner_url': 'https://pbs.twimg.com/profile_banners/9763482/1588644206',\n",
       "    'profile_image_extensions_alt_text': None,\n",
       "    'profile_banner_extensions_alt_text': None,\n",
       "    'profile_link_color': '1B95E0',\n",
       "    'profile_sidebar_border_color': '000000',\n",
       "    'profile_sidebar_fill_color': 'FFFFFF',\n",
       "    'profile_text_color': '000000',\n",
       "    'profile_use_background_image': True,\n",
       "    'has_extended_profile': False,\n",
       "    'default_profile': False,\n",
       "    'default_profile_image': False,\n",
       "    'following': False,\n",
       "    'follow_request_sent': False,\n",
       "    'notifications': False,\n",
       "    'translator_type': 'none'},\n",
       "   'geo': None,\n",
       "   'coordinates': None,\n",
       "   'place': None,\n",
       "   'contributors': None,\n",
       "   'is_quote_status': False,\n",
       "   'retweet_count': 96,\n",
       "   'favorite_count': 170,\n",
       "   'favorited': False,\n",
       "   'retweeted': False,\n",
       "   'possibly_sensitive': False,\n",
       "   'lang': 'en'},\n",
       "  'retweet_count': 510,\n",
       "  'favorite_count': 1141,\n",
       "  'favorited': False,\n",
       "  'retweeted': False,\n",
       "  'possibly_sensitive': False,\n",
       "  'lang': 'en'},\n",
       " 'is_quote_status': True,\n",
       " 'quoted_status_id': 1233553244959449089,\n",
       " 'quoted_status_id_str': '1233553244959449089',\n",
       " 'quoted_status_permalink': {'url': 'https://t.co/hxJ31jJK0P',\n",
       "  'expanded': 'https://twitter.com/NYDailyNews/status/1233553244959449089',\n",
       "  'display': 'twitter.com/NYDailyNews/st…'},\n",
       " 'retweet_count': 510,\n",
       " 'favorite_count': 0,\n",
       " 'favorited': False,\n",
       " 'retweeted': False,\n",
       " 'lang': 'en'}"
      ]
     },
     "execution_count": 18,
     "metadata": {},
     "output_type": "execute_result"
    }
   ],
   "source": [
    "# What the available data looks like for one tweet\n",
    "tweets[1]"
   ]
  },
  {
   "cell_type": "code",
   "execution_count": 15,
   "metadata": {},
   "outputs": [
    {
     "name": "stdout",
     "output_type": "stream",
     "text": [
      "There are 339 keys (including nested keys) in the JSON object\n"
     ]
    }
   ],
   "source": [
    "# How many variables are in this tweet in JSON form\n",
    "w = str(tweets[1])\n",
    "words = {}\n",
    "for ws in w:\n",
    "    if ws not in words:\n",
    "        words[ws] = 1\n",
    "    else:\n",
    "        words[ws] += 1\n",
    "print(\"There are {} keys (including nested keys) in this JSON object\".format(words[':']))"
   ]
  },
  {
   "cell_type": "markdown",
   "metadata": {},
   "source": [
    "#### Note: The number of keys changes with each text because some Twitter profiles have more information, such as a background image, whether or not the tweet was in reply to another tweet, etc."
   ]
  },
  {
   "cell_type": "markdown",
   "metadata": {},
   "source": [
    "### Look at Text from Tweets"
   ]
  },
  {
   "cell_type": "code",
   "execution_count": 16,
   "metadata": {},
   "outputs": [
    {
     "name": "stdout",
     "output_type": "stream",
     "text": [
      "RT @SamSacks: There’s a guy on MSNBC saying we most focus on three things to contain coronavirus. He called them “DTF”\n",
      "\n",
      "Drug shortages\n",
      "Test…\n",
      "\n",
      "RT @Jordan_Sather_: Gates also said billions of dollars in funding is needed to work on a vaccine for the coronavirus.\n",
      "\n",
      "Billions of dollars…\n",
      "\n",
      "RT @acusapa: ini lokasi saat ini virus corona \n",
      "bisa di cek sendiri link nya. 🎉❤\n",
      "https://t.co/F2XosLLeKV https://t.co/1Ir5CJYpkA\n",
      "\n",
      "RT @HelenBranswell: 1. Americans should avoid all unessential travel to Italy and Iran, @CDCgov said late Friday. They join China &amp; South K…\n",
      "\n",
      "RT @ELTIEMPO: Con el fin de conocer los protocolos de seguridad que implementan en el Aeropuerto El Dorado para la prevención del coronavir…\n",
      "\n"
     ]
    },
    {
     "data": {
      "text/plain": [
       "[None, None, None, None, None]"
      ]
     },
     "execution_count": 16,
     "metadata": {},
     "output_type": "execute_result"
    }
   ],
   "source": [
    "[print(tweets[i]['full_text'] +'\\n') for i in range(5)]"
   ]
  },
  {
   "cell_type": "code",
   "execution_count": 17,
   "metadata": {},
   "outputs": [
    {
     "name": "stdout",
     "output_type": "stream",
     "text": [
      "RT @tobitac: We need a progressive narrative about coronavirus that centers not just Medicare for All and funding for public health, but al…\n"
     ]
    },
    {
     "data": {
      "text/plain": [
       "(None,\n",
       " 'We need a progressive narrative about coronavirus that centers not just Medicare for All and funding for public health, but also antiracism and internationalism. The right is pushing racism and nationalism and a purely economic message won’t counter that #COVIDー19 (thread)')"
      ]
     },
     "execution_count": 17,
     "metadata": {},
     "output_type": "execute_result"
    }
   ],
   "source": [
    "# If a Tweet was retweeted, the text may be shortened. For example, in this tweet below the 'full text'\n",
    "# is actually cut short, but in the retweeted status we can see the full text.\n",
    "print(tweets[27]['full_text']), tweets[27]['retweeted_status']['full_text']"
   ]
  },
  {
   "cell_type": "markdown",
   "metadata": {},
   "source": [
    "# Filter by Locations to Include Only Washington and Florida\n",
    "## This is a Two-Pronged Approach Because There are 2 Pieces of Information that Encode Locations. The First is a User-Defined Location, and the second is the Geo-Coordinates of the Tweet (most Tweets have geo-coordinates disabled)."
   ]
  },
  {
   "cell_type": "markdown",
   "metadata": {},
   "source": [
    "### Filter Tweets by User-Defined Location"
   ]
  },
  {
   "cell_type": "code",
   "execution_count": 7,
   "metadata": {},
   "outputs": [],
   "source": [
    "# Hand-code the locations of interest in each state (collection of cities with unique names)\n",
    "locationsofinterest = ['seattle', 'spokane', 'tacoma', 'bellingham', 'tri cities', 'yakima', 'olympia',\n",
    "                       'wa', 'washington state', 'seattle, wa', 'spokane, wa', 'tacoma, wa', 'bellingham, wa',\n",
    "                       'tri cities, wa', 'yakima, wa', 'olympia, wa', 'seattle, washington', 'spokane, washington', \n",
    "                       'tacoma, washington', 'bellingham, washington', 'tri cities, washington', 'yakima, washington',\n",
    "                       'olympia, washington',\n",
    "                       'miami', 'tampa', 'tampa bay', 'jacksonville', 'orlando', 'fl', 'florida', \n",
    "                       'miama, fl', 'tampa, fl', 'tampba bay, fl', 'jacksonville, fl', ' orlando, fl', \n",
    "                       'miama, florida', 'tampa, florida', 'tampba bay, florida', 'jacksonville, florida',\n",
    "                       ' orlando, florida']"
   ]
  },
  {
   "cell_type": "code",
   "execution_count": 8,
   "metadata": {},
   "outputs": [],
   "source": [
    "# Select only Tweets that have a user-defined location in our 'locationsofinterest' list\n",
    "valid_locs_location = [tweets[i]['user']['location'].lower().replace('\\n', ' ').replace('\\t', ' ').replace(r\"[^\\w\\s']\",' ').strip() \n",
    "                       in locationsofinterest for i in range(len(tweets))]\n",
    "valid_tweets_location = list(pd.Series(tweets)[valid_locs_location])"
   ]
  },
  {
   "cell_type": "markdown",
   "metadata": {},
   "source": [
    "### Filter Tweets by Geo-Coordinates Using Reverse GeoCoding"
   ]
  },
  {
   "cell_type": "code",
   "execution_count": 9,
   "metadata": {},
   "outputs": [],
   "source": [
    "# Function to Reverse GeoCode the coordinates to see if they are in Washington or Florida\n",
    "def reverseGeocode(coordinates): \n",
    "    result = rg.search(coordinates)\n",
    "    return result"
   ]
  },
  {
   "cell_type": "code",
   "execution_count": 10,
   "metadata": {},
   "outputs": [],
   "source": [
    "# Select only Tweets that have Geo-Coordinates\n",
    "valid_locs_coords = [tweets[i]['coordinates'] != None for i in range(len(tweets))]\n",
    "valid_tweets_coords = list(pd.Series(tweets)[valid_locs_coords])"
   ]
  },
  {
   "cell_type": "code",
   "execution_count": 11,
   "metadata": {},
   "outputs": [],
   "source": [
    "# Get a Tuple of all Geo-Coordinates to pass into the reverseGeocode function\n",
    "tuplecoords = [(valid_tweets_coords[i]['coordinates']['coordinates'][1], valid_tweets_coords[i]['coordinates']['coordinates'][0]) \n",
    "               for i in range(len(valid_tweets_coords))]"
   ]
  },
  {
   "cell_type": "code",
   "execution_count": 12,
   "metadata": {},
   "outputs": [],
   "source": [
    "# As a check, see where all valid tweet geo-coordinates are located\n",
    "geometry = [Point(xy) for xy in zip([valid_tweets_coords[i]['coordinates']['coordinates'][0] for i in range(len(valid_tweets_coords))],\n",
    "                                    [valid_tweets_coords[i]['coordinates']['coordinates'][1] for i in range(len(valid_tweets_coords))])]\n",
    "geodf = gpd.GeoDataFrame(geometry, columns = ['geometry'])"
   ]
  },
  {
   "cell_type": "code",
   "execution_count": 13,
   "metadata": {},
   "outputs": [
    {
     "name": "stdout",
     "output_type": "stream",
     "text": [
      "It looks like only 1 tweet is in Florida, and 0 are in Washington,\n",
      "so we should only capture one tweet\n"
     ]
    },
    {
     "data": {
      "image/png": "[encoded data removed]",
      "text/plain": [
       "<Figure size 864x864 with 1 Axes>"
      ]
     },
     "metadata": {
      "needs_background": "light"
     },
     "output_type": "display_data"
    }
   ],
   "source": [
    "# Plot the points!\n",
    "world = gpd.read_file(gpd.datasets.get_path('naturalearth_lowres'))\n",
    "\n",
    "geodf.plot(ax=world.plot(figsize=(12,12)), marker = 'o', color = 'red', markersize = 15, alpha = .7)  \n",
    "plt.title('Geographic Coordinates of Twitter Accounts with Tweets Related to COVID-19 & Social Distancing')\n",
    "plt.ylabel('Latitude')\n",
    "plt.xlabel('Longitude')\n",
    "print(\"It looks like only 1 tweet is in Florida, and 0 are in Washington,\\nso we should only capture one tweet\")"
   ]
  },
  {
   "cell_type": "code",
   "execution_count": 14,
   "metadata": {},
   "outputs": [
    {
     "name": "stdout",
     "output_type": "stream",
     "text": [
      "Loading formatted geocoded file...\n"
     ]
    }
   ],
   "source": [
    "# Store the place location of all the geo-coordinates\n",
    "result = []\n",
    "for i in range(len(valid_tweets_coords)):\n",
    "    result.append(reverseGeocode(tuplecoords[i]))"
   ]
  },
  {
   "cell_type": "code",
   "execution_count": 22,
   "metadata": {},
   "outputs": [],
   "source": [
    "# Use the 'admin1' variable from the reverseGeocode to determine the U.S. State of the tweet\n",
    "state = []\n",
    "for i in range(len(result)):\n",
    "    state.append(result[i][0]['admin1'])"
   ]
  },
  {
   "cell_type": "code",
   "execution_count": 23,
   "metadata": {},
   "outputs": [],
   "source": [
    "# Pick out the indices of the Tweets if the state is Florida or Washington\n",
    "flindices = [i for i, x in enumerate(state) if x == \"Florida\"]\n",
    "waindices = [i for i, x in enumerate(state) if x == 'Washington']"
   ]
  },
  {
   "cell_type": "code",
   "execution_count": 35,
   "metadata": {},
   "outputs": [
    {
     "name": "stdout",
     "output_type": "stream",
     "text": [
      "List of Tweet indices associated with Florida: [65]\n",
      "List of Tweet indices associated with Washington: []\n"
     ]
    }
   ],
   "source": [
    "print(\"List of Tweet indices associated with Florida: {}\\nList of Tweet indices associated with Washington: {}\".\n",
    "      format(flindices, waindices))"
   ]
  },
  {
   "cell_type": "markdown",
   "metadata": {},
   "source": [
    "#### We only have 1 valid tweet this time, which matches what we saw from the map."
   ]
  },
  {
   "cell_type": "code",
   "execution_count": 36,
   "metadata": {},
   "outputs": [],
   "source": [
    "# Combine the indices from Florida and Washington into one list\n",
    "valid_florida = list(pd.Series(valid_tweets_coords)[flindices])\n",
    "valid_washington = list(pd.Series(valid_tweets_coords)[waindices])\n",
    "valid_fl_or_wa = valid_florida + valid_washington"
   ]
  },
  {
   "cell_type": "markdown",
   "metadata": {},
   "source": [
    "### Combine all Valid Tweets, Select Only Relevant Variables, Convert to DataFrame, and Store Output as CSV"
   ]
  },
  {
   "cell_type": "code",
   "execution_count": 40,
   "metadata": {},
   "outputs": [],
   "source": [
    "# Further combine all valid geo-coordinates with all of the valid user-defined locations\n",
    "all_valid_tweets = valid_tweets_location+valid_fl_or_wa"
   ]
  },
  {
   "cell_type": "code",
   "execution_count": 41,
   "metadata": {},
   "outputs": [],
   "source": [
    "# Each Tweet has 163 variables but we really only need a few; Date created, text of tweet, retweeted text if available,\n",
    "# the location and coordinates\n",
    "created_at = [all_valid_tweets[i]['created_at'] for i in range(len(all_valid_tweets))]\n",
    "full_text = [all_valid_tweets[i]['full_text'] for i in range(len(all_valid_tweets))]\n",
    "userid = [all_valid_tweets[i]['user']['id'] for i in range(len(all_valid_tweets))]\n",
    "location = [all_valid_tweets[i]['user']['location'] for i in range(len(all_valid_tweets))]\n",
    "coordinates = [all_valid_tweets[i]['coordinates'] for i in range(len(all_valid_tweets))]\n",
    "retweeted_text = []\n",
    "for i in range(len(all_valid_tweets)):\n",
    "    try:\n",
    "        retweeted_text.append(all_valid_tweets[i]['retweeted_status']['full_text'])\n",
    "    except:\n",
    "        retweeted_text.append('n/a')"
   ]
  },
  {
   "cell_type": "code",
   "execution_count": 42,
   "metadata": {},
   "outputs": [
    {
     "data": {
      "text/html": [
       "<div>\n",
       "<style scoped>\n",
       "    .dataframe tbody tr th:only-of-type {\n",
       "        vertical-align: middle;\n",
       "    }\n",
       "\n",
       "    .dataframe tbody tr th {\n",
       "        vertical-align: top;\n",
       "    }\n",
       "\n",
       "    .dataframe thead th {\n",
       "        text-align: right;\n",
       "    }\n",
       "</style>\n",
       "<table border=\"1\" class=\"dataframe\">\n",
       "  <thead>\n",
       "    <tr style=\"text-align: right;\">\n",
       "      <th></th>\n",
       "      <th>created_at</th>\n",
       "      <th>full_text</th>\n",
       "      <th>userid</th>\n",
       "      <th>location</th>\n",
       "      <th>coordinates</th>\n",
       "      <th>retweeted_text</th>\n",
       "    </tr>\n",
       "  </thead>\n",
       "  <tbody>\n",
       "    <tr>\n",
       "      <td>0</td>\n",
       "      <td>Sat Feb 29 01:54:26 +0000 2020</td>\n",
       "      <td>RT @LRinaldiArt: The coronavirus outbreak has ...</td>\n",
       "      <td>8889522</td>\n",
       "      <td>Spokane, WA</td>\n",
       "      <td>None</td>\n",
       "      <td>The coronavirus outbreak has me thinking back ...</td>\n",
       "    </tr>\n",
       "    <tr>\n",
       "      <td>1</td>\n",
       "      <td>Sat Feb 29 01:08:55 +0000 2020</td>\n",
       "      <td>RT @Barton_options: A gentle reminder of the c...</td>\n",
       "      <td>287394890</td>\n",
       "      <td>Florida</td>\n",
       "      <td>None</td>\n",
       "      <td>A gentle reminder of the consequence of severe...</td>\n",
       "    </tr>\n",
       "    <tr>\n",
       "      <td>2</td>\n",
       "      <td>Sat Feb 29 01:46:17 +0000 2020</td>\n",
       "      <td>RT @SenSanders: Senator McConnell: Do not play...</td>\n",
       "      <td>3220025137</td>\n",
       "      <td>Seattle, WA</td>\n",
       "      <td>None</td>\n",
       "      <td>Senator McConnell: Do not play politics with o...</td>\n",
       "    </tr>\n",
       "    <tr>\n",
       "      <td>3</td>\n",
       "      <td>Sat Feb 29 01:38:44 +0000 2020</td>\n",
       "      <td>RT @AnnieGabstonH: President Trump says that w...</td>\n",
       "      <td>496536747</td>\n",
       "      <td>Florida</td>\n",
       "      <td>None</td>\n",
       "      <td>President Trump says that we have nothing to w...</td>\n",
       "    </tr>\n",
       "    <tr>\n",
       "      <td>4</td>\n",
       "      <td>Sat Feb 29 01:36:27 +0000 2020</td>\n",
       "      <td>@Cernovich ... and I thought I was being slick...</td>\n",
       "      <td>248742164</td>\n",
       "      <td>Tampa, FL</td>\n",
       "      <td>None</td>\n",
       "      <td>n/a</td>\n",
       "    </tr>\n",
       "  </tbody>\n",
       "</table>\n",
       "</div>"
      ],
      "text/plain": [
       "                       created_at  \\\n",
       "0  Sat Feb 29 01:54:26 +0000 2020   \n",
       "1  Sat Feb 29 01:08:55 +0000 2020   \n",
       "2  Sat Feb 29 01:46:17 +0000 2020   \n",
       "3  Sat Feb 29 01:38:44 +0000 2020   \n",
       "4  Sat Feb 29 01:36:27 +0000 2020   \n",
       "\n",
       "                                           full_text      userid     location  \\\n",
       "0  RT @LRinaldiArt: The coronavirus outbreak has ...     8889522  Spokane, WA   \n",
       "1  RT @Barton_options: A gentle reminder of the c...   287394890      Florida   \n",
       "2  RT @SenSanders: Senator McConnell: Do not play...  3220025137  Seattle, WA   \n",
       "3  RT @AnnieGabstonH: President Trump says that w...   496536747      Florida   \n",
       "4  @Cernovich ... and I thought I was being slick...   248742164    Tampa, FL   \n",
       "\n",
       "  coordinates                                     retweeted_text  \n",
       "0        None  The coronavirus outbreak has me thinking back ...  \n",
       "1        None  A gentle reminder of the consequence of severe...  \n",
       "2        None  Senator McConnell: Do not play politics with o...  \n",
       "3        None  President Trump says that we have nothing to w...  \n",
       "4        None                                                n/a  "
      ]
     },
     "execution_count": 42,
     "metadata": {},
     "output_type": "execute_result"
    }
   ],
   "source": [
    "# Store the selected variables in a dataframe\n",
    "output = pd.DataFrame({'created_at':created_at,'full_text':full_text,'userid':userid,'location':location,\n",
    "             'coordinates':coordinates,'retweeted_text':retweeted_text})\n",
    "output.head()"
   ]
  },
  {
   "cell_type": "code",
   "execution_count": null,
   "metadata": {},
   "outputs": [],
   "source": [
    "# Save the valid tweets that will later be used for analysis as a csv file\n",
    "output.to_csv(\"C:\\\\Users\\\\John\\Desktop\\\\MSIM\\\\Spring Quarter 2020\\\\IMT 575\\\\Group Project\\\\twitter data sets\\\\CsvOutputs\\\\\"+sample+\".csv\",\n",
    "             encoding='utf-8', index=False)"
   ]
  }
 ],
 "metadata": {
  "kernelspec": {
   "display_name": "Python 3",
   "language": "python",
   "name": "python3"
  },
  "language_info": {
   "codemirror_mode": {
    "name": "ipython",
    "version": 3
   },
   "file_extension": ".py",
   "mimetype": "text/x-python",
   "name": "python",
   "nbconvert_exporter": "python",
   "pygments_lexer": "ipython3",
   "version": "3.7.4"
  }
 },
 "nbformat": 4,
 "nbformat_minor": 2
}
