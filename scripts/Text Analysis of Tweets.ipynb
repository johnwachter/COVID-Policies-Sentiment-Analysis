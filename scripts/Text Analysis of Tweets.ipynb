{
 "cells": [
  {
   "cell_type": "markdown",
   "metadata": {},
   "source": [
    "# Topic Modeling and Sentiment Analysis!\n",
    "## After Cleaning up Tweets, We Can Clean up the Text and Perform Topic Modeling Using Latent Dirichlet Allocation and Sentiment Analysis Using the Vader Package"
   ]
  },
  {
   "cell_type": "code",
   "execution_count": 17,
   "metadata": {},
   "outputs": [
    {
     "name": "stderr",
     "output_type": "stream",
     "text": [
      "[nltk_data] Downloading package stopwords to\n",
      "[nltk_data]     C:\\Users\\John\\AppData\\Roaming\\nltk_data...\n",
      "[nltk_data]   Package stopwords is already up-to-date!\n",
      "[nltk_data] Downloading package wordnet to\n",
      "[nltk_data]     C:\\Users\\John\\AppData\\Roaming\\nltk_data...\n",
      "[nltk_data]   Unzipping corpora\\wordnet.zip.\n"
     ]
    }
   ],
   "source": [
    "import pandas as pd\n",
    "import numpy as np\n",
    "from pathlib import Path\n",
    "import matplotlib.pyplot as plt\n",
    "import seaborn as sns\n",
    "import string\n",
    "import nltk\n",
    "nltk.download('stopwords')\n",
    "nltk.download('wordnet')\n",
    "from nltk.corpus import stopwords\n",
    "from nltk.stem import PorterStemmer\n",
    "from nltk.stem.snowball import EnglishStemmer\n",
    "from nltk.stem.lancaster import LancasterStemmer\n",
    "from sklearn.feature_extraction.text import CountVectorizer\n",
    "from sklearn.feature_extraction.text import TfidfVectorizer\n",
    "from sklearn.decomposition import LatentDirichletAllocation as LDA\n",
    "import pyLDAvis\n",
    "import pyLDAvis.sklearn\n",
    "from sklearn.metrics import roc_curve\n",
    "from sklearn.metrics import roc_auc_score\n",
    "import sklearn.metrics as metrics\n",
    "import os\n",
    "pd.set_option('display.max_columns', 500)\n",
    "import re\n",
    "import string\n",
    "from vaderSentiment.vaderSentiment import SentimentIntensityAnalyzer"
   ]
  },
  {
   "cell_type": "code",
   "execution_count": 21,
   "metadata": {},
   "outputs": [],
   "source": [
    "# Read in data\n",
    "Tweets = pd.read_csv(\"twitter data sets//covid_tweets_fl_wa.csv\")"
   ]
  },
  {
   "cell_type": "code",
   "execution_count": 22,
   "metadata": {},
   "outputs": [],
   "source": [
    "# Set 'created_at' to a datetime\n",
    "Tweets['created_at'] = pd.to_datetime(Tweets['created_at'])"
   ]
  },
  {
   "cell_type": "markdown",
   "metadata": {},
   "source": [
    "# Text Pre-Processing"
   ]
  },
  {
   "cell_type": "code",
   "execution_count": 23,
   "metadata": {},
   "outputs": [],
   "source": [
    "stopwords = stopwords.words('english')"
   ]
  },
  {
   "cell_type": "code",
   "execution_count": 24,
   "metadata": {},
   "outputs": [],
   "source": [
    "extrastopwords_mod1 = ['https', 'rt', 'april', 'jan', 'amp', 'co', '19', 'coronavirus', 'corona', 'covid', 'covid19',\n",
    "                 'has', 'de', 'la', 'like', 'amp']\n",
    "\n",
    "extrastopwords_mod2 = ['https', 'rt', 'april', 'jan', 'amp', 'co', '19', 'coronavirus', 'corona', 'covid', 'covid19',\n",
    "                 'has', 'de', 'la', 'like', 'amp', 'pandemic', 'outbreak', 'virus', 'china', 'crisis', 'disease']"
   ]
  },
  {
   "cell_type": "code",
   "execution_count": 25,
   "metadata": {},
   "outputs": [],
   "source": [
    "stopwords_1 = stopwords+extrastopwords_mod1\n",
    "stopwords_1 = [stopwords_1[i].lower() for i in range(len(stopwords_1))]\n",
    "stopwords_1 = [stopwords_1[i].replace('\\n', ' ') for i in range(len(stopwords_1))]\n",
    "stopwords_1 = [stopwords_1[i].replace('\\t', ' ') for i in range(len(stopwords_1))]\n",
    "stopwords_1 = [stopwords_1[i].replace(r\"[^\\w\\s']\", ' ') for i in range(len(stopwords_1))]\n",
    "stopwords_1 = [stopwords_1[i].strip() for i in range(len(stopwords_1))]"
   ]
  },
  {
   "cell_type": "code",
   "execution_count": 26,
   "metadata": {},
   "outputs": [],
   "source": [
    "stopwords_2 = stopwords+extrastopwords_mod2\n",
    "stopwords_2 = [stopwords_2[i].lower() for i in range(len(stopwords_2))]\n",
    "stopwords_2 = [stopwords_2[i].replace('\\n', ' ') for i in range(len(stopwords_2))]\n",
    "stopwords_2 = [stopwords_2[i].replace('\\t', ' ') for i in range(len(stopwords_2))]\n",
    "stopwords_2 = [stopwords_2[i].replace(r\"[^\\w\\s']\", ' ') for i in range(len(stopwords_2))]\n",
    "stopwords_2 = [stopwords_2[i].strip() for i in range(len(stopwords_2))]"
   ]
  },
  {
   "cell_type": "code",
   "execution_count": 27,
   "metadata": {},
   "outputs": [],
   "source": [
    "# Pull out just the tweets as a Series\n",
    "tweet_text = Tweets['Full Tweet']"
   ]
  },
  {
   "cell_type": "code",
   "execution_count": 28,
   "metadata": {},
   "outputs": [],
   "source": [
    "# Lemmatize\n",
    "wn = nltk.WordNetLemmatizer()\n",
    "tweet_text = Tweets['Full Tweet'].apply(lambda x: ' '.join(\n",
    "    [wn.lemmatize(word) for word in x.split() if word not in stopwords_1]))"
   ]
  },
  {
   "cell_type": "code",
   "execution_count": 29,
   "metadata": {},
   "outputs": [],
   "source": [
    "tweet_text = tweet_text.str.lower()\n",
    "tweet_text = tweet_text.str.replace('\\n', ' ')\n",
    "tweet_text = tweet_text.str.replace('\\t', ' ')\n",
    "tweet_text = tweet_text.str.replace(r\"[^\\w\\s']\", ' ')\n",
    "tweet_text = tweet_text.str.strip()\n",
    "tweet_text = tweet_text[~tweet_text.isnull()]"
   ]
  },
  {
   "cell_type": "markdown",
   "metadata": {},
   "source": [
    "# Model 1: Bigrams & TFIDF + Stopwords 1"
   ]
  },
  {
   "cell_type": "code",
   "execution_count": 10,
   "metadata": {},
   "outputs": [],
   "source": [
    "# Tokenize the words using term frequency inverse document frequency and bigrams\n",
    "# Create a vectorizer from sklearn.\n",
    "tfidf_vectorizer_1 = TfidfVectorizer(ngram_range = (1,2), stop_words = stopwords_1)\n",
    "\n",
    "# Fit the tfidf vectorizer on the bigram tweets and vectorize\n",
    "tfidf_bigrams_matrix_1 = tfidf_vectorizer_1.fit_transform(tweet_text)\n",
    "\n",
    "# Get a list of the 'tokens'\n",
    "tfidf__bigrams_words_1 = tfidf_vectorizer_1.get_feature_names()"
   ]
  },
  {
   "cell_type": "code",
   "execution_count": null,
   "metadata": {},
   "outputs": [],
   "source": [
    "tfidf_bigrams_matrix_1.shape"
   ]
  },
  {
   "cell_type": "markdown",
   "metadata": {},
   "source": [
    "# Model 2: Bigrams & TFIDF + Stopwords 2"
   ]
  },
  {
   "cell_type": "code",
   "execution_count": null,
   "metadata": {},
   "outputs": [],
   "source": [
    "# Tokenize the words using term frequency inverse document frequency and bigrams\n",
    "# Create a vectorizer from sklearn.\n",
    "tfidf_vectorizer_2 = TfidfVectorizer(ngram_range = (1,2), stop_words = stopwords_2)\n",
    "\n",
    "# Fit the tfidf vectorizer on the bigram tweets and vectorize\n",
    "tfidf_bigrams_matrix_2 = tfidf_vectorizer_2.fit_transform(tweet_text)\n",
    "\n",
    "# Get a list of the 'tokens'\n",
    "tfidf__bigrams_words_2 = tfidf_vectorizer_2.get_feature_names()"
   ]
  },
  {
   "cell_type": "code",
   "execution_count": null,
   "metadata": {},
   "outputs": [],
   "source": [
    "tfidf_bigrams_matrix_2.shape"
   ]
  },
  {
   "cell_type": "markdown",
   "metadata": {},
   "source": [
    "# Model 3: Unigrams & TFIDF + Stopwords 1"
   ]
  },
  {
   "cell_type": "code",
   "execution_count": null,
   "metadata": {},
   "outputs": [],
   "source": [
    "# Tokenize the words using term frequency inverse document frequency and unigrams\n",
    "# Create a vectorizer from sklearn.\n",
    "tfidf_vectorizer_3 = TfidfVectorizer(stop_words = stopwords_1)\n",
    "\n",
    "# Fit the tfidf vectorizer on the bigram tweets and vectorize\n",
    "tfidf_unigrams_matrix_1 = tfidf_vectorizer_3.fit_transform(tweet_text)\n",
    "\n",
    "# Get a list of the 'tokens'\n",
    "tfidf__unigrams_words_1 = tfidf_vectorizer_3.get_feature_names()"
   ]
  },
  {
   "cell_type": "code",
   "execution_count": null,
   "metadata": {},
   "outputs": [],
   "source": [
    "tfidf_unigrams_matrix_1.shape"
   ]
  },
  {
   "cell_type": "markdown",
   "metadata": {},
   "source": [
    "# Model 4: Unigrams & TFIDF + Stopwords 2"
   ]
  },
  {
   "cell_type": "code",
   "execution_count": null,
   "metadata": {},
   "outputs": [],
   "source": [
    "# Tokenize the words using term frequency inverse document frequency and unigrams\n",
    "# Create a vectorizer from sklearn.\n",
    "tfidf_vectorizer_4 = TfidfVectorizer(stop_words = stopwords_2)\n",
    "\n",
    "# Fit the tfidf vectorizer on the bigram tweets and vectorize\n",
    "tfidf_unigrams_matrix_2 = tfidf_vectorizer_4.fit_transform(tweet_text)\n",
    "\n",
    "# Get a list of the 'tokens'\n",
    "tfidf__unigrams_words_2 = tfidf_vectorizer_4.get_feature_names()"
   ]
  },
  {
   "cell_type": "code",
   "execution_count": null,
   "metadata": {},
   "outputs": [],
   "source": [
    "tfidf_unigrams_matrix_2.shape"
   ]
  },
  {
   "cell_type": "markdown",
   "metadata": {},
   "source": [
    "# Perplexity Scoring: \n",
    "### Statistical measure of how well a probability model predicts a sample.\n",
    "\n",
    "### The statistic is somewhat meaningless on its own. The benefit of this statistic comes in comparing perplexity across different models with varying components. The model with the lowest perplexity is generally considered the “best”.\n",
    "#### https://cfss.uchicago.edu/notes/topic-modeling/"
   ]
  },
  {
   "cell_type": "code",
   "execution_count": 11,
   "metadata": {},
   "outputs": [
    {
     "name": "stdout",
     "output_type": "stream",
     "text": [
      "Working on: 3\n",
      "Working on: 4\n",
      "Working on: 5\n",
      "Working on: 6\n",
      "Working on: 7\n",
      "Working on: 8\n",
      "Working on: 9\n"
     ]
    }
   ],
   "source": [
    "# Perplexity for mod1\n",
    "perps_1 = []\n",
    "logliks_1 = []\n",
    "for i in np.arange(3,10):\n",
    "    print('Working on:', i)\n",
    "    lda = LDA(n_components = i)\n",
    "    lda.fit(tfidf_bigrams_matrix_1)\n",
    "    perps_1.append(lda.perplexity(tfidf_bigrams_matrix_1))\n",
    "    logliks_1.append(lda.score(tfidf_bigrams_matrix_1))"
   ]
  },
  {
   "cell_type": "code",
   "execution_count": 13,
   "metadata": {},
   "outputs": [
    {
     "data": {
      "text/plain": [
       "[<matplotlib.lines.Line2D at 0x27b9f8c6b88>]"
      ]
     },
     "execution_count": 13,
     "metadata": {},
     "output_type": "execute_result"
    },
    {
     "data": {
      "image/png": "[encoded data removed]",
      "text/plain": [
       "<Figure size 432x288 with 1 Axes>"
      ]
     },
     "metadata": {
      "needs_background": "light"
     },
     "output_type": "display_data"
    }
   ],
   "source": [
    "plt.title('Perplexity Scores For A Variety of Number of Topics')\n",
    "plt.ylabel('Number of Topics')\n",
    "plt.xlabel('Perplexity Score')\n",
    "plt.xticks(rotation='vertical')\n",
    "plt.plot(perps_1, np.arange(3,10))"
   ]
  },
  {
   "cell_type": "code",
   "execution_count": null,
   "metadata": {},
   "outputs": [],
   "source": [
    "# Perplexity for mod2\n",
    "perps_2 = []\n",
    "logliks_2 = []\n",
    "for i in np.arange(3,10):\n",
    "    print('Working on:', i)\n",
    "    lda = LDA(n_components = i)\n",
    "    lda.fit(tfidf_bigrams_matrix_2)\n",
    "    perps_2.append(lda.perplexity(tfidf_bigrams_matrix_2))\n",
    "    logliks_2.append(lda.score(tfidf_bigrams_matrix_2))"
   ]
  },
  {
   "cell_type": "code",
   "execution_count": null,
   "metadata": {},
   "outputs": [],
   "source": [
    "plt.plot(perps_2, np.arange(3,10))"
   ]
  },
  {
   "cell_type": "code",
   "execution_count": null,
   "metadata": {},
   "outputs": [],
   "source": [
    "# Perplexity for mod3\n",
    "perps_3 = []\n",
    "logliks_3 = []\n",
    "for i in np.arange(3,10):\n",
    "    print('Working on:', i)\n",
    "    lda = LDA(n_components = i)\n",
    "    lda.fit(tfidf_unigrams_matrix_1)\n",
    "    perps_3.append(lda.perplexity(tfidf_unigrams_matrix_1))\n",
    "    logliks_3.append(lda.score(tfidf_unigrams_matrix_1))"
   ]
  },
  {
   "cell_type": "code",
   "execution_count": null,
   "metadata": {},
   "outputs": [],
   "source": [
    "plt.plot(perps_3, np.arange(3,10))"
   ]
  },
  {
   "cell_type": "code",
   "execution_count": null,
   "metadata": {},
   "outputs": [],
   "source": [
    "# Perplexity for mod4\n",
    "perps_4 = []\n",
    "logliks_4 = []\n",
    "for i in np.arange(3,10):\n",
    "    print('Working on:', i)\n",
    "    lda = LDA(n_components = i)\n",
    "    lda.fit(tfidf_unigrams_matrix_2)\n",
    "    perps_4.append(lda.perplexity(tfidf_unigrams_matrix_2))\n",
    "    logliks_4.append(lda.score(tfidf_unigrams_matrix_2))"
   ]
  },
  {
   "cell_type": "code",
   "execution_count": null,
   "metadata": {},
   "outputs": [],
   "source": [
    "plt.plot(perps_4, np.arange(3,10))"
   ]
  },
  {
   "cell_type": "markdown",
   "metadata": {},
   "source": [
    "# Latent Dirichlet Allocation Models"
   ]
  },
  {
   "cell_type": "code",
   "execution_count": null,
   "metadata": {},
   "outputs": [],
   "source": [
    "# LDA for Bigrams & TFIDF Stopwords 1\n",
    "lda = LDA(n_components = 3, random_state = 1)\n",
    "lda.fit(tfidf_bigrams_matrix_1)\n",
    "ldaOut = lda.transform(tfidf_bigrams_matrix_1)\n",
    "p1 = pyLDAvis.sklearn.prepare(lda, tfidf_bigrams_matrix_1, tfidf_vectorizer_1)\n",
    "pyLDAvis.save_html(p1, 'LDA_Vis_Mod1.html')"
   ]
  },
  {
   "cell_type": "code",
   "execution_count": null,
   "metadata": {},
   "outputs": [],
   "source": [
    "# LDA for Bigrams & TFIDF Stopwords 2\n",
    "lda = LDA(n_components = 3, random_state = 1)\n",
    "lda.fit(tfidf_bigrams_matrix_2)\n",
    "ldaOut = lda.transform(tfidf_bigrams_matrix_2)\n",
    "p2 = pyLDAvis.sklearn.prepare(lda, tfidf_bigrams_matrix_2, tfidf_vectorizer_2)\n",
    "pyLDAvis.save_html(p2, 'LDA_Vis_Mod2.html')"
   ]
  },
  {
   "cell_type": "code",
   "execution_count": null,
   "metadata": {},
   "outputs": [],
   "source": [
    "# LDA for Unigrams & TFIDF Stopwords 1 \n",
    "lda = LDA(n_components = 3, random_state = 1)\n",
    "lda.fit(tfidf_unigrams_matrix_1)\n",
    "ldaOut = lda.transform(tfidf_unigrams_matrix_1)\n",
    "p3 = pyLDAvis.sklearn.prepare(lda, tfidf_unigrams_matrix_1, tfidf_vectorizer_3)\n",
    "pyLDAvis.save_html(p3, 'LDA_Vis_Mod3.html')"
   ]
  },
  {
   "cell_type": "code",
   "execution_count": null,
   "metadata": {},
   "outputs": [],
   "source": [
    "# LDA for Unigrams & TFIDF Stopwords 2 \n",
    "lda = LDA(n_components = 3, random_state = 1)\n",
    "lda.fit(tfidf_unigrams_matrix_2)\n",
    "ldaOut = lda.transform(tfidf_unigrams_matrix_2)\n",
    "p4 = pyLDAvis.sklearn.prepare(lda, tfidf_unigrams_matrix_2, tfidf_vectorizer_4)\n",
    "pyLDAvis.save_html(p4, 'LDA_Vis_Mod4.html')"
   ]
  },
  {
   "cell_type": "markdown",
   "metadata": {},
   "source": [
    "# After Reviewing LDA Models, Model 1 was Chosen as the 'Best' Model Due to Cleanest Split Among Topics"
   ]
  },
  {
   "cell_type": "code",
   "execution_count": null,
   "metadata": {},
   "outputs": [],
   "source": [
    "# LDA for Bigrams & TFIDF Stopwords 1\n",
    "lda = LDA(n_components = 3, random_state = 1)\n",
    "lda.fit(tfidf_bigrams_matrix_1)\n",
    "ldaOut = lda.transform(tfidf_bigrams_matrix_1)\n",
    "p1 = pyLDAvis.sklearn.prepare(lda, tfidf_bigrams_matrix_1, tfidf_vectorizer_1)\n",
    "pyLDAvis.save_html(p1, 'LDA_Vis_Mod1.html')"
   ]
  },
  {
   "cell_type": "code",
   "execution_count": null,
   "metadata": {},
   "outputs": [],
   "source": [
    "Tweets['Topic']=ldaOut.argmax(axis=1)"
   ]
  },
  {
   "cell_type": "code",
   "execution_count": null,
   "metadata": {},
   "outputs": [],
   "source": [
    "Tweets.replace({'Topic' : { 0 : 1, 1 : 2, 2 : 3 }}, inplace=True)"
   ]
  },
  {
   "cell_type": "code",
   "execution_count": null,
   "metadata": {},
   "outputs": [],
   "source": [
    "Tweets.to_csv('Tweets.csv')"
   ]
  },
  {
   "cell_type": "markdown",
   "metadata": {},
   "source": [
    "# Sentiment Analysis"
   ]
  },
  {
   "cell_type": "markdown",
   "metadata": {},
   "source": [
    "## Sentiment Analysis Pt. 1 - Logistic Regression"
   ]
  },
  {
   "cell_type": "code",
   "execution_count": 31,
   "metadata": {},
   "outputs": [],
   "source": [
    "#read in data \n",
    "T_data=pd.read_csv('train.csv',encoding = \"ISO_8859-1:1987\")"
   ]
  },
  {
   "cell_type": "code",
   "execution_count": null,
   "metadata": {},
   "outputs": [],
   "source": [
    "len(WA)+len(FL)"
   ]
  },
  {
   "cell_type": "code",
   "execution_count": null,
   "metadata": {},
   "outputs": [],
   "source": [
    "len(T_data)"
   ]
  },
  {
   "cell_type": "code",
   "execution_count": null,
   "metadata": {},
   "outputs": [],
   "source": [
    "#remove the \"news\" tweets  \n",
    "T_data=T_data.loc[T_data['sentiment']!= 2]"
   ]
  },
  {
   "cell_type": "code",
   "execution_count": null,
   "metadata": {},
   "outputs": [],
   "source": [
    "len(T_data)"
   ]
  },
  {
   "cell_type": "code",
   "execution_count": null,
   "metadata": {},
   "outputs": [],
   "source": [
    "#clean tweets \n",
    "def remove_punct(text):\n",
    "    text  = \"\".join([char for char in text if char not in string.punctuation])\n",
    "    text = re.sub('[0-9]+', '', text)\n",
    "    return text\n",
    "\n",
    "T_data['tweets'] = T_data['message'].apply(lambda x: remove_punct(x.lower()))\n",
    "FL['tweets'] = FL['derived_text'].apply(lambda x: remove_punct(x.lower()))\n",
    "WA['tweets'] = WA['derived_text'].apply(lambda x: remove_punct(x.lower()))\n",
    "\n",
    "\n",
    "T_data['tweets'] = T_data['tweets'].str.replace(\"[^a-zA-Z#]\", \" \")\n",
    "FL['tweets'] = FL['tweets'].str.replace(\"[^a-zA-Z#]\", \" \")\n",
    "WA['tweets'] = WA['tweets'].str.replace(\"[^a-zA-Z#]\", \" \")"
   ]
  },
  {
   "cell_type": "code",
   "execution_count": null,
   "metadata": {},
   "outputs": [],
   "source": [
    "#stops and stemmers\n",
    "stop_words = set(stopwords.words('english'))\n",
    "stop_words.update(('i','ve','ll','m','t','rt'))\n",
    "ps = nltk.PorterStemmer()\n",
    "wn = nltk.WordNetLemmatizer()\n",
    "\n",
    "\n",
    "T_data['tweets'] = T_data['tweets'].apply(lambda x: ' '.join(\n",
    "    [wn.lemmatize(word) for word in x.split() if word not in stop_words]))\n",
    "T_data['tweets'] = T_data['tweets'].apply(lambda x: ' '.join(\n",
    "    [ps.stem(word) for word in x.split() if word not in stop_words]))\n",
    "#come back and check for single chracters \n",
    "\n",
    "#FL\n",
    "\n",
    "FL['tweets'] = FL['tweets'].apply(lambda x: ' '.join(\n",
    "    [wn.lemmatize(word) for word in x.split() if word not in stop_words]))\n",
    "FL['tweets'] = FL['tweets'].apply(lambda x: ' '.join(\n",
    "    [ps.stem(word) for word in x.split() if word not in stop_words]))\n",
    "\n",
    "#WA\n",
    "\n",
    "WA['tweets'] = WA['tweets'].apply(lambda x: ' '.join(\n",
    "    [wn.lemmatize(word) for word in x.split() if word not in stop_words]))\n",
    "WA['tweets'] = WA['tweets'].apply(lambda x: ' '.join(\n",
    "    [ps.stem(word) for word in x.split() if word not in stop_words]))"
   ]
  },
  {
   "cell_type": "code",
   "execution_count": null,
   "metadata": {},
   "outputs": [],
   "source": [
    "#bag of words fit\n",
    "vec = CountVectorizer(ngram_range=(1, 1), max_df=10000, min_df=2,stop_words='english')\n",
    "vec.fit(T_data['tweets'])\n",
    "bag_of_words = vec.transform(T_data['tweets'])\n",
    "bow_WA = vec.transform(WA['tweets'])\n",
    "bow_FL = vec.transform(FL['tweets'])"
   ]
  },
  {
   "cell_type": "code",
   "execution_count": null,
   "metadata": {},
   "outputs": [],
   "source": [
    "#TFIDF fit\n",
    "from sklearn.feature_extraction.text import TfidfVectorizer\n",
    "tfidf_vectorizer = TfidfVectorizer(max_df=10000, min_df=2,\n",
    "                                   stop_words='english')\n",
    "tfidf_vectorizer.fit(T_data['tweets'])\n",
    "TFIDF = tfidf_vectorizer.transform(T_data['tweets'])\n",
    "TFIDF_WA = tfidf_vectorizer.transform(WA['tweets'])\n",
    "TFIDF_FL = tfidf_vectorizer.transform(FL['tweets'])"
   ]
  },
  {
   "cell_type": "code",
   "execution_count": null,
   "metadata": {},
   "outputs": [],
   "source": [
    "#split data\n",
    "from sklearn.linear_model import LogisticRegression\n",
    "from sklearn.model_selection import train_test_split\n",
    "\n",
    "train_labels=T_data[['sentiment']].values.ravel()\n",
    "\n",
    "\n",
    "X_train, X_test, y_train, y_test = train_test_split(TFIDF, train_labels,\n",
    "                                                    test_size = 0.3, random_state = 0)"
   ]
  },
  {
   "cell_type": "code",
   "execution_count": null,
   "metadata": {},
   "outputs": [],
   "source": [
    "#log reg\n",
    "from sklearn.linear_model import LogisticRegression\n",
    "from sklearn.metrics import accuracy_score\n",
    "#from sklearn import cross_validation\n",
    "scikit_log_reg = LogisticRegression(max_iter=1000)\n",
    "scikit_log_reg.fit(X_train,y_train)\n",
    "predictions = scikit_log_reg.predict(X_test)\n",
    "acc=accuracy_score(y_test, predictions)\n",
    "\n",
    "predictionsWA = scikit_log_reg.predict(TFIDF_WA)\n",
    "predictionsFL = scikit_log_reg.predict(TFIDF_FL)\n",
    "print(acc)"
   ]
  },
  {
   "cell_type": "code",
   "execution_count": null,
   "metadata": {},
   "outputs": [],
   "source": [
    "FL['Predicted']=predictionsFL\n",
    "FL['Predicted'].value_counts()"
   ]
  },
  {
   "cell_type": "code",
   "execution_count": null,
   "metadata": {},
   "outputs": [],
   "source": [
    "WA['Predicted']=predictionsWA\n",
    "WA['Predicted'].value_counts()"
   ]
  },
  {
   "cell_type": "code",
   "execution_count": null,
   "metadata": {},
   "outputs": [],
   "source": [
    "sns.countplot(predictionsWA, palette=\"Blues_r\")\n",
    "plt.title('WA Sentiment')\n",
    "plt.xlabel('Sentiment Type')"
   ]
  },
  {
   "cell_type": "code",
   "execution_count": null,
   "metadata": {},
   "outputs": [],
   "source": [
    "sns.countplot(predictionsFL, palette=\"Blues_r\")\n",
    "plt.title('FL Sentiment')\n",
    "plt.xlabel('Sentiment Type')"
   ]
  },
  {
   "cell_type": "markdown",
   "metadata": {},
   "source": [
    "## Sentiment Analysis Pt. 2 - Vader\n",
    "### Vader: https://github.com/cjhutto/vaderSentiment#introduction"
   ]
  },
  {
   "cell_type": "code",
   "execution_count": null,
   "metadata": {},
   "outputs": [],
   "source": [
    "# Read in Tweets\n",
    "covid = pd.read_csv('Tweets.csv')"
   ]
  },
  {
   "cell_type": "code",
   "execution_count": null,
   "metadata": {},
   "outputs": [],
   "source": [
    "# Remove line breaks\n",
    "covid['Full Tweet']=covid['Full Tweet'].replace('\\n', ' ', regex=True)"
   ]
  },
  {
   "cell_type": "code",
   "execution_count": null,
   "metadata": {},
   "outputs": [],
   "source": [
    "# Use Vader to build the analyzer\n",
    "analyzer = SentimentIntensityAnalyzer()\n",
    "\n",
    "covid['rating'] = covid['Full Tweet'].apply(analyzer.polarity_scores)\n",
    "sentiment=pd.concat([covid.drop(['rating'], axis=1), covid['rating'].apply(pd.Series)], axis=1)"
   ]
  },
  {
   "cell_type": "code",
   "execution_count": null,
   "metadata": {},
   "outputs": [],
   "source": [
    "sentiment.head(5)"
   ]
  },
  {
   "cell_type": "code",
   "execution_count": null,
   "metadata": {},
   "outputs": [],
   "source": [
    "sentiment.loc[sentiment['compound'] >= 0.05, 'Sentiment'] = 1\n",
    "\n",
    "sentiment.loc[(sentiment['compound'] > -0.05)&(sentiment['compound'] < 0.05), 'Sentiment'] = 0\n",
    "sentiment.loc[sentiment['compound'] <= -0.05, 'Sentiment'] = -1"
   ]
  },
  {
   "cell_type": "code",
   "execution_count": null,
   "metadata": {},
   "outputs": [],
   "source": [
    "sentiment.columns"
   ]
  },
  {
   "cell_type": "code",
   "execution_count": null,
   "metadata": {},
   "outputs": [],
   "source": [
    "sentiment.drop(['Unnamed: 0','neg', 'neu', 'pos', 'compound'], axis=1, inplace=True)"
   ]
  },
  {
   "cell_type": "code",
   "execution_count": null,
   "metadata": {},
   "outputs": [],
   "source": [
    "df = sentiment\n",
    "x, y, hue = \"Topic\", \"Proportion\", \"States_Coordinates\"\n",
    "hue_order = [\"Washington\", \"Florida\"]\n",
    "palette = sns.color_palette(['#ff9000','#4E78A0'])\n",
    "\n",
    "ax=(df[x]\n",
    " .groupby(df[hue])\n",
    " .value_counts(normalize=True)\n",
    " .rename(y)\n",
    " .reset_index()\n",
    " .pipe((sns.barplot, \"data\"), x=x, y=y, hue=hue, palette= palette))\n",
    "\n",
    "ax.set_title('Topic Usage')\n",
    "ax.legend(title=\"State\")\n",
    "fig1= ax.get_figure()"
   ]
  },
  {
   "cell_type": "code",
   "execution_count": null,
   "metadata": {},
   "outputs": [],
   "source": [
    "x, y, hue = \"Sentiment\", \"Proportion\", \"States_Coordinates\"\n",
    "hue_order = [\"Washington\", \"Florida\"]\n",
    "palette = sns.color_palette(['#ff9000','#4E78A0'])\n",
    "\n",
    "ax=(df[x]\n",
    " .groupby(df[hue])\n",
    " .value_counts(normalize=True)\n",
    " .rename(y)\n",
    " .reset_index()\n",
    " .pipe((sns.barplot, \"data\"), x=x, y=y, hue=hue,palette= palette))\n",
    "\n",
    "ax.set_title('Sentiment Usage')\n",
    "ax.legend(title=\"State\")\n",
    "fig1= ax.get_figure()"
   ]
  }
 ],
 "metadata": {
  "kernelspec": {
   "display_name": "Python 3",
   "language": "python",
   "name": "python3"
  },
  "language_info": {
   "codemirror_mode": {
    "name": "ipython",
    "version": 3
   },
   "file_extension": ".py",
   "mimetype": "text/x-python",
   "name": "python",
   "nbconvert_exporter": "python",
   "pygments_lexer": "ipython3",
   "version": "3.7.4"
  }
 },
 "nbformat": 4,
 "nbformat_minor": 2
}
